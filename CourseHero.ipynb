{
 "cells": [
  {
   "cell_type": "code",
   "execution_count": 3,
   "metadata": {},
   "outputs": [
    {
     "name": "stdout",
     "output_type": "stream",
     "text": [
      "Error: Invalid number of arguments\n"
     ]
    },
    {
     "ename": "SystemExit",
     "evalue": "1",
     "output_type": "error",
     "traceback": [
      "An exception has occurred, use %tb to see the full traceback.\n",
      "\u001b[0;31mSystemExit\u001b[0m\u001b[0;31m:\u001b[0m 1\n"
     ]
    }
   ],
   "source": [
    "import sys\n",
    "\n",
    "def construct_tm_dictionary(fname):\n",
    "    \"\"\"\n",
    "    Reads a text file containing the transition rules for a Turing machine,\n",
    "    and returns a dictionary containing those rules.\n",
    "\n",
    "    :param fname: The name of the file containing the transition rules\n",
    "    :return: A dictionary mapping tuples of (state, read character) to\n",
    "             tuples of (new state, write character, move direction)\n",
    "    \"\"\"\n",
    "\n",
    "    # Your code here\n",
    "    f = open(fname, 'r')\n",
    "    tm_dictionary = {}\n",
    "    for line in f:\n",
    "        # process each line in the file\n",
    "        # split the line into a list of elements\n",
    "        elements = line.split()\n",
    "        # create a key using the state and read character\n",
    "        # and create a value using the new state, write character, and move direction\n",
    "        key = (elements[0], elements[1])\n",
    "        value = (elements[2], elements[3], elements[4])\n",
    "        # add the key and value to the dictionary\n",
    "        tm_dictionary[key] = value\n",
    "\n",
    "    return tm_dictionary\n",
    "\n",
    "def print_tape(tape):\n",
    "    \"\"\"\n",
    "    Prints the tape contents in two lines, with the read/write head indicated by ^\n",
    "\n",
    "    :param tape: A tuple of (tape content, read/write head position)\n",
    "    :return: None\n",
    "    \"\"\"\n",
    "\n",
    "    # Your code here\n",
    "    content, rwheadPosition = tape\n",
    "    print(content[:rwheadPosition] + \"^\" + content[rwheadPosition:])\n",
    "    print(\" \" * rwheadPosition + \"|\")\n",
    "\n",
    "def run_TM(tm_dictionary, state, tape, debug):\n",
    "    \"\"\"\n",
    "    Runs a Turing machine program on the given tape, starting from the given state.\n",
    "\n",
    "    :param tm_dictionary: A dictionary mapping tuples of (state, read character) to\n",
    "                          tuples of (new state, write character, move direction)\n",
    "    :param state: The initial state of the Turing machine\n",
    "    :param tape: A tuple of (tape content, read/write head position)\n",
    "    :param debug: A boolean value indicating whether debug messages should be printed\n",
    "    :return: None\n",
    "    \"\"\"\n",
    "\n",
    "    # Your code here\n",
    "    # keep running the machine until it reaches a final state\n",
    "    while state != \"F\":\n",
    "        # if debug is True, print the current state, read character, and write character\n",
    "        if debug:\n",
    "            print(\"State: \" + state)\n",
    "            print(\"Read character: \" + tape[0][tape[1]])\n",
    "            print(\"Write character: \" + tm_dictionary[state, tape[0][tape[1]]][1])\n",
    "        # consult the transition table to get the new state, write character, and move direction\n",
    "        new_state, write_character, move_direction = tm_dictionary[state, tape[0][tape[1]]]\n",
    "        # update the tape contents and read/write head position\n",
    "        tape_contents = tape[0][:tape[1]] + write_character + tape[0][tape[1] + 1:]\n",
    "        if move_direction == \"R\":\n",
    "            rwheadPosition = tape[1] + 1\n",
    "        elif move_direction == \"L\":\n",
    "            rwheadPosition = tape[1] - 1\n",
    "        else:\n",
    "            print(\"Error: Invalid move direction\")\n",
    "            sys.exit(1)\n",
    "        # update the state\n",
    "        state = new_state\n",
    "        # update the tape\n",
    "        tape = (tape_contents, rwheadPosition)\n",
    "        # if debug is True, print the updated tape contents\n",
    "        if debug:\n",
    "            print(\"Updated tape contents: \" + tape_contents)\n",
    "            print()\n",
    "\n",
    "def main():\n",
    "    \"\"\"\n",
    "    Processes the command line arguments and runs the Turing machine program.\n",
    "\n",
    "    :return: None\n",
    "    \"\"\"\n",
    "\n",
    "    # Your code here\n",
    "    # process the command line arguments\n",
    "    if len(sys.argv) != 4:\n",
    "        print(\"Error: Invalid number of arguments\")\n",
    "        sys.exit(1)\n",
    "\n",
    "    fname = sys.argv[1]\n",
    "    tape_contents = sys.argv[2]\n",
    "    debug = sys.argv[3]\n",
    "    if debug != \"True\" and debug != \"False\":\n",
    "        print(\"Error: Invalid value for debug flag\")\n",
    "        sys.exit(1)\n",
    "    debug = (debug == \"True\")\n",
    "    # construct the transition table\n",
    "    tm_dictionary = construct_tm_dictionary(fname)\n",
    "    # run the Turing machine\n",
    "    run_TM(tm_dictionary, \"0\", (tape_contents, 0), debug)\n",
    "\n",
    "if __name__ == \"__main__\":\n",
    "    main()"
   ]
  },
  {
   "cell_type": "code",
   "execution_count": 4,
   "metadata": {},
   "outputs": [
    {
     "ename": "FileNotFoundError",
     "evalue": "[Errno 2] No such file or directory: '-f'",
     "output_type": "error",
     "traceback": [
      "\u001b[0;31m---------------------------------------------------------------------------\u001b[0m",
      "\u001b[0;31mFileNotFoundError\u001b[0m                         Traceback (most recent call last)",
      "Cell \u001b[0;32mIn [4], line 27\u001b[0m\n\u001b[1;32m     24\u001b[0m         \u001b[39mprint\u001b[39m(\u001b[39m'\u001b[39m\u001b[39m{}\u001b[39;00m\u001b[39m \u001b[39m\u001b[39m{}\u001b[39;00m\u001b[39m \u001b[39m\u001b[39m{}\u001b[39;00m\u001b[39m'\u001b[39m\u001b[39m.\u001b[39mformat(first_name, last_name, birth_year))\n\u001b[1;32m     26\u001b[0m \u001b[39mif\u001b[39;00m \u001b[39m__name__\u001b[39m \u001b[39m==\u001b[39m \u001b[39m'\u001b[39m\u001b[39m__main__\u001b[39m\u001b[39m'\u001b[39m:\n\u001b[0;32m---> 27\u001b[0m     main()\n",
      "Cell \u001b[0;32mIn [4], line 19\u001b[0m, in \u001b[0;36mmain\u001b[0;34m()\u001b[0m\n\u001b[1;32m     16\u001b[0m     \u001b[39mprint\u001b[39m(\u001b[39m'\u001b[39m\u001b[39mUsage: \u001b[39m\u001b[39m{}\u001b[39;00m\u001b[39m FILE1 FILE2\u001b[39m\u001b[39m'\u001b[39m\u001b[39m.\u001b[39mformat(sys\u001b[39m.\u001b[39margv[\u001b[39m0\u001b[39m]))\n\u001b[1;32m     17\u001b[0m     \u001b[39mreturn\u001b[39;00m \u001b[39m1\u001b[39m\n\u001b[0;32m---> 19\u001b[0m patients1 \u001b[39m=\u001b[39m read_patients(sys\u001b[39m.\u001b[39;49margv[\u001b[39m1\u001b[39;49m])\n\u001b[1;32m     20\u001b[0m patients2 \u001b[39m=\u001b[39m read_patients(sys\u001b[39m.\u001b[39margv[\u001b[39m2\u001b[39m])\n\u001b[1;32m     21\u001b[0m patients \u001b[39m=\u001b[39m patients1 \u001b[39m+\u001b[39m patients2\n",
      "Cell \u001b[0;32mIn [4], line 7\u001b[0m, in \u001b[0;36mread_patients\u001b[0;34m(filename)\u001b[0m\n\u001b[1;32m      6\u001b[0m \u001b[39mdef\u001b[39;00m \u001b[39mread_patients\u001b[39m(filename):\n\u001b[0;32m----> 7\u001b[0m     \u001b[39mwith\u001b[39;00m \u001b[39mopen\u001b[39;49m(filename, \u001b[39m'\u001b[39;49m\u001b[39mr\u001b[39;49m\u001b[39m'\u001b[39;49m) \u001b[39mas\u001b[39;00m file:\n\u001b[1;32m      8\u001b[0m         patients \u001b[39m=\u001b[39m []\n\u001b[1;32m      9\u001b[0m         \u001b[39mfor\u001b[39;00m line \u001b[39min\u001b[39;00m file:\n",
      "File \u001b[0;32m~/.local/lib/python3.8/site-packages/IPython/core/interactiveshell.py:282\u001b[0m, in \u001b[0;36m_modified_open\u001b[0;34m(file, *args, **kwargs)\u001b[0m\n\u001b[1;32m    275\u001b[0m \u001b[39mif\u001b[39;00m file \u001b[39min\u001b[39;00m {\u001b[39m0\u001b[39m, \u001b[39m1\u001b[39m, \u001b[39m2\u001b[39m}:\n\u001b[1;32m    276\u001b[0m     \u001b[39mraise\u001b[39;00m \u001b[39mValueError\u001b[39;00m(\n\u001b[1;32m    277\u001b[0m         \u001b[39mf\u001b[39m\u001b[39m\"\u001b[39m\u001b[39mIPython won\u001b[39m\u001b[39m'\u001b[39m\u001b[39mt let you open fd=\u001b[39m\u001b[39m{\u001b[39;00mfile\u001b[39m}\u001b[39;00m\u001b[39m by default \u001b[39m\u001b[39m\"\u001b[39m\n\u001b[1;32m    278\u001b[0m         \u001b[39m\"\u001b[39m\u001b[39mas it is likely to crash IPython. If you know what you are doing, \u001b[39m\u001b[39m\"\u001b[39m\n\u001b[1;32m    279\u001b[0m         \u001b[39m\"\u001b[39m\u001b[39myou can use builtins\u001b[39m\u001b[39m'\u001b[39m\u001b[39m open.\u001b[39m\u001b[39m\"\u001b[39m\n\u001b[1;32m    280\u001b[0m     )\n\u001b[0;32m--> 282\u001b[0m \u001b[39mreturn\u001b[39;00m io_open(file, \u001b[39m*\u001b[39;49margs, \u001b[39m*\u001b[39;49m\u001b[39m*\u001b[39;49mkwargs)\n",
      "\u001b[0;31mFileNotFoundError\u001b[0m: [Errno 2] No such file or directory: '-f'"
     ]
    }
   ],
   "source": [
    "#!/usr/bin/env python3\n",
    "\n",
    "import sys\n",
    "from operator import itemgetter\n",
    "\n",
    "def read_patients(filename):\n",
    "    with open(filename, 'r') as file:\n",
    "        patients = []\n",
    "        for line in file:\n",
    "            first_name, last_name, birth_year = line.split()\n",
    "            patients.append((first_name, last_name, int(birth_year)))\n",
    "        return patients\n",
    "\n",
    "def main():\n",
    "    if len(sys.argv) != 3:\n",
    "        print('Usage: {} FILE1 FILE2'.format(sys.argv[0]))\n",
    "        return 1\n",
    "\n",
    "    patients1 = read_patients(sys.argv[1])\n",
    "    patients2 = read_patients(sys.argv[2])\n",
    "    patients = patients1 + patients2\n",
    "\n",
    "    for first_name, last_name, birth_year in sorted(patients, key=itemgetter(2)):\n",
    "        print('{} {} {}'.format(first_name, last_name, birth_year))\n",
    "\n",
    "if __name__ == '__main__':\n",
    "    main()"
   ]
  },
  {
   "cell_type": "code",
   "execution_count": 1,
   "metadata": {},
   "outputs": [
    {
     "name": "stdout",
     "output_type": "stream",
     "text": [
      "5\n"
     ]
    },
    {
     "data": {
      "text/plain": [
       "5"
      ]
     },
     "execution_count": 1,
     "metadata": {},
     "output_type": "execute_result"
    }
   ],
   "source": [
    "class Book:\n",
    "\n",
    "    def __init__(self, genre, title, author, py):\n",
    "        self.genre = genre\n",
    "        self.author = author\n",
    "        self.publication_year = py\n",
    "    def calculate_age(self) :\n",
    "        return 2022 - self.publication_year\n",
    "\n",
    "ranger_games = Book('Crime Nonfiction', 'Ranger Games', 'Ben Blum', 2017)\n",
    "print (Book.calculate_age (ranger_games) )\n",
    "\n",
    "ranger_games = Book('Crime Nonfiction', 'Ranger Games' , 'Ben Blum', 2017)\n",
    "ranger_games.calculate_age( )\n"
   ]
  },
  {
   "cell_type": "code",
   "execution_count": 3,
   "metadata": {},
   "outputs": [
    {
     "name": "stdout",
     "output_type": "stream",
     "text": [
      "[2, 3, 5, 7, 11, 13, 17, 19, 23, 29, 31, 37, 41, 43, 47, 53, 59, 61, 67, 71, 73, 79, 83, 89, 97]\n"
     ]
    }
   ],
   "source": [
    "from math import sqrt\n",
    " \n",
    "def sieve(target):\n",
    "    p = [2]\n",
    "    for i in range(3, target+1, 2):\n",
    "        for j in p:\n",
    "            if i%j == 0:\n",
    "                break\n",
    "        else:\n",
    "            p.append(i)\n",
    "    return p\n",
    " \n",
    "if __name__ == \"__main__\":\n",
    "    print(sieve(100))\n"
   ]
  },
  {
   "cell_type": "code",
   "execution_count": 6,
   "metadata": {},
   "outputs": [
    {
     "data": {
      "text/plain": [
       "'C'"
      ]
     },
     "execution_count": 6,
     "metadata": {},
     "output_type": "execute_result"
    }
   ],
   "source": [
    "def getLetterGrade(numericGrade):\n",
    "\n",
    "    if numericGrade >= 90:\n",
    "\n",
    "        return \"A\"\n",
    "\n",
    "    elif numericGrade >= 80:\n",
    "\n",
    "        return \"B\"\n",
    "\n",
    "    elif numericGrade >= 70:\n",
    "\n",
    "        return \"C\"\n",
    "\n",
    "    elif numericGrade >= 60:\n",
    "\n",
    "        return \"D\"\n",
    "\n",
    "    else:\n",
    "\n",
    "        return \"F\"\n",
    "\n",
    "getLetterGrade(numericGrade = int(input('Enter your marks: ')))"
   ]
  },
  {
   "cell_type": "code",
   "execution_count": 7,
   "metadata": {},
   "outputs": [],
   "source": [
    "def star_wars_recursive(num_enemy_ships):\n",
    "    if num_enemy_ships == 0:\n",
    "        return \"\"\n",
    "    else:\n",
    "        return \"*-\" + star_wars_recursive(num_enemy_ships - 1) + \"*-\""
   ]
  },
  {
   "cell_type": "code",
   "execution_count": 10,
   "metadata": {},
   "outputs": [
    {
     "name": "stdout",
     "output_type": "stream",
     "text": [
      "*-*-*-*-*-*-\n",
      "*-*-*-*-*-*-*-*-*-*-*-*-\n"
     ]
    }
   ],
   "source": [
    "print(star_wars_recursive(3))\n",
    "print(star_wars_recursive(6))\n"
   ]
  },
  {
   "cell_type": "code",
   "execution_count": 13,
   "metadata": {},
   "outputs": [],
   "source": [
    "def star_wars_recursive(num_enemy_ships):\n",
    "\n",
    "    if num_enemy_ships <= 0:\n",
    "        return ''\n",
    "    else:\n",
    "        if num_enemy_ships % 2 == 0:\n",
    "            return '*--' + star_wars_recursive(num_enemy_ships - 1)\n",
    "        else:\n",
    "            return '*-' + star_wars_recursive(num_enemy_ships - 1)"
   ]
  },
  {
   "cell_type": "code",
   "execution_count": 15,
   "metadata": {},
   "outputs": [
    {
     "name": "stdout",
     "output_type": "stream",
     "text": [
      "*-*--*-\n",
      "*--*-*--*-*--*-\n"
     ]
    }
   ],
   "source": [
    "print(star_wars_recursive(3))\n",
    "print(star_wars_recursive(6))\n",
    "\n"
   ]
  },
  {
   "cell_type": "code",
   "execution_count": 16,
   "metadata": {},
   "outputs": [
    {
     "name": "stdout",
     "output_type": "stream",
     "text": [
      "Hillary's favorite color is blue.\n",
      "Donald's favorite color is orange.\n",
      "Bernie's favorite color is yellow.\n"
     ]
    }
   ],
   "source": [
    "def favorite_color(name, color):\n",
    "    print(name + \"'s favorite color is \" + color + \".\")\n",
    "\n",
    "favorite_color(\"Hillary\", \"blue\")\n",
    "favorite_color(\"Donald\", \"orange\")\n",
    "favorite_color(\"Bernie\", \"yellow\")"
   ]
  },
  {
   "cell_type": "code",
   "execution_count": 19,
   "metadata": {},
   "outputs": [
    {
     "name": "stdout",
     "output_type": "stream",
     "text": [
      "The sum of your numbers is 6\n",
      "The sum of your numbers is 19\n"
     ]
    }
   ],
   "source": [
    "def sum_numbers(*args):\n",
    "    print(\"The sum of your numbers is \" + str(sum(args)))\n",
    "\n",
    "(sum_numbers(1, 2, 3))\n",
    "(sum_numbers(3, 6, 2, 8))"
   ]
  },
  {
   "cell_type": "code",
   "execution_count": null,
   "metadata": {},
   "outputs": [],
   "source": []
  },
  {
   "cell_type": "code",
   "execution_count": null,
   "metadata": {},
   "outputs": [],
   "source": []
  },
  {
   "cell_type": "code",
   "execution_count": null,
   "metadata": {},
   "outputs": [],
   "source": []
  },
  {
   "cell_type": "code",
   "execution_count": null,
   "metadata": {},
   "outputs": [],
   "source": []
  },
  {
   "cell_type": "code",
   "execution_count": null,
   "metadata": {},
   "outputs": [],
   "source": []
  },
  {
   "cell_type": "code",
   "execution_count": null,
   "metadata": {},
   "outputs": [],
   "source": []
  },
  {
   "cell_type": "code",
   "execution_count": null,
   "metadata": {},
   "outputs": [],
   "source": []
  },
  {
   "cell_type": "code",
   "execution_count": null,
   "metadata": {},
   "outputs": [],
   "source": []
  },
  {
   "cell_type": "code",
   "execution_count": null,
   "metadata": {},
   "outputs": [],
   "source": []
  },
  {
   "cell_type": "code",
   "execution_count": null,
   "metadata": {},
   "outputs": [],
   "source": []
  },
  {
   "cell_type": "code",
   "execution_count": null,
   "metadata": {},
   "outputs": [],
   "source": []
  },
  {
   "cell_type": "code",
   "execution_count": null,
   "metadata": {},
   "outputs": [],
   "source": []
  },
  {
   "cell_type": "code",
   "execution_count": null,
   "metadata": {},
   "outputs": [],
   "source": []
  },
  {
   "cell_type": "code",
   "execution_count": 17,
   "metadata": {},
   "outputs": [
    {
     "name": "stdout",
     "output_type": "stream",
     "text": [
      "{'Crime Nonfiction': [['Ranger Games', 'Ben Blum']]}\n"
     ]
    }
   ],
   "source": [
    "class Book:\n",
    "\n",
    "    def __init__(self, genre, title, author, py):\n",
    "        self.genre = genre\n",
    "        self.title = title\n",
    "        self.author = author\n",
    "        self.publication_year = py\n",
    "\n",
    "    genres = {}\n",
    "\n",
    "    def add_to_genres(book):\n",
    "        if book.genre not in genres:\n",
    "            genres[book.genre] = [[book.title, book.author]]\n",
    "        else:\n",
    "            if [book.title, book.author] not in genres[book.genre]:\n",
    "                genres[book.genre].append([book.title, book.author])\n",
    "\n",
    "ranger_games = Book('Crime Nonfiction', 'Ranger Games', 'Ben Blum', 2017)\n",
    "Book.add_to_genres(ranger_games)\n",
    "print(genres)\n"
   ]
  },
  {
   "cell_type": "code",
   "execution_count": 5,
   "metadata": {},
   "outputs": [
    {
     "name": "stdout",
     "output_type": "stream",
     "text": [
      "student_1 [92, 58, 100, 89, 60]\n",
      "Average: 79.8\n",
      "student_2 [100, 0, 78, 100, 98]\n",
      "Average: 75.2\n",
      "student_3 [0, 90, 90, 0, 100]\n",
      "Average: 56.0\n",
      "student_4 [90, 92, 100, 75, 100]\n",
      "Average: 91.4\n",
      "student_5 [89, 89, 100, 100, 0]\n",
      "Average: 75.6\n",
      "student_6 [100, 100, 93, 88, 100]\n",
      "Average: 96.2\n",
      "student_1 [92, 58, 100, 89, 60]\n",
      "Average: 79.8\n",
      "New list: [60, 89, 92, 100]\n",
      "New average: 140.5\n",
      "student_2 [100, 0, 78, 100, 98]\n",
      "Average: 75.2\n",
      "New list: [78, 98, 100, 100]\n",
      "New average: 149.0\n",
      "student_3 [0, 90, 90, 0, 100]\n",
      "Average: 56.0\n",
      "New list: [0, 90, 90, 100]\n",
      "New average: 140.0\n",
      "student_4 [90, 92, 100, 75, 100]\n",
      "Average: 91.4\n",
      "New list: [90, 92, 100, 100]\n",
      "New average: 146.0\n",
      "student_5 [89, 89, 100, 100, 0]\n",
      "Average: 75.6\n",
      "New list: [89, 89, 100, 100]\n",
      "New average: 144.5\n",
      "student_6 [100, 100, 93, 88, 100]\n",
      "Average: 96.2\n",
      "New list: [93, 100, 100, 100]\n",
      "New average: 150.0\n"
     ]
    }
   ],
   "source": [
    "students = {\"student_1\" : [92, 58, 100, 89, 60] ,\n",
    "            \"student_2\" : [100, 0, 78, 100, 98] ,\n",
    "            \"student_3\" : [0, 90, 90, 0, 100] ,\n",
    "            \"student_4\" : [90, 92, 100, 75, 100] ,\n",
    "            \"student_5\" : [89, 89, 100, 100, 0] ,\n",
    "            \"student_6\" : [100, 100, 93, 88, 100] ,\n",
    "            }\n",
    "\n",
    "for key in students:\n",
    "    print(key, students[key])\n",
    "    print(\"Average:\", sum(students[key])/len(students[key]))\n",
    "\n",
    "def remove_min(grades):\n",
    "    grades.sort()\n",
    "    del grades[0]\n",
    "    return grades\n",
    "\n",
    "for key in students:\n",
    "    print(key, students[key])\n",
    "    print(\"Average:\", sum(students[key])/len(students[key]))\n",
    "    print(\"New list:\", remove_min(students[key]))\n",
    "    print(\"New average:\", sum(remove_min(students[key]))/len(remove_min(students[key])))\n",
    "    students[key] = remove_min(students[key])"
   ]
  },
  {
   "cell_type": "code",
   "execution_count": null,
   "metadata": {},
   "outputs": [],
   "source": []
  },
  {
   "cell_type": "code",
   "execution_count": 9,
   "metadata": {},
   "outputs": [
    {
     "data": {
      "text/plain": [
       "24"
      ]
     },
     "execution_count": 9,
     "metadata": {},
     "output_type": "execute_result"
    }
   ],
   "source": [
    "#recursive\n",
    "def factorial(n):\n",
    "\n",
    "    if n == 1:\n",
    "\n",
    "        return 1\n",
    "\n",
    "    else:\n",
    "\n",
    "        return n * factorial(n-1)\n",
    "\n",
    "#call the function\n",
    "factorial(4)"
   ]
  },
  {
   "cell_type": "code",
   "execution_count": 12,
   "metadata": {},
   "outputs": [
    {
     "data": {
      "text/plain": [
       "24"
      ]
     },
     "execution_count": 12,
     "metadata": {},
     "output_type": "execute_result"
    }
   ],
   "source": [
    "#iterative\n",
    "def factorial2(n):\n",
    "\n",
    "    result = 1\n",
    "\n",
    "    for i in range(1, n+1):\n",
    "\n",
    "        result = result * i\n",
    "\n",
    "    return result\n",
    "\n",
    "factorial2(4)"
   ]
  },
  {
   "cell_type": "code",
   "execution_count": 14,
   "metadata": {},
   "outputs": [
    {
     "data": {
      "image/png": "[encoded data removed]",
      "text/plain": [
       "<Figure size 640x480 with 1 Axes>"
      ]
     },
     "metadata": {},
     "output_type": "display_data"
    }
   ],
   "source": [
    "import pandas as pd\n",
    "\n",
    "data = pd.DataFrame({'1': [1, 2, 3, 4, 5],\n",
    "\n",
    "'2': [2, 4, 6, 8, 10],\n",
    "\n",
    "'3': [3, 6, 9, 12, 15],\n",
    "\n",
    "'4': [4, 8, 12, 16, 20],\n",
    "\n",
    "'5': [5, 10, 15, 20, 25]})\n",
    "\n",
    "data.plot();"
   ]
  },
  {
   "cell_type": "code",
   "execution_count": 15,
   "metadata": {},
   "outputs": [
    {
     "data": {
      "image/png": "[encoded data removed]",
      "text/plain": [
       "<Figure size 640x480 with 1 Axes>"
      ]
     },
     "metadata": {},
     "output_type": "display_data"
    }
   ],
   "source": [
    "import matplotlib.pyplot as plt\n",
    "\n",
    "data = [[1, 2, 3, 4, 5],\n",
    "\n",
    "[2, 4, 6, 8, 10],\n",
    "\n",
    "[3, 6, 9, 12, 15],\n",
    "\n",
    "[4, 8, 12, 16, 20],\n",
    "\n",
    "[5, 10, 15, 20, 25]]\n",
    "\n",
    "plt.plot(data)\n",
    "\n",
    "plt.show();"
   ]
  },
  {
   "cell_type": "code",
   "execution_count": null,
   "metadata": {},
   "outputs": [],
   "source": []
  },
  {
   "cell_type": "code",
   "execution_count": 16,
   "metadata": {},
   "outputs": [
    {
     "name": "stdout",
     "output_type": "stream",
     "text": [
      "Welcome to the Black Friday TV prices program\n",
      "The average price is:$477.20\n",
      "The highest price is: $588.00 which was at store #5\n",
      "The lowest price is: $399.00 which was at store #3\n"
     ]
    }
   ],
   "source": [
    "print(\"Welcome to the Black Friday TV prices program\")\n",
    "\n",
    "#Get the prices from the user\n",
    "\n",
    "store1_price = float(input(\"What is the price of a Samsung NU800 TV at store 1: \"))\n",
    "store2_price = float(input(\"What is the price of a Samsung NU800 TV at store 2: \"))\n",
    "store3_price = float(input(\"What is the price of a Samsung NU800 TV at store 3: \"))\n",
    "store4_price = float(input(\"What is the price of a Samsung NU800 TV at store 4: \"))\n",
    "store5_price = float(input(\"What is the price of a Samsung NU800 TV at store 5: \"))\n",
    "\n",
    "#Create a list with the prices\n",
    "\n",
    "prices = [store1_price, store2_price, store3_price, store4_price, store5_price]\n",
    "\n",
    "#Calculate the average price\n",
    "\n",
    "average_price = sum(prices) / len(prices)\n",
    "\n",
    "#Determine the highest price\n",
    "\n",
    "highest_price = max(prices)\n",
    "\n",
    "#Determine the lowest price\n",
    "\n",
    "lowest_price = min(prices)\n",
    "\n",
    "#Determine which store has the highest price\n",
    "\n",
    "highest_price_store = prices.index(highest_price) + 1\n",
    "\n",
    "#Print the results\n",
    "\n",
    "print(\"The average price is:${:.2f}\".format(average_price))\n",
    "print(\"The highest price is: ${:.2f} which was at store #{}\".format(highest_price,highest_price_store))\n",
    "print(\"The lowest price is: ${:.2f} which was at store #{}\".format(lowest_price,prices.index(lowest_price)+1))"
   ]
  },
  {
   "cell_type": "code",
   "execution_count": 20,
   "metadata": {},
   "outputs": [
    {
     "name": "stdout",
     "output_type": "stream",
     "text": [
      "this sounds like the eternal fir\n",
      "The random letters are: t and h\n"
     ]
    }
   ],
   "source": [
    "import random\n",
    "\n",
    "def main():\n",
    "\n",
    "    text = input(\"Please input text: \")\n",
    "    #text is a variable that can also store a any textual information you assign it\n",
    "\n",
    "    print(text)\n",
    "    letters = ['a','b','c','d','e','f','g','h','i','j','k','l','m','n','o','p','q','r','s','t','u','v','w','x','y','z']\n",
    "\n",
    "    while True:\n",
    "\n",
    "        letter1 = random.choice(letters)\n",
    "\n",
    "        letter2 = random.choice(letters)\n",
    "\n",
    "        if text.find(letter1 + letter2) == -1:\n",
    "\n",
    "            continue\n",
    "\n",
    "        else:\n",
    "\n",
    "            print(\"The random letters are: \" + letter1 + \" and \" + letter2)\n",
    "\n",
    "        break\n",
    "\n",
    "main()"
   ]
  },
  {
   "cell_type": "code",
   "execution_count": 3,
   "metadata": {},
   "outputs": [
    {
     "ename": "SyntaxError",
     "evalue": "invalid syntax (3590801716.py, line 31)",
     "output_type": "error",
     "traceback": [
      "\u001b[0;36m  Cell \u001b[0;32mIn [3], line 31\u001b[0;36m\u001b[0m\n\u001b[0;31m    while iteration &lt; nummatches:\u001b[0m\n\u001b[0m                       ^\u001b[0m\n\u001b[0;31mSyntaxError\u001b[0m\u001b[0;31m:\u001b[0m invalid syntax\n"
     ]
    }
   ],
   "source": [
    "import string\n",
    "import re\n",
    "\n",
    "alphabet = list(string.ascii_lowercase)\n",
    "\n",
    "def main():\n",
    "\n",
    "#generate random string\n",
    "    random_letters = []\n",
    "\n",
    "    for i in range(9):\n",
    "        random_letters.append(random.choice(alphabet))\n",
    "\n",
    "\n",
    "    #convert random string to list\n",
    "    random_letters = ''.join(random_letters)\n",
    "\n",
    "    #create regular expression pattern\n",
    "    pattern = re.compile(r'\\b\\w*\\s\\w*\\s\\w*\\s\\w*\\b')\n",
    "\n",
    "\n",
    "    #search for pattern and count occurrences\n",
    "    with open('text.txt', 'r') as f:\n",
    "        text = f.read()\n",
    "\n",
    "    nummatches = len(pattern.findall(text))\n",
    "\n",
    "\n",
    "    #count number of iterations\n",
    "    iteration = 0\n",
    "    while iteration &lt; nummatches:\n",
    "        #search for pattern\n",
    "        with open('reference.txt', 'r') as f:\n",
    "            text = f.read()\n",
    "        matches = pattern.findall(text)\n",
    "\n",
    "\n",
    "        #get sentence\n",
    "        sentence = random.choice(matches)\n",
    "\n",
    "        #get words\n",
    "        words = sentence.split()\n",
    "\n",
    "        #get letters\n",
    "        letters = []\n",
    "\n",
    "        for i in range(len(words)):\n",
    "            letters.append(words[i][0])\n",
    "\n",
    "\n",
    "        #compare letters\n",
    "        if random_letters == ''.join(letters):\n",
    "            print(random_letters)\n",
    "            print(sentence)\n",
    "            break\n",
    "        else:\n",
    "            iteration = iteration + 1\n",
    "\n",
    "    return\n",
    "\n",
    "main()"
   ]
  },
  {
   "cell_type": "code",
   "execution_count": 22,
   "metadata": {},
   "outputs": [
    {
     "ename": "RecursionError",
     "evalue": "maximum recursion depth exceeded while calling a Python object",
     "output_type": "error",
     "traceback": [
      "\u001b[0;31m---------------------------------------------------------------------------\u001b[0m",
      "\u001b[0;31mRecursionError\u001b[0m                            Traceback (most recent call last)",
      "Cell \u001b[0;32mIn [22], line 15\u001b[0m\n\u001b[1;32m     12\u001b[0m     \u001b[39melse\u001b[39;00m:\n\u001b[1;32m     13\u001b[0m         \u001b[39mreturn\u001b[39;00m accept_reject(text)\n\u001b[0;32m---> 15\u001b[0m accept_reject(text)\n",
      "Cell \u001b[0;32mIn [22], line 13\u001b[0m, in \u001b[0;36maccept_reject\u001b[0;34m(text)\u001b[0m\n\u001b[1;32m     11\u001b[0m     \u001b[39mreturn\u001b[39;00m accept_reject(text)\n\u001b[1;32m     12\u001b[0m \u001b[39melse\u001b[39;00m:\n\u001b[0;32m---> 13\u001b[0m     \u001b[39mreturn\u001b[39;00m accept_reject(text)\n",
      "Cell \u001b[0;32mIn [22], line 13\u001b[0m, in \u001b[0;36maccept_reject\u001b[0;34m(text)\u001b[0m\n\u001b[1;32m     11\u001b[0m     \u001b[39mreturn\u001b[39;00m accept_reject(text)\n\u001b[1;32m     12\u001b[0m \u001b[39melse\u001b[39;00m:\n\u001b[0;32m---> 13\u001b[0m     \u001b[39mreturn\u001b[39;00m accept_reject(text)\n",
      "    \u001b[0;31m[... skipping similar frames: accept_reject at line 13 (2966 times)]\u001b[0m\n",
      "Cell \u001b[0;32mIn [22], line 13\u001b[0m, in \u001b[0;36maccept_reject\u001b[0;34m(text)\u001b[0m\n\u001b[1;32m     11\u001b[0m     \u001b[39mreturn\u001b[39;00m accept_reject(text)\n\u001b[1;32m     12\u001b[0m \u001b[39melse\u001b[39;00m:\n\u001b[0;32m---> 13\u001b[0m     \u001b[39mreturn\u001b[39;00m accept_reject(text)\n",
      "Cell \u001b[0;32mIn [22], line 6\u001b[0m, in \u001b[0;36maccept_reject\u001b[0;34m(text)\u001b[0m\n\u001b[1;32m      5\u001b[0m \u001b[39mdef\u001b[39;00m \u001b[39maccept_reject\u001b[39m(text):\n\u001b[0;32m----> 6\u001b[0m     random_letter_index \u001b[39m=\u001b[39m random\u001b[39m.\u001b[39;49mrandint(\u001b[39m0\u001b[39;49m, \u001b[39mlen\u001b[39;49m(alphabet) \u001b[39m-\u001b[39;49m \u001b[39m1\u001b[39;49m)\n\u001b[1;32m      7\u001b[0m     current_letter \u001b[39m=\u001b[39m text_letters[random_letter_index]\n\u001b[1;32m      8\u001b[0m     \u001b[39mif\u001b[39;00m current_letter \u001b[39m==\u001b[39m alphabet[random_letter_index]:\n",
      "File \u001b[0;32m/usr/lib/python3.8/random.py:248\u001b[0m, in \u001b[0;36mRandom.randint\u001b[0;34m(self, a, b)\u001b[0m\n\u001b[1;32m    244\u001b[0m \u001b[39mdef\u001b[39;00m \u001b[39mrandint\u001b[39m(\u001b[39mself\u001b[39m, a, b):\n\u001b[1;32m    245\u001b[0m     \u001b[39m\"\"\"Return random integer in range [a, b], including both end points.\u001b[39;00m\n\u001b[1;32m    246\u001b[0m \u001b[39m    \"\"\"\u001b[39;00m\n\u001b[0;32m--> 248\u001b[0m     \u001b[39mreturn\u001b[39;00m \u001b[39mself\u001b[39;49m\u001b[39m.\u001b[39;49mrandrange(a, b\u001b[39m+\u001b[39;49m\u001b[39m1\u001b[39;49m)\n",
      "File \u001b[0;32m/usr/lib/python3.8/random.py:224\u001b[0m, in \u001b[0;36mRandom.randrange\u001b[0;34m(self, start, stop, step, _int)\u001b[0m\n\u001b[1;32m    222\u001b[0m width \u001b[39m=\u001b[39m istop \u001b[39m-\u001b[39m istart\n\u001b[1;32m    223\u001b[0m \u001b[39mif\u001b[39;00m step \u001b[39m==\u001b[39m \u001b[39m1\u001b[39m \u001b[39mand\u001b[39;00m width \u001b[39m>\u001b[39m \u001b[39m0\u001b[39m:\n\u001b[0;32m--> 224\u001b[0m     \u001b[39mreturn\u001b[39;00m istart \u001b[39m+\u001b[39m \u001b[39mself\u001b[39;49m\u001b[39m.\u001b[39;49m_randbelow(width)\n\u001b[1;32m    225\u001b[0m \u001b[39mif\u001b[39;00m step \u001b[39m==\u001b[39m \u001b[39m1\u001b[39m:\n\u001b[1;32m    226\u001b[0m     \u001b[39mraise\u001b[39;00m \u001b[39mValueError\u001b[39;00m(\u001b[39m\"\u001b[39m\u001b[39mempty range for randrange() (\u001b[39m\u001b[39m%d\u001b[39;00m\u001b[39m, \u001b[39m\u001b[39m%d\u001b[39;00m\u001b[39m, \u001b[39m\u001b[39m%d\u001b[39;00m\u001b[39m)\u001b[39m\u001b[39m\"\u001b[39m \u001b[39m%\u001b[39m (istart, istop, width))\n",
      "File \u001b[0;32m/usr/lib/python3.8/random.py:254\u001b[0m, in \u001b[0;36mRandom._randbelow_with_getrandbits\u001b[0;34m(self, n)\u001b[0m\n\u001b[1;32m    251\u001b[0m \u001b[39m\"\u001b[39m\u001b[39mReturn a random int in the range [0,n).  Raises ValueError if n==0.\u001b[39m\u001b[39m\"\u001b[39m\n\u001b[1;32m    253\u001b[0m getrandbits \u001b[39m=\u001b[39m \u001b[39mself\u001b[39m\u001b[39m.\u001b[39mgetrandbits\n\u001b[0;32m--> 254\u001b[0m k \u001b[39m=\u001b[39m n\u001b[39m.\u001b[39;49mbit_length()  \u001b[39m# don't use (n-1) here because n can be 1\u001b[39;00m\n\u001b[1;32m    255\u001b[0m r \u001b[39m=\u001b[39m getrandbits(k)          \u001b[39m# 0 <= r < 2**k\u001b[39;00m\n\u001b[1;32m    256\u001b[0m \u001b[39mwhile\u001b[39;00m r \u001b[39m>\u001b[39m\u001b[39m=\u001b[39m n:\n",
      "\u001b[0;31mRecursionError\u001b[0m: maximum recursion depth exceeded while calling a Python object"
     ]
    }
   ],
   "source": [
    "alphabet = ['a','b','c','d','e','f','g','h','i','j','k','l','m','n','o','p','q','r','s','t','u','v','w','x','y','z']\n",
    "text = \"The quick brown fox jumps over the lazy dog.\"\n",
    "text_letters = text\n",
    "\n",
    "def accept_reject(text):\n",
    "    random_letter_index = random.randint(0, len(alphabet) - 1)\n",
    "    current_letter = text_letters[random_letter_index]\n",
    "    if current_letter == alphabet[random_letter_index]:\n",
    "        print(alphabet[random_letter_index])\n",
    "        print(text)\n",
    "        return accept_reject(text)\n",
    "    else:\n",
    "        return accept_reject(text)\n",
    "\n",
    "accept_reject(text)"
   ]
  },
  {
   "cell_type": "code",
   "execution_count": null,
   "metadata": {},
   "outputs": [],
   "source": []
  },
  {
   "cell_type": "code",
   "execution_count": null,
   "metadata": {},
   "outputs": [],
   "source": []
  },
  {
   "cell_type": "code",
   "execution_count": 34,
   "metadata": {},
   "outputs": [
    {
     "name": "stdout",
     "output_type": "stream",
     "text": [
      "{'Crime Nonfiction': [['Ranger Games', 'Ben Blum']], 'Fiction': [['The Great Gatsby', 'F. Scott Fitzgerald']], 'Sci-Fi': [[\"Ender's Game\", 'Orson Scott Card'], ['Dune', 'Frank Herbert']]}\n"
     ]
    }
   ],
   "source": [
    "class Book:\n",
    "\n",
    "    def __init__(self, genre, title, author, py):\n",
    "        self.genre = genre\n",
    "        self.title = title\n",
    "        self.author = author\n",
    "        self.publication_year = py\n",
    "\n",
    "    genres = {}\n",
    "\n",
    "    def add_to_genres(book):\n",
    "        if book.genre not in genres:\n",
    "            genres[book.genre] = set()\n",
    "        else:\n",
    "            if (book.title, book.author) not in genres[book.genre]:\n",
    "                genres[book.genre].add((book.title, book.author))\n",
    "\n",
    "book1 = Book(\"Sci-Fi\", \"Ender's Game\", \"Orson Scott Card\", 1985)\n",
    "book2 = Book(\"Sci-Fi\", \"Dune\", \"Frank Herbert\", 1965)\n",
    "book3 = Book(\"Sci-Fi\", \"Ender's Game\", \"Orson Scott Card\", 1985)\n",
    "\n",
    "\n",
    "add_to_genres(book1)\n",
    "add_to_genres(book2)\n",
    "add_to_genres(book3)\n",
    "\n",
    "\n",
    "print(genres)"
   ]
  },
  {
   "cell_type": "code",
   "execution_count": 46,
   "metadata": {},
   "outputs": [
    {
     "name": "stdout",
     "output_type": "stream",
     "text": [
      "4\n"
     ]
    }
   ],
   "source": [
    "def find_mode(arr): \n",
    "  \n",
    "    max_freq = 0\n",
    "    mode = -1\n",
    "  \n",
    "    for i in range(len(arr)): \n",
    "  \n",
    "        freq = arr.count(arr[i]) \n",
    "  \n",
    "        if freq > max_freq: \n",
    "            max_freq = freq \n",
    "            mode = arr[i] \n",
    "    return mode\n",
    "array = [1, 2, 2, 4, 4, 4, 6, 6] \n",
    "print(find_mode(array))"
   ]
  },
  {
   "cell_type": "code",
   "execution_count": 42,
   "metadata": {},
   "outputs": [
    {
     "name": "stdout",
     "output_type": "stream",
     "text": [
      "2\n"
     ]
    }
   ],
   "source": [
    "\n",
    "def find_mode(arr): \n",
    "  \n",
    "    # create an empty dictionary \n",
    "    dictionary = {} \n",
    "  \n",
    "    # scan through the array and add the \n",
    "    # elements to the dictionary \n",
    "    for i in range(len(arr)): \n",
    "        if arr[i] in dictionary: \n",
    "            dictionary[arr[i]] += 1\n",
    "        else: \n",
    "            dictionary[arr[i]] = 1\n",
    "  \n",
    "    # scan through the dictionary to find  \n",
    "    # the mode \n",
    "    max_freq = 0\n",
    "    mode = -1\n",
    "  \n",
    "    for key in dictionary: \n",
    "        if dictionary[key] > max_freq: \n",
    "            max_freq = dictionary[key] \n",
    "            mode = key \n",
    "    return mode\n",
    "#how do I call function:\n",
    "\n",
    "# array of numbers \n",
    "array = [1, 2, 2, 4, 6, 3, 9, 5, 5, 5, 2, 2, 2, 4, 4, 6, 6] \n",
    "\n",
    "# calling the function \n",
    "print(find_mode(array))"
   ]
  },
  {
   "cell_type": "code",
   "execution_count": null,
   "metadata": {},
   "outputs": [],
   "source": []
  },
  {
   "cell_type": "code",
   "execution_count": null,
   "metadata": {},
   "outputs": [],
   "source": []
  },
  {
   "cell_type": "code",
   "execution_count": 17,
   "metadata": {},
   "outputs": [
    {
     "name": "stdout",
     "output_type": "stream",
     "text": [
      "[1, 4, 15, 8, 85, 2, 3, 12, 72, 26, 48]\n"
     ]
    }
   ],
   "source": [
    "def partition(lst, left, right):\n",
    "\n",
    "    # Find the pivot\n",
    "    pivot = lst[right]\n",
    "\n",
    "    # Split the list into two parts\n",
    "    i = left\n",
    "    j = right - 1\n",
    "\n",
    "    while i <= j:\n",
    "\n",
    "    # Find an element in the left part that is greater than the pivot\n",
    "        while lst[i] < pivot:\n",
    "            i = i + 1\n",
    "\n",
    "    # Find an element in the right part that is less than the pivot\n",
    "        while lst[j] > pivot:\n",
    "            j = j - 1\n",
    "\n",
    "    # Swap the elements\n",
    "        if i <= j:\n",
    "            lst[i], lst[j] = lst[j], lst[i]\n",
    "            i = i + 1\n",
    "            j = j - 1\n",
    "\n",
    "    # Swap the pivot with the element in the right part\n",
    "        lst[right], lst[i] = lst[i], lst[right]\n",
    "\n",
    "        return i\n",
    "\n",
    "# Test the partition function\n",
    "lst = [12, 48, 15, 8, 85, 2, 3, 1, 72, 26, 4]\n",
    "left = 0\n",
    "right = len(lst) - 1\n",
    "\n",
    "partition(lst, left, right)\n",
    "\n",
    "print(lst)\n"
   ]
  },
  {
   "cell_type": "code",
   "execution_count": 19,
   "metadata": {},
   "outputs": [
    {
     "name": "stdout",
     "output_type": "stream",
     "text": [
      "[1, 2, 12, 48, 15, 8, 85, 3, 72, 26, 4]\n"
     ]
    }
   ],
   "source": [
    "\n",
    "list = [12, 48, 15, 8, 85, 2, 3, 1, 72, 26, 4]\n",
    "\n",
    "# Use the median-of-three value as the pivot\n",
    "\n",
    "median = list[len(list)//2]\n",
    "\n",
    "# Split the list into two parts\n",
    "\n",
    "left = [x for x in list if x < median]\n",
    "right = [x for x in list if x > median]\n",
    "\n",
    "# Partition the list\n",
    "\n",
    "partitioned_list = left + [median] + right\n",
    "\n",
    "print(partitioned_list)"
   ]
  },
  {
   "cell_type": "code",
   "execution_count": 21,
   "metadata": {},
   "outputs": [
    {
     "name": "stdout",
     "output_type": "stream",
     "text": [
      "[2, 4, 1, 8, 3, 12, 85, 15, 72, 26, 48]\n"
     ]
    }
   ],
   "source": [
    "def partition(lst, start, end):\n",
    "    pivot = lst[start]\n",
    "    left = start+1\n",
    "    right = end\n",
    "\n",
    "    while left <= right:\n",
    "        while left <= right and lst[left] < pivot:\n",
    "            left = left + 1\n",
    "        while left <= right and lst[right] >= pivot:\n",
    "            right = right - 1\n",
    "\n",
    "        if left <= right:\n",
    "            lst[left], lst[right] = lst[right], lst[left]\n",
    "            left = left + 1\n",
    "            right = right - 1\n",
    "\n",
    "    lst[start], lst[right] = lst[right], lst[start]\n",
    "    return right\n",
    "\n",
    "lst = [12, 48 , 15, 8 , 85 , 2 , 3 , 1 , 72, 26, 4]\n",
    "start = 0\n",
    "end = len(lst) - 1\n",
    "partition(lst, start, end)\n",
    "print(lst)"
   ]
  },
  {
   "cell_type": "code",
   "execution_count": 2,
   "metadata": {},
   "outputs": [
    {
     "name": "stdout",
     "output_type": "stream",
     "text": [
      "The number of sides of the polygon is 2.\n",
      "The length of each side is 1.4142135623730951.\n"
     ]
    }
   ],
   "source": [
    "class Polygon:\n",
    "    \"\"\"\n",
    "    This is the Polygon class.\n",
    "    \n",
    "    Attributes:\n",
    "        name: A string representing the polygon's name.\n",
    "        number_of_vertices: An integer representing the number of vertices of the polygon.\n",
    "        location_of_vertices_x: A list of integers representing the x-coordinates of the vertices of the polygon.\n",
    "        location_of_vertices_y: A list of integers representing the y-coordinates of the vertices of the polygon.\n",
    "    \"\"\"\n",
    "    \n",
    "    def __init__(self,name,number_of_vertices,location_of_vertices_x,location_of_vertices_y):\n",
    "        \"\"\"\n",
    "        The constructor for the Polygon class.\n",
    "        \n",
    "        Parameters:\n",
    "            name: A string representing the polygon's name.\n",
    "            number_of_vertices: An integer representing the number of vertices of the polygon.\n",
    "            location_of_vertices_x: A list of integers representing the x-coordinates of the vertices of the polygon.\n",
    "            location_of_vertices_y: A list of integers representing the y-coordinates of the vertices of the polygon.\n",
    "        \"\"\"\n",
    "        \n",
    "        self.name = name\n",
    "        self.number_of_vertices = number_of_vertices\n",
    "        self.location_of_vertices_x = location_of_vertices_x\n",
    "        self.location_of_vertices_y = location_of_vertices_y\n",
    "\n",
    "def side_counting(self,number_of_vertices):\n",
    "    \"\"\"\n",
    "    A function that calculates the number of sides of the polygon.\n",
    "    \n",
    "    Parameters:\n",
    "        number_of_vertices: An integer representing the number of vertices of the polygon.\n",
    "    \n",
    "    Returns:\n",
    "        side: An integer representing the number of sides of the polygon.\n",
    "    \"\"\"\n",
    "    \n",
    "    side = self.number_of_vertices - 1\n",
    "    \n",
    "    return side\n",
    "\n",
    "def side_length_calculation(self,location_of_vertices_x,location_of_vertices_y):\n",
    "    \"\"\"\n",
    "    A function that calculates the length of each side of the polygon.\n",
    "    \n",
    "    Parameters:\n",
    "        location_of_vertices_x: A list of integers representing the x-coordinates of the vertices of the polygon.\n",
    "        location_of_vertices_y: A list of integers representing the y-coordinates of the vertices of the polygon.\n",
    "    \n",
    "    Returns:\n",
    "        side_length: A float representing the length of each side of the polygon.\n",
    "    \"\"\"\n",
    "    \n",
    "    side_length = ((location_of_vertices_x[0] - location_of_vertices_x[1])**2 + (location_of_vertices_y[0] - location_of_vertices_y[1])**2)**0.5\n",
    "    \n",
    "    return side_length\n",
    "\n",
    "def printing_nicely_formatted_results(self,side,side_length):\n",
    "    \"\"\"\n",
    "    A function that prints the number of sides and the length of each side of the polygon.\n",
    "    \n",
    "    Parameters:\n",
    "        side: An integer representing the number of sides of the polygon.\n",
    "        side_length: A float representing the length of each side of the polygon.\n",
    "    \"\"\"\n",
    "    \n",
    "    print(\"The number of sides of the polygon is {0}.\".format(side))\n",
    "    print(\"The length of each side is {0}.\".format(side_length))\n",
    "\n",
    "p = Polygon(\"triangle\",3,[1,2,3],[1,2,3])\n",
    "\n",
    "side = side_counting(p,p.number_of_vertices)\n",
    "\n",
    "side_length = side_length_calculation(p,p.location_of_vertices_x,p.location_of_vertices_y)\n",
    "\n",
    "printing_nicely_formatted_results(p,side,side_length)"
   ]
  },
  {
   "cell_type": "code",
   "execution_count": 1,
   "metadata": {},
   "outputs": [
    {
     "data": {
      "text/plain": [
       "21"
      ]
     },
     "execution_count": 1,
     "metadata": {},
     "output_type": "execute_result"
    }
   ],
   "source": [
    "def Fibonacci(n):\n",
    "    if n<=0:\n",
    "        print(\"Incorrect input\")\n",
    "    elif n==1:\n",
    "        return 0\n",
    "    elif n==2:\n",
    "        return 1\n",
    "    else:\n",
    "        return Fibonacci(n-1)+Fibonacci(n-2)\n",
    "#call a sample input:\n",
    "\n",
    "Fibonacci(9)"
   ]
  },
  {
   "cell_type": "code",
   "execution_count": 2,
   "metadata": {},
   "outputs": [
    {
     "name": "stdout",
     "output_type": "stream",
     "text": [
      "['A', 'B', 'C', 'D', 'P', 'Q']\n"
     ]
    }
   ],
   "source": [
    "def buildRobot(parts, recommendations):\n",
    "    \n",
    "    # your code here\n",
    "    \n",
    "    # create a list to hold the final set of parts\n",
    "    final_set = []\n",
    "    \n",
    "    # create a set to keep track of which parts have been visited\n",
    "    visited = set()\n",
    "    \n",
    "    # create a queue to hold the parts to be processed\n",
    "    queue = []\n",
    "    \n",
    "    # initialize the queue with the first part in the list\n",
    "    queue.append(parts[0])\n",
    "    \n",
    "    # mark the first part as visited\n",
    "    visited.add(parts[0])\n",
    "    \n",
    "    # while the queue is not empty\n",
    "    while queue:\n",
    "        \n",
    "        # take the first part from the queue\n",
    "        part = queue.pop(0)\n",
    "        \n",
    "        # add it to the final set\n",
    "        final_set.append(part)\n",
    "        \n",
    "        # for each recommendation for this part\n",
    "        for recommendation in recommendations:\n",
    "            \n",
    "            # if the part is in the recommendation\n",
    "            if part in recommendation:\n",
    "                \n",
    "                # get the other part in the recommendation\n",
    "                other_part = recommendation[0] if recommendation[0] != part else recommendation[1]\n",
    "                \n",
    "                # if the other part has not been visited\n",
    "                if other_part not in visited:\n",
    "                    \n",
    "                    # add it to the queue\n",
    "                    queue.append(other_part)\n",
    "                    \n",
    "                    # mark it as visited\n",
    "                    visited.add(other_part)\n",
    "                    \n",
    "    # return the final set of parts\n",
    "    return final_set\n",
    "#provide sampleinput and call function:\n",
    "\n",
    "parts = ['A', 'B', 'C', 'D', 'P', 'Q']\n",
    "costs = [10, 10, 20, 5, 10, 2]\n",
    "recommendations = [['A', 'B'], ['A', 'C'], ['D', 'A'], ['C', 'D'], ['B', 'C'], ['A', 'B'], ['C', 'P'], ['P', 'Q'], ['Q', 'C']]\n",
    "\n",
    "result = buildRobot(parts, recommendations)\n",
    "\n",
    "print(result)"
   ]
  },
  {
   "cell_type": "code",
   "execution_count": 3,
   "metadata": {},
   "outputs": [
    {
     "name": "stdout",
     "output_type": "stream",
     "text": [
      "Original Deck: \n",
      "['Ace', '2', '3', '4', '5', '6', '7', '8', '9', '10', 'Jack', 'Queen', 'King']\n",
      "\n",
      "Shuffled Deck: \n",
      "['4', 'Ace', '8', '5', '9', '6', '7', 'King', '2', 'Jack', 'Queen', '10', '3']\n"
     ]
    }
   ],
   "source": [
    "import random\n",
    "\n",
    "def the_modern_algorithm(deck_of_cards):\n",
    "  random.shuffle(deck_of_cards)\n",
    "  return deck_of_cards\n",
    "\n",
    "def main():\n",
    "  deck_of_cards = ['Ace', '2', '3', '4', '5', '6', '7', '8', '9', '10', 'Jack', 'Queen', 'King']\n",
    "  print(\"Original Deck: \")\n",
    "  print(deck_of_cards)\n",
    "  print(\"\\nShuffled Deck: \")\n",
    "  print(the_modern_algorithm(deck_of_cards))\n",
    "\n",
    "main()"
   ]
  },
  {
   "cell_type": "code",
   "execution_count": 6,
   "metadata": {},
   "outputs": [
    {
     "ename": "AttributeError",
     "evalue": "'LinkedList' object has no attribute 'append'",
     "output_type": "error",
     "traceback": [
      "\u001b[0;31m---------------------------------------------------------------------------\u001b[0m",
      "\u001b[0;31mAttributeError\u001b[0m                            Traceback (most recent call last)",
      "Cell \u001b[0;32mIn [6], line 36\u001b[0m\n\u001b[1;32m     32\u001b[0m         pivot\u001b[39m.\u001b[39mnext \u001b[39m=\u001b[39m other\u001b[39m.\u001b[39mhead\n\u001b[1;32m     35\u001b[0m ls \u001b[39m=\u001b[39m LinkedList()\n\u001b[0;32m---> 36\u001b[0m ls\u001b[39m.\u001b[39;49mappend([\u001b[39m30\u001b[39m, \u001b[39m25\u001b[39m, \u001b[39m67\u001b[39m, \u001b[39m99\u001b[39m, \u001b[39m8\u001b[39m, \u001b[39m16\u001b[39m, \u001b[39m28\u001b[39m, \u001b[39m63\u001b[39m, \u001b[39m12\u001b[39m, \u001b[39m20\u001b[39m])\n\u001b[1;32m     37\u001b[0m ls\u001b[39m.\u001b[39msort()\n\u001b[1;32m     38\u001b[0m \u001b[39mprint\u001b[39m(\u001b[39m\"\u001b[39m\u001b[39msort test: \u001b[39m\u001b[39m\"\u001b[39m, ls, \u001b[39m\"\u001b[39m\u001b[39m, \u001b[39m\u001b[39m\"\u001b[39m, ls\u001b[39m.\u001b[39mlength)\n",
      "\u001b[0;31mAttributeError\u001b[0m: 'LinkedList' object has no attribute 'append'"
     ]
    }
   ],
   "source": [
    "class LinkedList:\n",
    "    def __init__(self):\n",
    "        self.head = None\n",
    " \n",
    "    def sort(self):\n",
    "        if self.head is None:\n",
    "            return\n",
    " \n",
    "        pivot = self.head\n",
    "        tail = self.head\n",
    " \n",
    "        smaller = LinkedList()\n",
    "        other = LinkedList()\n",
    " \n",
    "        while tail.next is not None:\n",
    "            if tail.next.data < pivot.data:\n",
    "                smaller.append(tail.next)\n",
    "            else:\n",
    "                other.append(tail.next)\n",
    "            tail = tail.next\n",
    " \n",
    "        smaller.sort()\n",
    "        other.sort()\n",
    " \n",
    "        self.head = smaller.head\n",
    "        tail = smaller.head\n",
    " \n",
    "        while tail.next is not None:\n",
    "            tail = tail.next\n",
    " \n",
    "        tail.next = pivot\n",
    "        pivot.next = other.head\n",
    " \n",
    " \n",
    "ls = LinkedList()\n",
    "ls.append([30, 25, 67, 99, 8, 16, 28, 63, 12, 20])\n",
    "ls.sort()\n",
    "print(\"sort test: \", ls, \", \", ls.length)"
   ]
  },
  {
   "cell_type": "code",
   "execution_count": 2,
   "metadata": {},
   "outputs": [
    {
     "name": "stdout",
     "output_type": "stream",
     "text": [
      "Name: Smith, John\n",
      "ID: S 12345\n",
      "Graduation Year: 2020\n"
     ]
    }
   ],
   "source": [
    "class Person:\n",
    "    def __init__(self, firstName, lastName, idNumber, graduateYear=0):\n",
    "        self.firstName = firstName\n",
    "        self.lastName = lastName\n",
    "        self.idNumber = \"S \" + str(idNumber)\n",
    "        self.graduateYear = graduateYear\n",
    "\n",
    "    def printPerson(self):\n",
    "        print(\"Name:\", self.lastName + \",\", self.firstName)\n",
    "        print(\"ID:\", self.idNumber)\n",
    "        print(\"Graduation Year:\", self.graduateYear)\n",
    "#create an instance and run the program:\n",
    "\n",
    "person1 = Person(\"John\", \"Smith\", 12345, 2020)\n",
    "person1.printPerson()"
   ]
  },
  {
   "cell_type": "code",
   "execution_count": 10,
   "metadata": {},
   "outputs": [
    {
     "name": "stdout",
     "output_type": "stream",
     "text": [
      "Name: Smith, John\n",
      "ID: S 12345\n",
      "Graduation Year: 2020\n",
      "Student #S 12345: B\n"
     ]
    }
   ],
   "source": [
    "\n",
    "class Student(Person):\n",
    "    def __init__(self, firstName, lastName, idNumber, testScores, graduateYear=0):\n",
    "        super().__init__(firstName, lastName, idNumber, graduateYear)\n",
    "        self.testScores = testScores\n",
    "\n",
    "    def calculate(self):\n",
    "        sum = 0\n",
    "        for i in self.testScores:\n",
    "            sum += i\n",
    "        avg = sum/len(self.testScores)\n",
    "\n",
    "        if avg >= 90:\n",
    "            return \"A\"\n",
    "        elif avg >= 80:\n",
    "            return \"B\"\n",
    "        elif avg >= 70:\n",
    "            return \"C\"\n",
    "        elif avg >= 65:\n",
    "            return \"D\"\n",
    "        else:\n",
    "            return \"F\"\n",
    "\n",
    "    def updateGrades(self, grade, index):\n",
    "        try:\n",
    "            self.testScores[index] = grade\n",
    "        except:\n",
    "            print(\"Invalid input\")\n",
    "\n",
    "    def __str__(self):\n",
    "        return \"Student #\" + self.idNumber + \": \" + self.calculate()\n",
    "person1 = Student(\"John\", \"Smith\", 12345, [100, 90, 80, 70, 60], 2020)\n",
    "person1.printPerson()\n",
    "print(person1)"
   ]
  },
  {
   "cell_type": "code",
   "execution_count": 11,
   "metadata": {},
   "outputs": [],
   "source": [
    "def readLines(filename):\n",
    "    \"\"\"\n",
    "    This function reads all the lines from the file and concatenates them \n",
    "    into a single string; strips the newline characters from every line \n",
    "    before concatenating; puts a space between each line you concatenate.\n",
    "\n",
    "    Parameters\n",
    "    ----------\n",
    "    filename : string\n",
    "        The name of the file to read.\n",
    "\n",
    "    Returns\n",
    "    -------\n",
    "    string\n",
    "        The contents of the file, with newlines removed and spaces inserted\n",
    "        between each line.\n",
    "    \"\"\"\n",
    "\n",
    "    f = open(filename, 'r')\n",
    "    lines = f.readlines()\n",
    "    f.close()\n",
    "\n",
    "    # Strip newlines and concatenate lines\n",
    "    return ' '.join([line.strip() for line in lines])"
   ]
  },
  {
   "cell_type": "code",
   "execution_count": 16,
   "metadata": {},
   "outputs": [
    {
     "data": {
      "text/plain": [
       "'Coming from rags to riches Goddamn I hate rich'"
      ]
     },
     "execution_count": 16,
     "metadata": {},
     "output_type": "execute_result"
    }
   ],
   "source": [
    "readLines('file.txt')"
   ]
  },
  {
   "cell_type": "code",
   "execution_count": 13,
   "metadata": {},
   "outputs": [],
   "source": [
    "def writeAFile(filename, mylist):\n",
    "    \"\"\"\n",
    "    This function writes all of the items in a list to a file, with each\n",
    "    item on a separate line.\n",
    "\n",
    "    Parameters\n",
    "    ----------\n",
    "    filename : string\n",
    "        The name of the file to write.\n",
    "    mylist : list\n",
    "        The list of items to write to the file.\n",
    "\n",
    "    Returns\n",
    "    -------\n",
    "    int\n",
    "        The number of lines written to the file.\n",
    "    \"\"\"\n",
    "\n",
    "    f = open(filename, 'w')\n",
    "\n",
    "    # Write each item in the list to the file, on a separate line\n",
    "    for item in mylist:\n",
    "        f.write(item + '\\n')\n",
    "\n",
    "    f.close()\n",
    "\n",
    "    # Return the number of lines written to the file\n",
    "    return len(mylist)"
   ]
  },
  {
   "cell_type": "code",
   "execution_count": 15,
   "metadata": {},
   "outputs": [
    {
     "data": {
      "text/plain": [
       "3"
      ]
     },
     "execution_count": 15,
     "metadata": {},
     "output_type": "execute_result"
    }
   ],
   "source": [
    "items = ['reveals', 'build', 'ill']\n",
    "writeAFile('filename.txt', items)"
   ]
  },
  {
   "cell_type": "code",
   "execution_count": null,
   "metadata": {},
   "outputs": [],
   "source": [
    " "
   ]
  },
  {
   "cell_type": "code",
   "execution_count": 8,
   "metadata": {},
   "outputs": [
    {
     "name": "stdout",
     "output_type": "stream",
     "text": [
      "Name: Smith, John\n",
      "ID: S 12345\n",
      "Graduation Year: 2020\n",
      "Student #S 12345: [100, 90, 80, 70, 60]\n"
     ]
    },
    {
     "data": {
      "text/plain": [
       "'B'"
      ]
     },
     "execution_count": 8,
     "metadata": {},
     "output_type": "execute_result"
    }
   ],
   "source": [
    "class Student(Person):\n",
    "    def __init__(self, firstName, lastName, idNumber, graduateYear, testScores):\n",
    "        super().__init__(firstName, lastName, idNumber, graduateYear)\n",
    "        self.testScores = testScores\n",
    "\n",
    "    def calculate(self):\n",
    "        sum = 0\n",
    "        for i in self.testScores:\n",
    "            sum += i\n",
    "        avg = sum / len(self.testScores)\n",
    "\n",
    "        if avg >= 90:\n",
    "            return \"A\"\n",
    "        elif avg >= 80:\n",
    "            return \"B\"\n",
    "        elif avg >= 70:\n",
    "            return \"C\"\n",
    "        elif avg >= 65:\n",
    "            return \"D\"\n",
    "        else:\n",
    "            return \"F\"\n",
    "\n",
    "    def updateGrade(self, grade, index):\n",
    "        if type(grade) is float and type(index) is int and index < len(self.testScores):\n",
    "            self.testScores[index] = grade\n",
    "        else:\n",
    "            print(\"Invalid input\")\n",
    "\n",
    "    def __str__(self):\n",
    "        return \"Student #\" + self.idNumber + \": \" + \"{}\".format(self.testScores)\n",
    "\n",
    "person1 = Student(\"John\", \"Smith\", 12345, 2020, [100, 90, 80, 70, 60])\n",
    "person1.printPerson()\n",
    "print(person1)\n",
    "\n",
    "person1.testScores[3]\n",
    "\n",
    "person1.calculate()"
   ]
  },
  {
   "cell_type": "code",
   "execution_count": 22,
   "metadata": {},
   "outputs": [],
   "source": [
    "class Node:\n",
    "\n",
    "    \"\"\" Represents a node in a linked list \"\"\"\n",
    "\n",
    "    def __init__(self, data):\n",
    "\n",
    "        self.data = data  \n",
    "\n",
    "        self.next = None  \n",
    "\n",
    "        \n",
    "\n",
    "class LinkedList:\n",
    "\n",
    "    \"\"\" A linked list implementation of the List ADT \"\"\"\n",
    "\n",
    "    def __init__(self):\n",
    "\n",
    "        self._head = None   \n",
    "\n",
    "    \n",
    "\n",
    "    def add(self, val):\n",
    "\n",
    "        \"\"\" Adds a node containing val to the linked list \"\"\"\n",
    "\n",
    "        self._head = self.rec_add(self._head, val)\n",
    "\n",
    "        \n",
    "\n",
    "    def rec_add(self, a_node, val):\n",
    "\n",
    "        \"\"\" Adds a node containing val to the linked list \"\"\"\n",
    "\n",
    "        if a_node is None:\n",
    "\n",
    "            return Node(val)\n",
    "\n",
    "        else:\n",
    "\n",
    "            a_node.next = self.rec_add(a_node.next, val)\n",
    "\n",
    "            return a_node\n",
    "\n",
    " \n",
    "\n",
    "    def insert(self, val, pos):\n",
    "\n",
    "        \"\"\" Adds a node containing val to the linked list \"\"\"\n",
    "\n",
    "        self._head = self.insert_add(self._head, val, pos)\n",
    "\n",
    "        \n",
    "\n",
    "    def insert_add(self, a_node, val, pos):\n",
    "\n",
    "        \"\"\" Adds a node containing val to the linked list \"\"\"\n",
    "\n",
    "        if a_node is None:\n",
    "\n",
    "            return Node(val)\n",
    "\n",
    "        if pos == 0:\n",
    "\n",
    "            n = Node(val)\n",
    "\n",
    "            n.next = a_node\n",
    "\n",
    "            return n\n",
    "\n",
    "        else:\n",
    "\n",
    "            a_node.next = self.insert_add(a_node.next, val, pos-1)\n",
    "\n",
    "            return a_node\n",
    "\n",
    "        \n",
    "\n",
    "    def remove(self, val):\n",
    "\n",
    "        \"\"\" Removes the node containing val from the linked list \"\"\"\n",
    "\n",
    "        self._head = self.rec_remove(self._head, val)\n",
    "\n",
    "        \n",
    "\n",
    "    def rec_remove(self, a_node, val):\n",
    "\n",
    "        \"\"\" Removes a node containing val to the linked list \"\"\"\n",
    "\n",
    "        if a_node is None:\n",
    "\n",
    "            return a_node\n",
    "\n",
    "        elif a_node.val == val:\n",
    "\n",
    "            return a_node.next\n",
    "\n",
    "        else:\n",
    "\n",
    "            a_node.next = self.rec_remove(a_node.next, val)\n",
    "\n",
    "            return a_node\n",
    "\n",
    " \n",
    "\n",
    "    def contains(self, val):\n",
    "\n",
    "        return self.rec_contains(self._head, val)\n",
    "\n",
    " \n",
    "\n",
    "    def rec_contains(self, a_node, val):\n",
    "\n",
    "        \"\"\" Removes a node containing val to the linked list \"\"\"\n",
    "\n",
    "        if a_node is None:\n",
    "\n",
    "            return False\n",
    "\n",
    "        if a_node.data == val:\n",
    "\n",
    "            return True\n",
    "\n",
    "\n",
    "        return self.rec_contains(a_node.next, val)\n",
    "\n",
    " \n",
    "\n",
    "    def is_empty(self):\n",
    "\n",
    "        \"\"\" Returns True if the linked list is empty, returns False otherwise \"\"\"\n",
    "\n",
    "        return self._head is None   \n",
    "\n",
    "    \n",
    "\n",
    "    def rec_display(self, a_node):\n",
    "\n",
    "        \"\"\"recursive display method\"\"\"\n",
    "\n",
    "        if a_node is None:\n",
    "\n",
    "            return\n",
    "        \n",
    "\n",
    "\n",
    "        print(a_node.data, end=\" \")\n",
    "\n",
    "        self.rec_display(a_node.next)\n",
    "\n",
    "        \n",
    "\n",
    "    def display(self):\n",
    "\n",
    "        \"\"\"recursive display helper method\"\"\"\n",
    "\n",
    "        self.rec_display(self._head)\n",
    "\n",
    "        print()\n",
    "\n",
    " \n",
    "\n",
    "    def reverse(self):\n",
    "\n",
    "        self._head = self.rec_reverse(self._head)\n",
    "\n",
    " \n",
    "\n",
    "    def rec_reverse(self, node):\n",
    "\n",
    "        if node is None or node.next is None:\n",
    "\n",
    "            return node\n",
    "\n",
    "        nextNode = node.next\n",
    "\n",
    "        remaining = self.rec_reverse(node.next)\n",
    "\n",
    "        nextNode.next = node\n",
    "\n",
    "        node.next = None\n",
    "\n",
    "        return remaining\n",
    "\n",
    " \n",
    "\n",
    "    def to_regular_list (self):\n",
    "\n",
    "        result = []\n",
    "\n",
    "        self.rec_to_regular_list(self._head, result)\n",
    "\n",
    "        return result\n",
    "\n",
    "        \n",
    "\n",
    "    def rec_to_regular_list (self, node, result):\n",
    "\n",
    "        if node is None:\n",
    "\n",
    "            return result\n",
    "\n",
    "\n",
    "        result.append(node.data)\n",
    "\n",
    "        return self.rec_to_regular_list(node.next, result)"
   ]
  },
  {
   "cell_type": "code",
   "execution_count": 24,
   "metadata": {},
   "outputs": [
    {
     "name": "stdout",
     "output_type": "stream",
     "text": [
      "1 2 3 4 5 \n",
      "1 2 7 3 4 5 \n",
      "1 2 7 3 4 5 7 \n",
      "False\n",
      "True\n",
      "False\n",
      "7 5 4 3 7 2 1 \n",
      "[7, 5, 4, 3, 7, 2, 1]\n"
     ]
    },
    {
     "ename": "AttributeError",
     "evalue": "'Node' object has no attribute 'val'",
     "output_type": "error",
     "traceback": [
      "\u001b[0;31m---------------------------------------------------------------------------\u001b[0m",
      "\u001b[0;31mAttributeError\u001b[0m                            Traceback (most recent call last)",
      "Cell \u001b[0;32mIn [24], line 48\u001b[0m\n\u001b[1;32m     41\u001b[0m l\u001b[39m.\u001b[39mdisplay()\n\u001b[1;32m     45\u001b[0m \u001b[39mprint\u001b[39m(l\u001b[39m.\u001b[39mto_regular_list())\n\u001b[0;32m---> 48\u001b[0m l\u001b[39m.\u001b[39;49mremove(\u001b[39m7\u001b[39;49m)\n\u001b[1;32m     50\u001b[0m l\u001b[39m.\u001b[39mdisplay()\n",
      "Cell \u001b[0;32mIn [22], line 83\u001b[0m, in \u001b[0;36mLinkedList.remove\u001b[0;34m(self, val)\u001b[0m\n\u001b[1;32m     79\u001b[0m \u001b[39mdef\u001b[39;00m \u001b[39mremove\u001b[39m(\u001b[39mself\u001b[39m, val):\n\u001b[1;32m     81\u001b[0m     \u001b[39m\"\"\" Removes the node containing val from the linked list \"\"\"\u001b[39;00m\n\u001b[0;32m---> 83\u001b[0m     \u001b[39mself\u001b[39m\u001b[39m.\u001b[39m_head \u001b[39m=\u001b[39m \u001b[39mself\u001b[39;49m\u001b[39m.\u001b[39;49mrec_remove(\u001b[39mself\u001b[39;49m\u001b[39m.\u001b[39;49m_head, val)\n",
      "Cell \u001b[0;32mIn [22], line 95\u001b[0m, in \u001b[0;36mLinkedList.rec_remove\u001b[0;34m(self, a_node, val)\u001b[0m\n\u001b[1;32m     91\u001b[0m \u001b[39mif\u001b[39;00m a_node \u001b[39mis\u001b[39;00m \u001b[39mNone\u001b[39;00m:\n\u001b[1;32m     93\u001b[0m     \u001b[39mreturn\u001b[39;00m a_node\n\u001b[0;32m---> 95\u001b[0m \u001b[39melif\u001b[39;00m a_node\u001b[39m.\u001b[39;49mval \u001b[39m==\u001b[39m val:\n\u001b[1;32m     97\u001b[0m     \u001b[39mreturn\u001b[39;00m a_node\u001b[39m.\u001b[39mnext\n\u001b[1;32m     99\u001b[0m \u001b[39melse\u001b[39;00m:\n",
      "\u001b[0;31mAttributeError\u001b[0m: 'Node' object has no attribute 'val'"
     ]
    }
   ],
   "source": [
    "\n",
    "l = LinkedList()\n",
    "\n",
    "l.add(1)\n",
    "\n",
    "l.add(2)\n",
    "\n",
    "l.add(3)\n",
    "\n",
    "l.add(4)\n",
    "\n",
    "l.add(5)\n",
    "\n",
    " \n",
    "\n",
    "l.display()\n",
    "\n",
    " \n",
    "\n",
    "l.insert(7, 2)\n",
    "\n",
    "l.display()\n",
    "\n",
    "l.insert(7, 12)\n",
    "\n",
    "l.display()\n",
    "\n",
    " \n",
    "\n",
    " \n",
    "\n",
    "print(l.is_empty())\n",
    "\n",
    "print(l.contains(2))\n",
    "\n",
    "print(l.contains(20))\n",
    "\n",
    " \n",
    "\n",
    "l.reverse()\n",
    "\n",
    "l.display()\n",
    "\n",
    " \n",
    "\n",
    "print(l.to_regular_list())\n",
    " \n",
    "\n",
    "l.remove(7)\n",
    "\n",
    "l.display()"
   ]
  },
  {
   "cell_type": "code",
   "execution_count": 28,
   "metadata": {},
   "outputs": [
    {
     "ename": "NameError",
     "evalue": "name 'bubbleSort' is not defined",
     "output_type": "error",
     "traceback": [
      "\u001b[0;31m---------------------------------------------------------------------------\u001b[0m",
      "\u001b[0;31mNameError\u001b[0m                                 Traceback (most recent call last)",
      "Cell \u001b[0;32mIn [28], line 28\u001b[0m\n\u001b[1;32m     26\u001b[0m    plt\u001b[39m.\u001b[39msavefig(\u001b[39m'\u001b[39m\u001b[39mRun_Time_Vs_Data_Size.png\u001b[39m\u001b[39m'\u001b[39m)\n\u001b[1;32m     27\u001b[0m    plt\u001b[39m.\u001b[39mshow();\n\u001b[0;32m---> 28\u001b[0m run_time_vs_data_size()\n",
      "Cell \u001b[0;32mIn [28], line 17\u001b[0m, in \u001b[0;36mrun_time_vs_data_size\u001b[0;34m()\u001b[0m\n\u001b[1;32m     15\u001b[0m   \u001b[39m#calling the bubbleSort function\u001b[39;00m\n\u001b[1;32m     16\u001b[0m start_time\u001b[39m=\u001b[39mtime\u001b[39m.\u001b[39mtime()\n\u001b[0;32m---> 17\u001b[0m bubbleSort(data)\n\u001b[1;32m     18\u001b[0m end_time \u001b[39m=\u001b[39m time\u001b[39m.\u001b[39mtime()\n\u001b[1;32m     19\u001b[0m   \u001b[39m#run time\u001b[39;00m\n",
      "\u001b[0;31mNameError\u001b[0m: name 'bubbleSort' is not defined"
     ]
    }
   ],
   "source": [
    "import matplotlib.pyplot as plt\n",
    "import random\n",
    "import time\n",
    "#Generating a list of different data sizes\n",
    "def run_time_vs_data_size():\n",
    "   #data size\n",
    "   data_size =[10,50,100,150,200,250,300,350,400,450,500,550,600,650,700,750,800] #when i change this to integer i get an error #ValueError: x and y must have same first dimension, but have shapes (5,) and (0,)\n",
    "   #run time\n",
    "   run_time =[]\n",
    "   #trasverse through the index for degree_of_data_sortedness\n",
    "   for i in data_size:\n",
    "       #generate a random number\n",
    "       data =[random.randint(0,i) for i in range (i)]\n",
    "    \n",
    "         #calling the bubbleSort function\n",
    "       start_time=time.time()\n",
    "       bubbleSort(data)\n",
    "       end_time = time.time()\n",
    "         #run time\n",
    "       run_time.append(end_time - start_time)\n",
    "         #plot easthetics\n",
    "   plt.plot(data_size,run_time)\n",
    "   plt.title('Run Time vs Data Size')\n",
    "   plt.xlabel(\"Data Size\")\n",
    "   plt.ylabel(\"Executon Time\")\n",
    "   plt.savefig('Run_Time_Vs_Data_Size.png')\n",
    "   plt.show();\n",
    "run_time_vs_data_size()"
   ]
  },
  {
   "cell_type": "code",
   "execution_count": null,
   "metadata": {},
   "outputs": [],
   "source": [
    "class HashTable: \n",
    "\n",
    "    def __init__(self, size): \n",
    "\n",
    "        self.size = size \n",
    "\n",
    "        self.buckets = [None]*self.size \n",
    "\n",
    "    def put(self, key, data): \n",
    "\n",
    "        hashvalue = self.hashfunction(key, len(self.buckets)) \n",
    "\n",
    "        if self.buckets[hashvalue] == None: \n",
    "\n",
    "            self.buckets[hashvalue] = ListNode(key, data) \n",
    "\n",
    "        else: \n",
    "\n",
    "            current = self.buckets[hashvalue] \n",
    "\n",
    "        while current.next != None: \n",
    "\n",
    "            current = current.next \n",
    "\n",
    "            current.next = ListNode(key, data) \n",
    "\n",
    "    def hashfunction(self, key, size): \n",
    "\n",
    "        return key%size \n",
    "\n",
    "    def get(self, key): \n",
    "\n",
    "        hashvalue = self.hashfunction(key, len(self.buckets)) \n",
    "\n",
    "        if self.buckets[hashvalue] == None: \n",
    "\n",
    "        return None \n",
    "\n",
    "        else: \n",
    "\n",
    "        current = self.buckets[hashvalue] \n",
    "\n",
    "        while current != None: \n",
    "\n",
    "        if current.key == key: \n",
    "\n",
    "        return current.data \n",
    "\n",
    "        else: \n",
    "\n",
    "        current = current.next \n",
    "\n",
    "        return None\n",
    "#what language: Python\n",
    "#test the program:\n",
    "\n",
    "table = HashTable(5) \n",
    "\n",
    "table.put(1, 'one') \n",
    "\n",
    "table.put(2, 'two') \n",
    "\n",
    "table.put(3, 'three') \n",
    "\n",
    "table.put(4, 'four') \n",
    "\n",
    "table.put(5, 'five') \n",
    "\n",
    "print(table.get(3)) "
   ]
  },
  {
   "cell_type": "code",
   "execution_count": 1,
   "metadata": {},
   "outputs": [
    {
     "name": "stdout",
     "output_type": "stream",
     "text": [
      "ok\n"
     ]
    }
   ],
   "source": [
    "print('ok')"
   ]
  },
  {
   "cell_type": "code",
   "execution_count": 5,
   "metadata": {},
   "outputs": [
    {
     "name": "stdout",
     "output_type": "stream",
     "text": [
      "the original array is:  [3, 4, 5, 6, 7, 8]\n",
      "the max heap of those elements [3, 4, 5, 6, 7, 8]\n",
      "the final sorted array is:  [3, 4, 5, 6, 7, 8]\n"
     ]
    }
   ],
   "source": [
    "\n",
    "#import heapq as hp\n",
    "#import tempfile\n",
    "\n",
    "a=[]\n",
    "temp=[]\n",
    "def get_user_input():\n",
    "  global a,temp\n",
    "  a=list(map(int,input(\"enter the array comma seperated\").split(\",\")))\n",
    "  temp=a.copy()\n",
    "  high=int(input(\"high\"))\n",
    "  low=int(input(\"low\"))\n",
    "  for i in range(len(temp)):\n",
    "    if temp[i]>high or temp[i]<low:\n",
    "      temp[i]=0\n",
    "def left(i): \n",
    "  return 2 * i + 1\n",
    "def right(i): \n",
    "  return 2 * i + 2\n",
    "def max_heapify(arr, n, i): \n",
    "    largest = i \n",
    "    l = left(i) \n",
    "    r = right(i) \n",
    "    if l < n and arr[i] < arr[l]: \n",
    "        largest = l \n",
    "    if r < n and arr[largest] < arr[r]: \n",
    "        largest = r \n",
    "    if largest != i: \n",
    "        arr[i],arr[largest] = arr[largest],arr[i] \n",
    "        max_heapify(arr, n, largest)\n",
    "def heap_sort(arr): \n",
    "    n = len(arr) \n",
    "    for i in range(n, -1, -1): \n",
    "        max_heapify(arr, n, i) \n",
    "    for i in range(n-1, 0, -1): \n",
    "        arr[i], arr[0] = arr[0], arr[i] \n",
    "        max_heapify(arr, i, 0) \n",
    "get_user_input()\n",
    "print(\"the original array is: \",a)\n",
    "heap_sort(temp)\n",
    "print(\"the max heap of those elements\",temp)\n",
    "for i in range(len(temp)):\n",
    "  if temp[i]!=0:\n",
    "    a[i]=temp[i]\n",
    "print(\"the final sorted array is: \",a)"
   ]
  },
  {
   "cell_type": "code",
   "execution_count": 6,
   "metadata": {},
   "outputs": [
    {
     "name": "stdout",
     "output_type": "stream",
     "text": [
      "[10, 20, 30, 40]\n",
      "Deleted value =  10\n",
      "Deleted value =  20\n",
      "[30, 40, 50, 60]\n",
      "Deleted value =  30\n",
      "Deleted value =  40\n",
      "Deleted value =  50\n",
      "Deleted value =  60\n",
      "True\n",
      "Deleted value =  None\n",
      "True\n"
     ]
    }
   ],
   "source": [
    "class Queue(object):\n",
    "    def __init__(self):\n",
    "        self.queue = []\n",
    "\n",
    "    def enqueue(self, data):\n",
    "        self.queue.append(data)\n",
    "\n",
    "    def dequeue(self):\n",
    "        if not self.isEmpty():\n",
    "            data = self.queue[0]\n",
    "            del self.queue[0]\n",
    "            return data\n",
    "        return None\n",
    "\n",
    "    def isEmpty(self):\n",
    "        return self.queue == []\n",
    "\n",
    "    def printQueue(self):\n",
    "        print(self.queue)\n",
    "\n",
    "if __name__ == '__main__':\n",
    "    q = Queue()\n",
    "    q.enqueue(10)\n",
    "    q.enqueue(20)\n",
    "    q.enqueue(30)\n",
    "    q.enqueue(40)\n",
    "    q.printQueue()\n",
    "    print(\"Deleted value = \", q.dequeue())\n",
    "    print(\"Deleted value = \", q.dequeue())\n",
    "    q.enqueue(50)\n",
    "    q.enqueue(60)\n",
    "    q.printQueue()\n",
    "    print(\"Deleted value = \", q.dequeue())\n",
    "    print(\"Deleted value = \", q.dequeue())\n",
    "    print(\"Deleted value = \", q.dequeue())\n",
    "    print(\"Deleted value = \", q.dequeue())\n",
    "    print(q.isEmpty())\n",
    "    print(\"Deleted value = \", q.dequeue())\n",
    "    print(q.isEmpty())"
   ]
  },
  {
   "cell_type": "code",
   "execution_count": 9,
   "metadata": {},
   "outputs": [
    {
     "data": {
      "text/plain": [
       "[10, 9, 8, 6]"
      ]
     },
     "execution_count": 9,
     "metadata": {},
     "output_type": "execute_result"
    }
   ],
   "source": [
    "\n",
    "def greedy_algorithm(disk_size, file_sizes):\n",
    "\n",
    "    sorted_file_sizes = sorted(file_sizes, reverse=True)\n",
    "\n",
    "    files_on_disk = []\n",
    "\n",
    "    for file_size in sorted_file_sizes:\n",
    "\n",
    "        if sum(files_on_disk) + file_size <= disk_size:\n",
    "\n",
    "            files_on_disk.append(file_size)\n",
    "\n",
    "    return files_on_disk\n",
    "\n",
    "#calling the function with sample inputs:\n",
    "\n",
    "file_sizes = [10, 5, 2, 7, 8, 9, 3, 1, 4, 6]\n",
    "\n",
    "disk_size = 33\n",
    "\n",
    "greedy_algorithm(disk_size, file_sizes)"
   ]
  },
  {
   "cell_type": "code",
   "execution_count": 10,
   "metadata": {},
   "outputs": [
    {
     "ename": "UnboundLocalError",
     "evalue": "local variable 'x2' referenced before assignment",
     "output_type": "error",
     "traceback": [
      "\u001b[0;31m---------------------------------------------------------------------------\u001b[0m",
      "\u001b[0;31mUnboundLocalError\u001b[0m                         Traceback (most recent call last)",
      "Cell \u001b[0;32mIn [10], line 7\u001b[0m\n\u001b[1;32m      4\u001b[0m         x2 \u001b[39m=\u001b[39m x2 \u001b[39m-\u001b[39m (x2\u001b[39m*\u001b[39m\u001b[39m*\u001b[39m\u001b[39m3\u001b[39m \u001b[39m-\u001b[39m x2\u001b[39m*\u001b[39m\u001b[39m*\u001b[39m\u001b[39m2\u001b[39m \u001b[39m-\u001b[39m \u001b[39m1\u001b[39m)\u001b[39m/\u001b[39m(\u001b[39m3\u001b[39m\u001b[39m*\u001b[39mx2\u001b[39m*\u001b[39m\u001b[39m*\u001b[39m\u001b[39m2\u001b[39m \u001b[39m-\u001b[39m \u001b[39m2\u001b[39m\u001b[39m*\u001b[39mx2)\n\u001b[1;32m      5\u001b[0m     \u001b[39mreturn\u001b[39;00m x2\n\u001b[0;32m----> 7\u001b[0m newton_fourier(\u001b[39m1\u001b[39;49m,\u001b[39m1.5\u001b[39;49m,\u001b[39m10\u001b[39;49m\u001b[39m*\u001b[39;49m\u001b[39m*\u001b[39;49m\u001b[39m-\u001b[39;49m\u001b[39m8\u001b[39;49m)\n",
      "Cell \u001b[0;32mIn [10], line 2\u001b[0m, in \u001b[0;36mnewton_fourier\u001b[0;34m(x0, x1, tol)\u001b[0m\n\u001b[1;32m      1\u001b[0m \u001b[39mdef\u001b[39;00m \u001b[39mnewton_fourier\u001b[39m(x0,x1,tol):\n\u001b[0;32m----> 2\u001b[0m     \u001b[39mwhile\u001b[39;00m \u001b[39mabs\u001b[39m(x2 \u001b[39m-\u001b[39m x1) \u001b[39m>\u001b[39m tol:\n\u001b[1;32m      3\u001b[0m         x1 \u001b[39m=\u001b[39m x2\n\u001b[1;32m      4\u001b[0m         x2 \u001b[39m=\u001b[39m x2 \u001b[39m-\u001b[39m (x2\u001b[39m*\u001b[39m\u001b[39m*\u001b[39m\u001b[39m3\u001b[39m \u001b[39m-\u001b[39m x2\u001b[39m*\u001b[39m\u001b[39m*\u001b[39m\u001b[39m2\u001b[39m \u001b[39m-\u001b[39m \u001b[39m1\u001b[39m)\u001b[39m/\u001b[39m(\u001b[39m3\u001b[39m\u001b[39m*\u001b[39mx2\u001b[39m*\u001b[39m\u001b[39m*\u001b[39m\u001b[39m2\u001b[39m \u001b[39m-\u001b[39m \u001b[39m2\u001b[39m\u001b[39m*\u001b[39mx2)\n",
      "\u001b[0;31mUnboundLocalError\u001b[0m: local variable 'x2' referenced before assignment"
     ]
    }
   ],
   "source": [
    "def newton_fourier(x0,x1,tol):\n",
    "    while abs(x2 - x1) > tol:\n",
    "        x1 = x2\n",
    "        x2 = x2 - (x2**3 - x2**2 - 1)/(3*x2**2 - 2*x2)\n",
    "    return x2\n",
    "\n",
    "newton_fourier(1,1.5,10**-8)"
   ]
  },
  {
   "cell_type": "code",
   "execution_count": 25,
   "metadata": {},
   "outputs": [
    {
     "data": {
      "text/plain": [
       "4"
      ]
     },
     "execution_count": 25,
     "metadata": {},
     "output_type": "execute_result"
    }
   ],
   "source": [
    "open('moxie.txt', 'w').write('foo\\n')"
   ]
  },
  {
   "cell_type": "code",
   "execution_count": 16,
   "metadata": {},
   "outputs": [
    {
     "data": {
      "image/png": "[encoded data removed]",
      "text/plain": [
       "<Figure size 640x480 with 1 Axes>"
      ]
     },
     "metadata": {},
     "output_type": "display_data"
    }
   ],
   "source": [
    "import matplotlib.pyplot as plt\n",
    "import numpy as np\n",
    "\n",
    "x = np.linspace(-10, 10, 100)\n",
    "y = np.linspace(-10, 10, 100)\n",
    "\n",
    "X, Y = np.meshgrid(x, y)\n",
    "\n",
    "Z = X**2 + Y**2 + 4*X + 2*Y + 29\n",
    "\n",
    "fig = plt.figure()\n",
    "ax = plt.axes(projection='3d')\n",
    "ax.contour3D(X, Y, Z, 50, cmap='binary')\n",
    "ax.set_xlabel('x')\n",
    "ax.set_ylabel('y')\n",
    "ax.set_zlabel('z')\n",
    "\n",
    "plt.show();"
   ]
  },
  {
   "cell_type": "code",
   "execution_count": null,
   "metadata": {},
   "outputs": [],
   "source": []
  },
  {
   "cell_type": "code",
   "execution_count": 12,
   "metadata": {},
   "outputs": [],
   "source": [
    "def Newton_Fourier(x, B=10**-8):\n",
    "    while abs(x**3 - x**2 - 1) > B:\n",
    "        x = x - (x**3 - x**2 - 1)/(3*x**2 - 2*x)\n",
    "    return x"
   ]
  },
  {
   "cell_type": "code",
   "execution_count": 13,
   "metadata": {},
   "outputs": [
    {
     "data": {
      "text/plain": [
       "1.4655712318780663"
      ]
     },
     "execution_count": 13,
     "metadata": {},
     "output_type": "execute_result"
    }
   ],
   "source": [
    "Newton_Fourier(1.5)"
   ]
  },
  {
   "cell_type": "code",
   "execution_count": 1,
   "metadata": {},
   "outputs": [
    {
     "name": "stdout",
     "output_type": "stream",
     "text": [
      "[54, 76, 54]\n",
      "[54, 54, 76]\n"
     ]
    }
   ],
   "source": [
    "def heapify(arr, n, i): \n",
    "    largest = i \n",
    "    l = 2 * i + 1     \n",
    "    r = 2 * i + 2     \n",
    "    if l < n and arr[i] < arr[l]: \n",
    "        largest = l \n",
    "    if r < n and arr[largest] < arr[r]: \n",
    "        largest = r \n",
    "    if largest != i: \n",
    "        arr[i],arr[largest] = arr[largest],arr[i] \n",
    "        heapify(arr, n, largest) \n",
    "def heapSort(arr): \n",
    "    n = len(arr) \n",
    "    for i in range(n, -1, -1): \n",
    "        heapify(arr, n, i) \n",
    "    for i in range(n-1, 0, -1): \n",
    "        arr[i], arr[0] = arr[0], arr[i] \n",
    "        heapify(arr, i, 0) \n",
    "A = list(map(int, input(\"Enter the array elements comma separated ex: (1, 2, 3): \").split(\",\")))\n",
    "low = int(input(\"Low: \"))  # asking high value\n",
    "high = int(input(\"High: \"))  # asking low value\n",
    "print(f'The original elements of the array are: {A}')\n",
    "a=[]\n",
    "for i in A:\n",
    "    if i > low and i < high:\n",
    "        a.append(i)\n",
    "print(f'The Maxheap of those elements within the spefified range is: {a}')\n",
    "heapSort(a) \n",
    "print(f'The final sorted array is: {a}')"
   ]
  },
  {
   "cell_type": "code",
   "execution_count": 4,
   "metadata": {},
   "outputs": [
    {
     "name": "stdout",
     "output_type": "stream",
     "text": [
      "Element could not be found\n"
     ]
    }
   ],
   "source": [
    "list1 = [1, 2, 3, 4, 5]\n",
    "for i in list1:\n",
    "    if i == 6:\n",
    "        print('This is the end')\n",
    "        break\n",
    "\n",
    "else:\n",
    "    print('Element could not be found')\n",
    "    #a for-else statement"
   ]
  },
  {
   "cell_type": "code",
   "execution_count": 5,
   "metadata": {},
   "outputs": [
    {
     "ename": "AttributeError",
     "evalue": "'LinkedList' object has no attribute 'append'",
     "output_type": "error",
     "traceback": [
      "\u001b[0;31m---------------------------------------------------------------------------\u001b[0m",
      "\u001b[0;31mAttributeError\u001b[0m                            Traceback (most recent call last)",
      "Cell \u001b[0;32mIn [5], line 28\u001b[0m\n\u001b[1;32m     24\u001b[0m \u001b[39m#call the function and provide sample input:\u001b[39;00m\n\u001b[1;32m     27\u001b[0m ls \u001b[39m=\u001b[39m LinkedList()\n\u001b[0;32m---> 28\u001b[0m ls\u001b[39m.\u001b[39;49mappend(\u001b[39m30\u001b[39m)\n\u001b[1;32m     29\u001b[0m ls\u001b[39m.\u001b[39mappend(\u001b[39m25\u001b[39m)\n\u001b[1;32m     30\u001b[0m ls\u001b[39m.\u001b[39mappend(\u001b[39m67\u001b[39m)\n",
      "\u001b[0;31mAttributeError\u001b[0m: 'LinkedList' object has no attribute 'append'"
     ]
    }
   ],
   "source": [
    "\n",
    "def sort(self):\n",
    "    if self.head is None or self.head.next is None:\n",
    "        return\n",
    "    \n",
    "    pivot = self.head.data\n",
    "    smaller = LinkedList()\n",
    "    other = LinkedList()\n",
    "    \n",
    "    current = self.head.next\n",
    "    while current is not None:\n",
    "        if current.data <= pivot:\n",
    "            smaller.append(current.data)\n",
    "        else:\n",
    "            other.append(current.data)\n",
    "        current = current.next\n",
    "    \n",
    "    smaller.sort()\n",
    "    other.sort()\n",
    "    \n",
    "    self.head = smaller.head\n",
    "    smaller.tail.next = Node(pivot)\n",
    "    smaller.tail = smaller.tail.next\n",
    "    smaller.tail.next = other.head\n",
    "#call the function and provide sample input:\n",
    "\n",
    "\n",
    "ls = LinkedList()\n",
    "ls.append(30)\n",
    "ls.append(25)\n",
    "ls.append(67)\n",
    "ls.append(99)\n",
    "ls.append(8)\n",
    "ls.append(16)\n",
    "ls.append(28)\n",
    "ls.append(63)\n",
    "ls.append(12)\n",
    "ls.append(20)\n",
    "ls.sort()\n",
    "print(\"sort test: \",ls, \", \", ls.length)"
   ]
  },
  {
   "cell_type": "code",
   "execution_count": null,
   "metadata": {},
   "outputs": [],
   "source": []
  },
  {
   "cell_type": "code",
   "execution_count": 45,
   "metadata": {},
   "outputs": [
    {
     "name": "stdout",
     "output_type": "stream",
     "text": [
      "0\n"
     ]
    }
   ],
   "source": [
    "def findMode(array):\n",
    "    array.sort()\n",
    "    mode = 0\n",
    "    for i in range(len(array)):\n",
    "        if array[i] == array[i+1]:\n",
    "            mode += 1\n",
    "        else:\n",
    "            i += 1\n",
    "            return mode\n",
    "\n",
    "array = [1, 2, 2, 4, 6, 3, 9, 5, 5, 5, 2, 2, 2, 4, 4, 6, 6] \n",
    "\n",
    "# calling the function \n",
    "print(findMode(array))"
   ]
  },
  {
   "cell_type": "code",
   "execution_count": 48,
   "metadata": {},
   "outputs": [
    {
     "name": "stdout",
     "output_type": "stream",
     "text": [
      "Mode of given array is : 5\n"
     ]
    }
   ],
   "source": [
    "def mode(arr): \n",
    "    arr.sort() \n",
    "    max_count = 1\n",
    "    res = arr[0] \n",
    "    count = 1\n",
    "  \n",
    "    for i in range(1, len(arr)): \n",
    "        if (arr[i] == arr[i - 1]): \n",
    "            count += 1\n",
    "        else : \n",
    "            if (count > max_count): \n",
    "                max_count = count \n",
    "                res = arr[i - 1] \n",
    "              \n",
    "            count = 1\n",
    "              \n",
    "    if (count > max_count): \n",
    "        max_count = count \n",
    "        res = arr[i] \n",
    "          \n",
    "    return res \n",
    "  \n",
    "arr = [1, 2, 2, 5, 5, 5, 5, 5, 2, 0] \n",
    "print(\"Mode of given array is :\", mode(arr))"
   ]
  },
  {
   "cell_type": "code",
   "execution_count": null,
   "metadata": {},
   "outputs": [],
   "source": []
  },
  {
   "cell_type": "code",
   "execution_count": null,
   "metadata": {},
   "outputs": [],
   "source": []
  },
  {
   "cell_type": "code",
   "execution_count": null,
   "metadata": {},
   "outputs": [],
   "source": []
  },
  {
   "cell_type": "code",
   "execution_count": 5,
   "metadata": {},
   "outputs": [
    {
     "name": "stdout",
     "output_type": "stream",
     "text": [
      "THE HISTORY OF THE LANDS THAT BECAME THE UNITED STATES BEGAN WITH THE ARRIVAL OF THE FIRST PEOPLE IN THE AMERICAS AROUND 15,000 BC. NUMEROUS INDIGENOUS CULTURES FORMED, AND MANY SAW TRANSFORMATIONS IN THE 16TH CENTURY AWAY FROM MORE DENSELY POPULATED LIFESTYLES AND TOWARDS REORGANIZED POLITIES ELSEWHERE. THE EUROPEAN COLONIZATION OF THE AMERICAS BEGAN IN THE LATE 15TH CENTURY, HOWEVER, MOST COLONIES IN WHAT WOULD LATER BECOME THE UNITED STATES WERE SETTLED AFTER 1600. BY THE 1760S, THE THIRTEEN BRITISH COLONIES CONTAINED 2.5 MILLION PEOPLE AND WERE ESTABLISHED ALONG THE ATLANTIC COAST EAST OF THE APPALACHIAN MOUNTAINS. AFTER DEFEATING FRANCE, THE BRITISH GOVERNMENT IMPOSED A SERIES OF TAXES, INCLUDING THE STAMP ACT OF 1765, REJECTING THE COLONISTS' CONSTITUTIONAL ARGUMENT THAT NEW TAXES NEEDED THEIR APPROVAL. RESISTANCE TO THESE TAXES, ESPECIALLY THE BOSTON TEA PARTY IN 1773, LED TO PARLIAMENT ISSUING PUNITIVE LAWS DESIGNED TO END SELF-GOVERNMENT. ARMED CONFLICT BEGAN IN MASSACHUSETTS IN 1775.\n"
     ]
    }
   ],
   "source": [
    "file = open(\"text_file.txt\", \"r\")\n",
    "\n",
    "for line in file:\n",
    "    for letter in line:\n",
    "        print(letter.upper(), end=\"\")\n",
    "    print()"
   ]
  },
  {
   "cell_type": "code",
   "execution_count": null,
   "metadata": {},
   "outputs": [],
   "source": [
    "public class Thread {\n",
    " \n",
    "    public static void main(String[] args) {\n",
    "         \n",
    "        // Task 1\n",
    "        System.out.println(\"Task 1 started\");\n",
    "        for (int i = 1; i <= 1000; i++) {\n",
    "            System.out.print(i + \" \");\n",
    "        }\n",
    "        System.out.println(\"\\nTask 1 completed\");\n",
    "         \n",
    "        // Task 2\n",
    "        System.out.println(\"Task 2 started\");\n",
    "        for (int i = 1000; i >= 1; i--) {\n",
    "            System.out.print(i + \" \");\n",
    "        }\n",
    "        System.out.println(\"\\nTask 2 completed\");\n",
    "         \n",
    "        // Task 3\n",
    "        System.out.println(\"Task 3 started\");\n",
    "        for (int i = 1; i <= 10; i++) {\n",
    "            System.out.println(i);\n",
    "        }\n",
    "        System.out.println(\"Task 3 completed\");\n",
    "    }\n",
    "\n",
    "    public static void yield() {\n",
    "    }\n",
    " \n",
    "}"
   ]
  },
  {
   "cell_type": "code",
   "execution_count": 3,
   "metadata": {},
   "outputs": [
    {
     "data": {
      "image/png": "[encoded data removed]",
      "text/plain": [
       "<Figure size 640x480 with 1 Axes>"
      ]
     },
     "metadata": {},
     "output_type": "display_data"
    },
    {
     "data": {
      "image/png": "[encoded data removed]",
      "text/plain": [
       "<Figure size 640x480 with 1 Axes>"
      ]
     },
     "metadata": {},
     "output_type": "display_data"
    },
    {
     "data": {
      "image/png": "[encoded data removed]",
      "text/plain": [
       "<Figure size 640x480 with 1 Axes>"
      ]
     },
     "metadata": {},
     "output_type": "display_data"
    },
    {
     "data": {
      "image/png": "[encoded data removed]",
      "text/plain": [
       "<Figure size 640x480 with 1 Axes>"
      ]
     },
     "metadata": {},
     "output_type": "display_data"
    }
   ],
   "source": [
    "import random\n",
    "import matplotlib.pyplot as plt\n",
    "\n",
    "def uniform_random_walk(steps):\n",
    "    position = 0\n",
    "    for i in range(steps):\n",
    "        position += random.uniform(-1,1)\n",
    "    return position\n",
    "def normal_random_walk(steps, mean, std):\n",
    "    position = 0\n",
    "    for i in range(steps):\n",
    "        position += random.gauss(mean, std)\n",
    "    return position\n",
    "\n",
    "def main():\n",
    "    steps = 20\n",
    "    plt.plot([uniform_random_walk(steps) for i in range(1000)])\n",
    "    plt.show()\n",
    "    plt.plot([normal_random_walk(steps, 0, 1) for i in range(1000)])\n",
    "    plt.show()\n",
    "    plt.plot([normal_random_walk(steps, 0, 2) for i in range(1000)])\n",
    "    plt.show()\n",
    "    plt.plot([normal_random_walk(steps, 1, 2) for i in range(1000)])\n",
    "    plt.show()\n",
    "\n",
    "if __name__ == \"__main__\":\n",
    "    main()\n"
   ]
  },
  {
   "cell_type": "code",
   "execution_count": 4,
   "metadata": {},
   "outputs": [
    {
     "name": "stdout",
     "output_type": "stream",
     "text": [
      "1009\n",
      "1013\n",
      "1019\n",
      "1021\n",
      "1031\n",
      "1033\n",
      "1039\n",
      "1049\n",
      "1051\n",
      "1061\n",
      "1063\n",
      "1069\n",
      "1087\n",
      "1091\n",
      "1093\n",
      "1097\n",
      "1103\n",
      "1109\n"
     ]
    }
   ],
   "source": [
    "\n",
    "def FermatTest(n, k):\n",
    "    if n <= 1 or n == 4:\n",
    "        return False\n",
    "    if k <= 0:\n",
    "        return True\n",
    "    a = 2\n",
    "    while k > 0:\n",
    "        if pow(a, n - 1, n) != 1:\n",
    "            return False\n",
    "        a += 1\n",
    "        k -= 1\n",
    "    return True\n",
    "\n",
    "def MRTest(n, k):\n",
    "    if n <= 1 or n == 4:\n",
    "        return False\n",
    "    if k <= 0:\n",
    "        return True\n",
    "    s = 0\n",
    "    d = n - 1\n",
    "    while d % 2 == 0:\n",
    "        d //= 2\n",
    "        s += 1\n",
    "    for i in range(k):\n",
    "        a = 2 + i\n",
    "        x = pow(a, d, n)\n",
    "        if x == 1 or x == n - 1:\n",
    "            continue\n",
    "        for r in range(s):\n",
    "            x = pow(x, 2, n)\n",
    "            if x == 1:\n",
    "                return False\n",
    "            if x == n - 1:\n",
    "                break\n",
    "        else:\n",
    "            return False\n",
    "    return True\n",
    "\n",
    "for n in range(1000, 1111):\n",
    "    if FermatTest(n, 10) and MRTest(n, 10):\n",
    "        print(n)"
   ]
  },
  {
   "cell_type": "code",
   "execution_count": 7,
   "metadata": {},
   "outputs": [
    {
     "data": {
      "text/plain": [
       "array([1., 2., 3., 4., 5.])"
      ]
     },
     "execution_count": 7,
     "metadata": {},
     "output_type": "execute_result"
    }
   ],
   "source": [
    "import numpy as np\n",
    "#Create a vector of integers from 1 to n:\n",
    "\n",
    "n = ((0.055-0.025)/0.0075)+1\n",
    "x = np.arange(1, n+1)\n",
    "x\n"
   ]
  },
  {
   "cell_type": "code",
   "execution_count": 8,
   "metadata": {},
   "outputs": [
    {
     "data": {
      "text/plain": [
       "array([0.0325, 0.04  , 0.0475, 0.055 , 0.0625])"
      ]
     },
     "execution_count": 8,
     "metadata": {},
     "output_type": "execute_result"
    }
   ],
   "source": [
    "\n",
    "#Create a vector of monthly interest rates r:\n",
    "\n",
    "r = 0.025 + x*0.0075\n",
    "r\n",
    "\n",
    "\n"
   ]
  },
  {
   "cell_type": "code",
   "execution_count": 11,
   "metadata": {},
   "outputs": [
    {
     "data": {
      "text/plain": [
       "array([100.27083333, 100.66777778, 101.19220672, 101.84597606,\n",
       "       102.63143506])"
      ]
     },
     "execution_count": 11,
     "metadata": {},
     "output_type": "execute_result"
    }
   ],
   "source": [
    "#Create a vector of balances:\n",
    "\n",
    "balance = 100*(1+r/12)**x\n",
    "balance"
   ]
  },
  {
   "cell_type": "code",
   "execution_count": 1,
   "metadata": {},
   "outputs": [
    {
     "name": "stdout",
     "output_type": "stream",
     "text": [
      "The number of months is: 5.0\n"
     ]
    },
    {
     "ename": "NameError",
     "evalue": "name 'np' is not defined",
     "output_type": "error",
     "traceback": [
      "\u001b[0;31m---------------------------------------------------------------------------\u001b[0m",
      "\u001b[0;31mNameError\u001b[0m                                 Traceback (most recent call last)",
      "Cell \u001b[0;32mIn [1], line 5\u001b[0m\n\u001b[1;32m      3\u001b[0m n \u001b[39m=\u001b[39m ((\u001b[39m0.055\u001b[39m\u001b[39m-\u001b[39m\u001b[39m0.025\u001b[39m)\u001b[39m/\u001b[39m\u001b[39m0.0075\u001b[39m)\u001b[39m+\u001b[39m\u001b[39m1\u001b[39m\n\u001b[1;32m      4\u001b[0m \u001b[39mprint\u001b[39m(\u001b[39mf\u001b[39m\u001b[39m'\u001b[39m\u001b[39mThe number of months is: \u001b[39m\u001b[39m{\u001b[39;00mn\u001b[39m}\u001b[39;00m\u001b[39m'\u001b[39m)\n\u001b[0;32m----> 5\u001b[0m \u001b[39mfor\u001b[39;00m i \u001b[39min\u001b[39;00m np\u001b[39m.\u001b[39marange(\u001b[39m0\u001b[39m,n):\n\u001b[1;32m      6\u001b[0m     balance\u001b[39m=\u001b[39m balance\u001b[39m*\u001b[39m(\u001b[39m1\u001b[39m\u001b[39m+\u001b[39mr\u001b[39m/\u001b[39m\u001b[39m12\u001b[39m)\n\u001b[1;32m      7\u001b[0m     r\u001b[39m=\u001b[39mr\u001b[39m+\u001b[39m\u001b[39m0.0075\u001b[39m\n",
      "\u001b[0;31mNameError\u001b[0m: name 'np' is not defined"
     ]
    }
   ],
   "source": [
    "balance = 100\n",
    "r = 0.025\n",
    "n = ((0.055-0.025)/0.0075)+1\n",
    "print(f'The number of months is: {n}')\n",
    "for i in np.arange(0,n):\n",
    "    balance= balance*(1+r/12)\n",
    "    r=r+0.0075\n",
    "print(f'The final balance is: {balance:.2f}')"
   ]
  },
  {
   "cell_type": "code",
   "execution_count": 13,
   "metadata": {},
   "outputs": [
    {
     "ename": "NameError",
     "evalue": "name 'List' is not defined",
     "output_type": "error",
     "traceback": [
      "\u001b[0;31m---------------------------------------------------------------------------\u001b[0m",
      "\u001b[0;31mNameError\u001b[0m                                 Traceback (most recent call last)",
      "Cell \u001b[0;32mIn [13], line 1\u001b[0m\n\u001b[0;32m----> 1\u001b[0m \u001b[39mdef\u001b[39;00m \u001b[39mshortest_superstring\u001b[39m ( A : List [ string ]) :\n\u001b[1;32m      2\u001b[0m     \u001b[39m# if the list is empty, return an empty string\u001b[39;00m\n\u001b[1;32m      3\u001b[0m     \u001b[39mif\u001b[39;00m \u001b[39mlen\u001b[39m ( A ) \u001b[39m==\u001b[39m \u001b[39m0\u001b[39m :\n\u001b[1;32m      4\u001b[0m         \u001b[39mreturn\u001b[39;00m \u001b[39m\"\u001b[39m\u001b[39m\"\u001b[39m\n",
      "\u001b[0;31mNameError\u001b[0m: name 'List' is not defined"
     ]
    }
   ],
   "source": [
    "\n",
    "def shortest_superstring ( A : List [ string ]) :\n",
    "    # if the list is empty, return an empty string\n",
    "    if len ( A ) == 0 :\n",
    "        return \"\"\n",
    "    # if the list has only one string, return that string\n",
    "    if len ( A ) == 1 :\n",
    "        return A [ 0 ]\n",
    "    # sort the list by the length of the strings\n",
    "    A.sort ( key = lambda x : len ( x ))\n",
    "    # set the first string in the list as the result\n",
    "    res = A [ 0 ]\n",
    "    # iterate through the list\n",
    "    for i in range ( 1 , len ( A )) :\n",
    "        # set the current string to s\n",
    "        s = A [ i ]\n",
    "        # iterate through the current string\n",
    "        for j in range ( len ( s )) :\n",
    "            # if the current string starts with the end of the result\n",
    "            if s.startswith ( res [ j :]) :\n",
    "                # concatenate the rest of the current string to the result\n",
    "                res = res + s [ j + len ( res ) - len ( s ):]\n",
    "                # break out of the loop\n",
    "                break\n",
    "            # if the result starts with the end of the current string\n",
    "            elif res.startswith ( s [ j :]) :\n",
    "                # concatenate the rest of the result to the current string\n",
    "                res = s + res [ j + len ( s ) - len ( res ):]\n",
    "                # break out of the loop\n",
    "                break\n",
    "    # return the result\n",
    "    return res\n",
    "pass"
   ]
  },
  {
   "cell_type": "code",
   "execution_count": 14,
   "metadata": {},
   "outputs": [
    {
     "name": "stdout",
     "output_type": "stream",
     "text": [
      "[1, 2, 1, 3, 3, 4, 5, 5, 5, 6, 9]\n"
     ]
    }
   ],
   "source": [
    "def quicksort(arr, lo, hi, cutoff):\n",
    "  if hi - lo > cutoff: \n",
    "    p = partition(arr, lo, hi)\n",
    "    quicksort(arr, lo, p, cutoff)\n",
    "    quicksort(arr, p + 1, hi, cutoff)\n",
    "  else:\n",
    "    insertion_sort(arr, lo, hi)\n",
    "\n",
    "def partition(arr, lo, hi):\n",
    "  pivot = median(arr, lo, hi)\n",
    "  i = lo\n",
    "  j = hi - 1\n",
    "  while (i <= j):\n",
    "    while (arr[i] < pivot):\n",
    "      i += 1\n",
    "    while (arr[j] > pivot):\n",
    "      j -= 1\n",
    "    if (i <= j):\n",
    "      swap(arr, i, j)\n",
    "      i += 1\n",
    "      j -= 1\n",
    "  return j\n",
    "\n",
    "def insertion_sort(arr, lo, hi):\n",
    "  for i in range(lo, hi):\n",
    "    j = i\n",
    "    while (j > 0 and arr[j - 1] > arr[j]):\n",
    "      swap(arr, j, j - 1)\n",
    "      j -= 1\n",
    "\n",
    "def median(arr, lo, hi):\n",
    "  m = lo + (hi - lo) // 2\n",
    "  s = sorted([arr[lo], arr[m], arr[hi - 1]])\n",
    "  return s[1]\n",
    "\n",
    "def swap(arr, i, j):\n",
    "  temp = arr[i]\n",
    "  arr[i] = arr[j]\n",
    "  arr[j] = temp\n",
    "\n",
    "arr = [3, 1, 4, 1, 5, 9, 2, 6, 5, 3, 5]\n",
    "quicksort(arr, 0, len(arr), 3)\n",
    "print(arr)"
   ]
  },
  {
   "cell_type": "code",
   "execution_count": 1,
   "metadata": {},
   "outputs": [
    {
     "name": "stdout",
     "output_type": "stream",
     "text": [
      "Circular prime numbers between 111 and 1000 are:\n",
      "113\n",
      "131\n",
      "197\n",
      "199\n",
      "311\n",
      "337\n",
      "373\n",
      "719\n",
      "733\n",
      "919\n",
      "971\n",
      "991\n"
     ]
    }
   ],
   "source": [
    "# Using Python to write a program to find and print circular prime numbers between 111 and 1000.\n",
    "\n",
    "# Circular prime numbers have all the rotations of their digits as prime numbers.\n",
    "# Rotations can be accomplished by slicing the number.\n",
    "# Example: number 197\n",
    "# Rotations: 197, 971, 719\n",
    "\n",
    "# Function to test if a number is prime.\n",
    "def isPrime(num) :\n",
    "    if num <= 1 :\n",
    "        return False\n",
    "    if num <= 3 :\n",
    "        return True\n",
    "\n",
    "    # This is checked so that we can skip\n",
    "    # middle five numbers in below loop\n",
    "    if num % 2 == 0 or num % 3 == 0 :\n",
    "        return False\n",
    "\n",
    "    for i in range(5, int((num ** 0.5) + 1), 6) :\n",
    "        if num % i == 0 or num % (i + 2) == 0 :\n",
    "            return False\n",
    "\n",
    "    return True\n",
    "\n",
    "# Function to generate prime numbers.\n",
    "def generatePrimeNumbers(start, end) :\n",
    "    for num in range(start, end + 1) :\n",
    "        if isPrime(num) :\n",
    "            yield num\n",
    "\n",
    "# Function to test if all the rotations of a number are prime numbers.\n",
    "def isCircularPrime(num) :\n",
    "    num_digits = len(str(num))\n",
    "\n",
    "    # Generate all the rotations of a number.\n",
    "    for i in range(num_digits) :\n",
    "        # Slice the number to get a new rotation.\n",
    "        rotation = int(str(num)[i:] + str(num)[:i])\n",
    "\n",
    "        # Return false if any rotations are not prime numbers.\n",
    "        if not isPrime(rotation) :\n",
    "            return False\n",
    "\n",
    "    return True\n",
    "\n",
    "# Function to print circular prime numbers.\n",
    "def printCircularPrimeNumbers() :\n",
    "    print(\"Circular prime numbers between 111 and 1000 are:\")\n",
    "\n",
    "    for num in generatePrimeNumbers(111, 1000) :\n",
    "        if isCircularPrime(num) :\n",
    "            print(num)\n",
    "\n",
    "# Start of the program.\n",
    "printCircularPrimeNumbers()"
   ]
  },
  {
   "cell_type": "code",
   "execution_count": 4,
   "metadata": {},
   "outputs": [
    {
     "name": "stdout",
     "output_type": "stream",
     "text": [
      "373 is a prime number\n"
     ]
    },
    {
     "data": {
      "text/plain": [
       "True"
      ]
     },
     "execution_count": 4,
     "metadata": {},
     "output_type": "execute_result"
    }
   ],
   "source": [
    "def is_prime(num):\n",
    "    for n in range(2,num):\n",
    "        if num % n == 0:\n",
    "            return False\n",
    "    return True\n",
    "\n",
    "num = int(input(\"Enter a number: \"))\n",
    "\n",
    "if is_prime(num):\n",
    "    print(num, \"is a prime number\")\n",
    "else:\n",
    "    print(num, \"is not a prime number\")\n",
    "    \n",
    "    \n",
    "is_prime(num)"
   ]
  },
  {
   "cell_type": "code",
   "execution_count": null,
   "metadata": {},
   "outputs": [],
   "source": []
  },
  {
   "cell_type": "code",
   "execution_count": 54,
   "metadata": {},
   "outputs": [
    {
     "name": "stdout",
     "output_type": "stream",
     "text": [
      "Preorder traversal of the constructed AVL tree is: \n",
      "30 20 10 25 40 50 \n",
      "Postorder traversal of the constructed AVL tree is: \n",
      "10 25 20 50 40 30 \n",
      "Inorder traversal of the constructed AVL tree is:\n",
      "10 20 25 30 40 50 "
     ]
    }
   ],
   "source": [
    "\n",
    "class Node: \n",
    "    def __init__(self, key): \n",
    "        self.key = key \n",
    "        self.left = None\n",
    "        self.right = None\n",
    "        self.height = 1\n",
    "\n",
    "class AVLTree: \n",
    "  \n",
    "    def insert(self, root, key): \n",
    "  \n",
    "        if not root: \n",
    "            return Node(key) \n",
    "        elif key < root.key: \n",
    "            root.left = self.insert(root.left, key) \n",
    "        else: \n",
    "            root.right = self.insert(root.right, key) \n",
    "  \n",
    "        root.height = 1 + max(self.get_height(root.left), \n",
    "                           self.get_height(root.right)) \n",
    "  \n",
    "        balance = self.get_balance(root) \n",
    "  \n",
    "        if balance > 1 and key < root.left.key: \n",
    "            return self.right_rotate(root) \n",
    "  \n",
    "        if balance < -1 and key > root.right.key: \n",
    "            return self.left_rotate(root) \n",
    "  \n",
    "        if balance > 1 and key > root.left.key: \n",
    "            root.left = self.left_rotate(root.left) \n",
    "            return self.right_rotate(root) \n",
    "  \n",
    "        if balance < -1 and key < root.right.key: \n",
    "            root.right = self.right_rotate(root.right) \n",
    "            return self.left_rotate(root) \n",
    "  \n",
    "        return root \n",
    "  \n",
    "    def left_rotate(self, z): \n",
    "  \n",
    "        y = z.right \n",
    "        T2 = y.left \n",
    "  \n",
    "        # Perform rotation \n",
    "        y.left = z \n",
    "        z.right = T2 \n",
    "  \n",
    "        # Update heights \n",
    "        z.height = 1 + max(self.get_height(z.left), \n",
    "                          self.get_height(z.right)) \n",
    "        y.height = 1 + max(self.get_height(y.left), \n",
    "                          self.get_height(y.right)) \n",
    "  \n",
    "        # Return the new root \n",
    "        return y \n",
    "  \n",
    "    def right_rotate(self, z): \n",
    "  \n",
    "        y = z.left \n",
    "        T3 = y.right \n",
    "  \n",
    "        # Perform rotation \n",
    "        y.right = z \n",
    "        z.left = T3 \n",
    "  \n",
    "        # Update heights \n",
    "        z.height = 1 + max(self.get_height(z.left), \n",
    "                           self.get_height(z.right)) \n",
    "        y.height = 1 + max(self.get_height(y.left), \n",
    "                           self.get_height(y.right)) \n",
    "  \n",
    "        # Return the new root \n",
    "        return y \n",
    "  \n",
    "    def get_height(self, root): \n",
    "        if not root: \n",
    "            return 0\n",
    "  \n",
    "        return root.height \n",
    "  \n",
    "    def get_balance(self, root): \n",
    "        if not root: \n",
    "            return 0\n",
    "  \n",
    "        return self.get_height(root.left) - self.get_height(root.right) \n",
    "  \n",
    "    def pre_order(self, root): \n",
    "  \n",
    "        if not root: \n",
    "            return\n",
    "  \n",
    "        print(\"{0} \".format(root.key), end=\"\") \n",
    "        self.pre_order(root.left) \n",
    "        self.pre_order(root.right) \n",
    "  \n",
    "    def post_order(self, root): \n",
    "  \n",
    "        if not root: \n",
    "            return\n",
    "  \n",
    "        self.post_order(root.left) \n",
    "        self.post_order(root.right) \n",
    "        print(\"{0} \".format(root.key), end=\"\") \n",
    "  \n",
    "    def in_order(self, root): \n",
    "  \n",
    "        if not root: \n",
    "            return\n",
    "  \n",
    "        self.in_order(root.left) \n",
    "        print(\"{0} \".format(root.key), end=\"\") \n",
    "        self.in_order(root.right) \n",
    "  \n",
    "tree = AVLTree() \n",
    "root = None\n",
    "  \n",
    "root = tree.insert(root, 10) \n",
    "root = tree.insert(root, 20) \n",
    "root = tree.insert(root, 30) \n",
    "root = tree.insert(root, 40) \n",
    "root = tree.insert(root, 50) \n",
    "root = tree.insert(root, 25) \n",
    "  \n",
    "  \n",
    "print(\"Preorder traversal of the constructed AVL tree is: \") \n",
    "tree.pre_order(root) \n",
    "\n",
    "print(\"\\nPostorder traversal of the constructed AVL tree is: \") \n",
    "tree.post_order(root) \n",
    "\n",
    "print(\"\\nInorder traversal of the constructed AVL tree is:\") \n",
    "tree.in_order(root) "
   ]
  },
  {
   "cell_type": "code",
   "execution_count": 53,
   "metadata": {},
   "outputs": [
    {
     "name": "stdout",
     "output_type": "stream",
     "text": [
      "Preorder traversal of the constructed AVL tree is: \n",
      "30 20 10 25 40 50 \n",
      "Postorder traversal of the constructed AVL tree is: \n",
      "10 25 20 50 40 30 "
     ]
    }
   ],
   "source": [
    "class Node: \n",
    "    def __init__(self, key): \n",
    "        self.key = key \n",
    "        self.left = None\n",
    "        self.right = None\n",
    "        self.height = 1\n",
    "\n",
    "class AVLTree: \n",
    "  \n",
    "    def insert(self, root, key): \n",
    "  \n",
    "        if not root: \n",
    "            return Node(key) \n",
    "        elif key < root.key: \n",
    "            root.left = self.insert(root.left, key) \n",
    "        else: \n",
    "            root.right = self.insert(root.right, key) \n",
    "  \n",
    "        root.height = 1 + max(self.get_height(root.left), \n",
    "                           self.get_height(root.right)) \n",
    "  \n",
    "        balance = self.get_balance(root) \n",
    "  \n",
    "        if balance > 1 and key < root.left.key: \n",
    "            return self.right_rotate(root) \n",
    "  \n",
    "        if balance < -1 and key > root.right.key: \n",
    "            return self.left_rotate(root) \n",
    "  \n",
    "        if balance > 1 and key > root.left.key: \n",
    "            root.left = self.left_rotate(root.left) \n",
    "            return self.right_rotate(root) \n",
    "  \n",
    "        if balance < -1 and key < root.right.key: \n",
    "            root.right = self.right_rotate(root.right) \n",
    "            return self.left_rotate(root) \n",
    "  \n",
    "        return root \n",
    "  \n",
    "    def left_rotate(self, z): \n",
    "  \n",
    "        y = z.right \n",
    "        T2 = y.left \n",
    "  \n",
    "        # Perform rotation \n",
    "        y.left = z \n",
    "        z.right = T2 \n",
    "  \n",
    "        # Update heights \n",
    "        z.height = 1 + max(self.get_height(z.left), \n",
    "                           self.get_height(z.right)) \n",
    "        y.height = 1 + max(self.get_height(y.left), \n",
    "                           self.get_height(y.right)) \n",
    "  \n",
    "        # Return the new root \n",
    "        return y \n",
    "  \n",
    "    def right_rotate(self, z): \n",
    "  \n",
    "        y = z.left \n",
    "        T3 = y.right \n",
    "  \n",
    "        # Perform rotation \n",
    "        y.right = z \n",
    "        z.left = T3 \n",
    "  \n",
    "        # Update heights \n",
    "        z.height = 1 + max(self.get_height(z.left), \n",
    "                           self.get_height(z.right)) \n",
    "        y.height = 1 + max(self.get_height(y.left), \n",
    "                           self.get_height(y.right)) \n",
    "  \n",
    "        # Return the new root \n",
    "        return y \n",
    "  \n",
    "    def get_height(self, root): \n",
    "        if not root: \n",
    "            return 0\n",
    "  \n",
    "        return root.height \n",
    "  \n",
    "    def get_balance(self, root): \n",
    "        if not root: \n",
    "            return 0\n",
    "  \n",
    "        return self.get_height(root.left) - self.get_height(root.right) \n",
    "  \n",
    "    def pre_order(self, root): \n",
    "  \n",
    "        if not root: \n",
    "            return\n",
    "  \n",
    "        print(\"{0} \".format(root.key), end=\"\") \n",
    "        self.pre_order(root.left) \n",
    "        self.pre_order(root.right) \n",
    "  \n",
    "    def post_order(self, root): \n",
    "  \n",
    "        if not root: \n",
    "            return\n",
    "  \n",
    "        self.post_order(root.left) \n",
    "        self.post_order(root.right) \n",
    "        print(\"{0} \".format(root.key), end=\"\") \n",
    "  \n",
    "    def in_order(self, root): \n",
    "  \n",
    "        if not root: \n",
    "            return\n",
    "  \n",
    "        self.in_order(root.left) \n",
    "        print(\"{0} \".format(root.key), end=\"\") \n",
    "        self.in_order(root.right) \n",
    "\n",
    "def main(): \n",
    "    tree = AVLTree() \n",
    "    root = None\n",
    "  \n",
    "    root = tree.insert(root, 10) \n",
    "    root = tree.insert(root, 20) \n",
    "    root = tree.insert(root, 30) \n",
    "    root = tree.insert(root, 40) \n",
    "    root = tree.insert(root, 50) \n",
    "    root = tree.insert(root, 25) \n",
    "  \n",
    "  \n",
    "    print(\"Preorder traversal of the constructed AVL tree is: \") \n",
    "    tree.pre_order(root) \n",
    "\n",
    "    print(\"\\nPostorder traversal of the constructed AVL tree is: \") \n",
    "    tree.post_order(root) \n",
    "\n",
    "if __name__ == \"__main__\": \n",
    "    main() "
   ]
  },
  {
   "cell_type": "code",
   "execution_count": 1,
   "metadata": {},
   "outputs": [
    {
     "data": {
      "image/png": "[encoded data removed]",
      "text/plain": [
       "<Figure size 640x480 with 1 Axes>"
      ]
     },
     "metadata": {},
     "output_type": "display_data"
    }
   ],
   "source": [
    "import matplotlib.pyplot as plt\n",
    "import numpy as np\n",
    "\n",
    "def f(x,w):\n",
    "    return 1/2 + np.sin(x1*w1)**2 + np.cos(x2*w2)\n",
    "\n",
    "def gf(x,w):\n",
    "    return 1/2 + 2*np.sin(x1*w1)*np.cos(x1*w1) + (-np.sin(x2*w2))\n",
    "\n",
    "x1 = np.linspace(-5,5,100)\n",
    "x2 = np.linspace(-5,5,100)\n",
    "w1 = np.linspace(-5,5,100)\n",
    "w2 = np.linspace(-5,5,100)\n",
    "\n",
    "plt.plot(x1,f(x1,w1),label='f(x,w)')\n",
    "plt.plot(x2,gf(x2,w2),label='gf(x,w)')\n",
    "plt.xlabel('w1')\n",
    "plt.ylabel('w2')\n",
    "plt.legend()\n",
    "plt.show();"
   ]
  },
  {
   "cell_type": "code",
   "execution_count": 2,
   "metadata": {},
   "outputs": [
    {
     "name": "stdout",
     "output_type": "stream",
     "text": [
      "[1, 2, 7, 4, 3, 8, 15, 13, 10, 9]\n"
     ]
    }
   ],
   "source": [
    "H = [2,3,7,4,9,8,15, 13, 10]\n",
    "H.append(1)\n",
    "i = len(H)-1\n",
    "parent = (i-1)//2\n",
    "\n",
    "while i != 0 and H[i] < H[parent]:\n",
    "    temp = H[i]\n",
    "    H[i] = H[parent]\n",
    "    H[parent] = temp\n",
    "    i = parent\n",
    "    parent = (i-1)//2\n",
    "\n",
    "print(H)"
   ]
  },
  {
   "cell_type": "code",
   "execution_count": 7,
   "metadata": {},
   "outputs": [
    {
     "name": "stdout",
     "output_type": "stream",
     "text": [
      "Calories burned per minute: 4\n",
      "Minutes worked out: 30\n",
      "Calories burned after 0 minutes: 0\n",
      "Calories burned after 5 minutes: 20\n",
      "Calories burned after 10 minutes: 40\n",
      "Calories burned after 15 minutes: 60\n",
      "Calories burned after 20 minutes: 80\n",
      "Calories burned after 25 minutes: 100\n",
      "Calories burned after 30 minutes: 120\n"
     ]
    }
   ],
   "source": [
    "def calories_burned(per_minute, minutes) : \n",
    "    print(\"Calories burned per minute: \" + str(per_minute)) \n",
    "    print(\"Minutes worked out: \" + str(minutes))\n",
    "    for time in range(0, minutes + 1, 5) : \n",
    "        calories = per_minute * time \n",
    "        print(\"Calories burned after \" + str(time) + \" minutes: \" + str(round(calories)))\n",
    "\n",
    "calories_burned(4, 30)"
   ]
  },
  {
   "cell_type": "code",
   "execution_count": 11,
   "metadata": {},
   "outputs": [
    {
     "name": "stdout",
     "output_type": "stream",
     "text": [
      "Calories burned per minute: 4\n",
      "Minutes worked out: 30\n"
     ]
    },
    {
     "ename": "AssertionError",
     "evalue": "",
     "output_type": "error",
     "traceback": [
      "\u001b[0;31m---------------------------------------------------------------------------\u001b[0m",
      "\u001b[0;31mAssertionError\u001b[0m                            Traceback (most recent call last)",
      "Cell \u001b[0;32mIn [11], line 6\u001b[0m\n\u001b[1;32m      3\u001b[0m     \u001b[39massert\u001b[39;00m calories_burned(\u001b[39m4\u001b[39m, \u001b[39m35\u001b[39m) \u001b[39m==\u001b[39m \u001b[39mNone\u001b[39;00m\n\u001b[1;32m      4\u001b[0m     \u001b[39massert\u001b[39;00m calories_burned(\u001b[39m4\u001b[39m, \u001b[39m40\u001b[39m) \u001b[39m==\u001b[39m \u001b[39mNone\u001b[39;00m\n\u001b[0;32m----> 6\u001b[0m test_calories_burned()\n",
      "Cell \u001b[0;32mIn [11], line 2\u001b[0m, in \u001b[0;36mtest_calories_burned\u001b[0;34m()\u001b[0m\n\u001b[1;32m      1\u001b[0m \u001b[39mdef\u001b[39;00m \u001b[39mtest_calories_burned\u001b[39m() : \n\u001b[0;32m----> 2\u001b[0m     \u001b[39massert\u001b[39;00m calories_burned(\u001b[39m4\u001b[39m, \u001b[39m30\u001b[39m) \u001b[39m==\u001b[39m \u001b[39mNone\u001b[39;00m\n\u001b[1;32m      3\u001b[0m     \u001b[39massert\u001b[39;00m calories_burned(\u001b[39m4\u001b[39m, \u001b[39m35\u001b[39m) \u001b[39m==\u001b[39m \u001b[39mNone\u001b[39;00m\n\u001b[1;32m      4\u001b[0m     \u001b[39massert\u001b[39;00m calories_burned(\u001b[39m4\u001b[39m, \u001b[39m40\u001b[39m) \u001b[39m==\u001b[39m \u001b[39mNone\u001b[39;00m\n",
      "\u001b[0;31mAssertionError\u001b[0m: "
     ]
    }
   ],
   "source": [
    "\n",
    "def test_calories_burned() : \n",
    "    assert calories_burned(4, 30) == None\n",
    "    assert calories_burned(4, 35) == None\n",
    "    assert calories_burned(4, 40) == None\n",
    "\n",
    "test_calories_burned()"
   ]
  },
  {
   "cell_type": "code",
   "execution_count": 14,
   "metadata": {},
   "outputs": [],
   "source": [
    "def calories_burned(per_minute, minutes) : \n",
    "    print(\"Calories burned per minute: \" + str(per_minute)) \n",
    "    print(\"Minutes worked out: \" + str(minutes))\n",
    "    for time in range(0, minutes + 1, 5) : \n",
    "        calories = per_minute * time \n",
    "    print(\"Calories burned after \" + str(time) + \" minutes: \" + str(round(calories)))\n"
   ]
  },
  {
   "cell_type": "code",
   "execution_count": 15,
   "metadata": {},
   "outputs": [
    {
     "name": "stdout",
     "output_type": "stream",
     "text": [
      "Calories burned per minute: 4\n",
      "Minutes worked out: 30\n",
      "Calories burned after 30 minutes: 120\n",
      "Calories burned per minute: 4\n",
      "Minutes worked out: 35\n",
      "Calories burned after 35 minutes: 140\n",
      "Calories burned per minute: 4\n",
      "Minutes worked out: 40\n",
      "Calories burned after 40 minutes: 160\n"
     ]
    }
   ],
   "source": [
    "def test_calories_burned() : \n",
    "    assert calories_burned(4, 30) == None\n",
    "    assert calories_burned(4, 35) == None\n",
    "    assert calories_burned(4, 40) == None\n",
    "\n",
    "test_calories_burned()"
   ]
  },
  {
   "cell_type": "code",
   "execution_count": 1,
   "metadata": {},
   "outputs": [
    {
     "ename": "AttributeError",
     "evalue": "'NoneType' object has no attribute 'shape'",
     "output_type": "error",
     "traceback": [
      "\u001b[0;31m---------------------------------------------------------------------------\u001b[0m",
      "\u001b[0;31mAttributeError\u001b[0m                            Traceback (most recent call last)",
      "Cell \u001b[0;32mIn [1], line 29\u001b[0m\n\u001b[1;32m     25\u001b[0m     \u001b[39mreturn\u001b[39;00m img_out\n\u001b[1;32m     28\u001b[0m img \u001b[39m=\u001b[39m cv2\u001b[39m.\u001b[39mimread(\u001b[39m'\u001b[39m\u001b[39m/Users/keshavraj/Documents/noisy_image.tif\u001b[39m\u001b[39m'\u001b[39m, \u001b[39m0\u001b[39m)\n\u001b[0;32m---> 29\u001b[0m out \u001b[39m=\u001b[39m AdaptiveMedianFilter(img, \u001b[39m7\u001b[39;49m)\n\u001b[1;32m     30\u001b[0m cv2\u001b[39m.\u001b[39mimshow(\u001b[39m'\u001b[39m\u001b[39moutput\u001b[39m\u001b[39m'\u001b[39m, out)\n\u001b[1;32m     31\u001b[0m cv2\u001b[39m.\u001b[39mwaitKey(\u001b[39m0\u001b[39m)\n",
      "Cell \u001b[0;32mIn [1], line 7\u001b[0m, in \u001b[0;36mAdaptiveMedianFilter\u001b[0;34m(img, r)\u001b[0m\n\u001b[1;32m      4\u001b[0m \u001b[39mdef\u001b[39;00m \u001b[39mAdaptiveMedianFilter\u001b[39m(img, r):\n\u001b[1;32m      5\u001b[0m     img_out \u001b[39m=\u001b[39m np\u001b[39m.\u001b[39mzeros_like(img)\n\u001b[0;32m----> 7\u001b[0m     \u001b[39mfor\u001b[39;00m i \u001b[39min\u001b[39;00m \u001b[39mrange\u001b[39m(r, img\u001b[39m.\u001b[39;49mshape[\u001b[39m0\u001b[39m]\u001b[39m-\u001b[39mr):\n\u001b[1;32m      8\u001b[0m         \u001b[39mfor\u001b[39;00m j \u001b[39min\u001b[39;00m \u001b[39mrange\u001b[39m(r, img\u001b[39m.\u001b[39mshape[\u001b[39m1\u001b[39m]\u001b[39m-\u001b[39mr):\n\u001b[1;32m      9\u001b[0m             z_med \u001b[39m=\u001b[39m img[i\u001b[39m-\u001b[39mr:i\u001b[39m+\u001b[39mr\u001b[39m+\u001b[39m\u001b[39m1\u001b[39m, j\u001b[39m-\u001b[39mr:j\u001b[39m+\u001b[39mr\u001b[39m+\u001b[39m\u001b[39m1\u001b[39m]\n",
      "\u001b[0;31mAttributeError\u001b[0m: 'NoneType' object has no attribute 'shape'"
     ]
    }
   ],
   "source": [
    "\n",
    "import cv2\n",
    "import numpy as np\n",
    " \n",
    "def AdaptiveMedianFilter(img, r):\n",
    "    img_out = np.zeros_like(img)\n",
    " \n",
    "    for i in range(r, img.shape[0]-r):\n",
    "        for j in range(r, img.shape[1]-r):\n",
    "            z_med = img[i-r:i+r+1, j-r:j+r+1]\n",
    "            z_med = np.sort(z_med, axis=None)\n",
    "            z_min = z_med[0:int(((2*r+1)*(2*r+1))/2)-1]\n",
    "            z_max = z_med[int(((2*r+1)*(2*r+1))/2):int(((2*r+1)*(2*r+1)))-1]\n",
    "            A1 = np.median(z_min)\n",
    "            A2 = np.median(z_max)\n",
    " \n",
    "            if img[i, j] >= A1 and img[i, j] <= A2:\n",
    "                img_out[i, j] = img[i, j]\n",
    " \n",
    "            elif img[i, j] < A1:\n",
    "                img_out[i, j] = A1\n",
    " \n",
    "            elif img[i, j] > A2:\n",
    "                img_out[i, j] = A2\n",
    " \n",
    "    return img_out\n",
    " \n",
    " \n",
    "img = cv2.imread('/Users/keshavraj/Documents/noisy_image.tif', 0)\n",
    "out = AdaptiveMedianFilter(img, 7)\n",
    "cv2.imshow('output', out)\n",
    "cv2.waitKey(0)\n",
    "cv2.destroyAllWindows()"
   ]
  },
  {
   "cell_type": "code",
   "execution_count": null,
   "metadata": {},
   "outputs": [],
   "source": []
  },
  {
   "cell_type": "code",
   "execution_count": null,
   "metadata": {},
   "outputs": [],
   "source": []
  },
  {
   "cell_type": "code",
   "execution_count": 8,
   "metadata": {},
   "outputs": [
    {
     "name": "stdout",
     "output_type": "stream",
     "text": [
      "Calories burned per minute: 4\n",
      "Minutes worked out: 30\n",
      "Calories burned after 0 minutes: 0\n",
      "Calories burned after 5 minutes: 20\n",
      "Calories burned after 10 minutes: 40\n",
      "Calories burned after 15 minutes: 60\n",
      "Calories burned after 20 minutes: 80\n",
      "Calories burned after 25 minutes: 100\n",
      "Calories burned after 30 minutes: 120\n"
     ]
    },
    {
     "ename": "AssertionError",
     "evalue": "",
     "output_type": "error",
     "traceback": [
      "\u001b[0;31m---------------------------------------------------------------------------\u001b[0m",
      "\u001b[0;31mAssertionError\u001b[0m                            Traceback (most recent call last)",
      "Cell \u001b[0;32mIn [8], line 7\u001b[0m\n\u001b[1;32m      4\u001b[0m     \u001b[39massert\u001b[39;00m(calories_burned(\u001b[39m6\u001b[39m, \u001b[39m60\u001b[39m) \u001b[39m==\u001b[39m [\u001b[39m0\u001b[39m, \u001b[39m30\u001b[39m, \u001b[39m60\u001b[39m, \u001b[39m90\u001b[39m, \u001b[39m120\u001b[39m, \u001b[39m150\u001b[39m, \u001b[39m180\u001b[39m, \u001b[39m210\u001b[39m, \u001b[39m240\u001b[39m, \u001b[39m270\u001b[39m, \u001b[39m300\u001b[39m, \u001b[39m330\u001b[39m, \u001b[39m360\u001b[39m, \u001b[39m390\u001b[39m, \u001b[39m420\u001b[39m, \u001b[39m450\u001b[39m, \u001b[39m480\u001b[39m, \u001b[39m510\u001b[39m, \u001b[39m540\u001b[39m, \u001b[39m570\u001b[39m, \u001b[39m600\u001b[39m, \u001b[39m630\u001b[39m, \u001b[39m660\u001b[39m, \u001b[39m690\u001b[39m, \u001b[39m720\u001b[39m, \u001b[39m750\u001b[39m, \u001b[39m780\u001b[39m, \u001b[39m810\u001b[39m, \u001b[39m840\u001b[39m, \u001b[39m870\u001b[39m, \u001b[39m900\u001b[39m, \u001b[39m930\u001b[39m, \u001b[39m960\u001b[39m, \u001b[39m990\u001b[39m])\n\u001b[1;32m      5\u001b[0m     \u001b[39mprint\u001b[39m(\u001b[39m\"\u001b[39m\u001b[39mTest passed\u001b[39m\u001b[39m\"\u001b[39m)\n\u001b[0;32m----> 7\u001b[0m test_calories_burned()\n",
      "Cell \u001b[0;32mIn [8], line 2\u001b[0m, in \u001b[0;36mtest_calories_burned\u001b[0;34m()\u001b[0m\n\u001b[1;32m      1\u001b[0m \u001b[39mdef\u001b[39;00m \u001b[39mtest_calories_burned\u001b[39m() : \n\u001b[0;32m----> 2\u001b[0m     \u001b[39massert\u001b[39;00m(calories_burned(\u001b[39m4\u001b[39m, \u001b[39m30\u001b[39m) \u001b[39m==\u001b[39m [\u001b[39m0\u001b[39m, \u001b[39m20\u001b[39m, \u001b[39m40\u001b[39m, \u001b[39m60\u001b[39m, \u001b[39m80\u001b[39m, \u001b[39m100\u001b[39m, \u001b[39m120\u001b[39m])\n\u001b[1;32m      3\u001b[0m     \u001b[39massert\u001b[39;00m(calories_burned(\u001b[39m5\u001b[39m, \u001b[39m45\u001b[39m) \u001b[39m==\u001b[39m [\u001b[39m0\u001b[39m, \u001b[39m25\u001b[39m, \u001b[39m50\u001b[39m, \u001b[39m75\u001b[39m, \u001b[39m100\u001b[39m, \u001b[39m125\u001b[39m, \u001b[39m150\u001b[39m, \u001b[39m175\u001b[39m, \u001b[39m200\u001b[39m, \u001b[39m225\u001b[39m, \u001b[39m250\u001b[39m, \u001b[39m275\u001b[39m, \u001b[39m300\u001b[39m, \u001b[39m325\u001b[39m, \u001b[39m350\u001b[39m, \u001b[39m375\u001b[39m, \u001b[39m400\u001b[39m, \u001b[39m425\u001b[39m, \u001b[39m450\u001b[39m])\n\u001b[1;32m      4\u001b[0m     \u001b[39massert\u001b[39;00m(calories_burned(\u001b[39m6\u001b[39m, \u001b[39m60\u001b[39m) \u001b[39m==\u001b[39m [\u001b[39m0\u001b[39m, \u001b[39m30\u001b[39m, \u001b[39m60\u001b[39m, \u001b[39m90\u001b[39m, \u001b[39m120\u001b[39m, \u001b[39m150\u001b[39m, \u001b[39m180\u001b[39m, \u001b[39m210\u001b[39m, \u001b[39m240\u001b[39m, \u001b[39m270\u001b[39m, \u001b[39m300\u001b[39m, \u001b[39m330\u001b[39m, \u001b[39m360\u001b[39m, \u001b[39m390\u001b[39m, \u001b[39m420\u001b[39m, \u001b[39m450\u001b[39m, \u001b[39m480\u001b[39m, \u001b[39m510\u001b[39m, \u001b[39m540\u001b[39m, \u001b[39m570\u001b[39m, \u001b[39m600\u001b[39m, \u001b[39m630\u001b[39m, \u001b[39m660\u001b[39m, \u001b[39m690\u001b[39m, \u001b[39m720\u001b[39m, \u001b[39m750\u001b[39m, \u001b[39m780\u001b[39m, \u001b[39m810\u001b[39m, \u001b[39m840\u001b[39m, \u001b[39m870\u001b[39m, \u001b[39m900\u001b[39m, \u001b[39m930\u001b[39m, \u001b[39m960\u001b[39m, \u001b[39m990\u001b[39m])\n",
      "\u001b[0;31mAssertionError\u001b[0m: "
     ]
    }
   ],
   "source": [
    "def test_calories_burned() : \n",
    "    assert(calories_burned(4, 30) == [0, 20, 40, 60, 80, 100, 120])\n",
    "    assert(calories_burned(5, 45) == [0, 25, 50, 75, 100, 125, 150, 175, 200, 225, 250, 275, 300, 325, 350, 375, 400, 425, 450])\n",
    "    assert(calories_burned(6, 60) == [0, 30, 60, 90, 120, 150, 180, 210, 240, 270, 300, 330, 360, 390, 420, 450, 480, 510, 540, 570, 600, 630, 660, 690, 720, 750, 780, 810, 840, 870, 900, 930, 960, 990])\n",
    "    print(\"Test passed\")\n",
    "\n",
    "test_calories_burned()"
   ]
  },
  {
   "cell_type": "code",
   "execution_count": 10,
   "metadata": {},
   "outputs": [
    {
     "name": "stdout",
     "output_type": "stream",
     "text": [
      "Calories burned per minute: 4\n",
      "Minutes worked out: 30\n",
      "Calories burned per minute: 5\n",
      "Minutes worked out: 45\n"
     ]
    },
    {
     "ename": "AssertionError",
     "evalue": "",
     "output_type": "error",
     "traceback": [
      "\u001b[0;31m---------------------------------------------------------------------------\u001b[0m",
      "\u001b[0;31mAssertionError\u001b[0m                            Traceback (most recent call last)",
      "Cell \u001b[0;32mIn [10], line 16\u001b[0m\n\u001b[1;32m     13\u001b[0m     \u001b[39massert\u001b[39;00m(calories_burned(\u001b[39m6\u001b[39m, \u001b[39m60\u001b[39m) \u001b[39m==\u001b[39m [\u001b[39m0\u001b[39m, \u001b[39m30\u001b[39m, \u001b[39m60\u001b[39m, \u001b[39m90\u001b[39m, \u001b[39m120\u001b[39m, \u001b[39m150\u001b[39m, \u001b[39m180\u001b[39m, \u001b[39m210\u001b[39m, \u001b[39m240\u001b[39m, \u001b[39m270\u001b[39m, \u001b[39m300\u001b[39m, \u001b[39m330\u001b[39m, \u001b[39m360\u001b[39m, \u001b[39m390\u001b[39m, \u001b[39m420\u001b[39m, \u001b[39m450\u001b[39m, \u001b[39m480\u001b[39m, \u001b[39m510\u001b[39m, \u001b[39m540\u001b[39m, \u001b[39m570\u001b[39m, \u001b[39m600\u001b[39m, \u001b[39m630\u001b[39m, \u001b[39m660\u001b[39m, \u001b[39m690\u001b[39m, \u001b[39m720\u001b[39m, \u001b[39m750\u001b[39m, \u001b[39m780\u001b[39m, \u001b[39m810\u001b[39m, \u001b[39m840\u001b[39m, \u001b[39m870\u001b[39m, \u001b[39m900\u001b[39m, \u001b[39m930\u001b[39m, \u001b[39m960\u001b[39m, \u001b[39m990\u001b[39m])\n\u001b[1;32m     14\u001b[0m     \u001b[39mprint\u001b[39m(\u001b[39m\"\u001b[39m\u001b[39mTest passed\u001b[39m\u001b[39m\"\u001b[39m)\n\u001b[0;32m---> 16\u001b[0m \u001b[39mlist\u001b[39m(test_calories_burned())\n",
      "Cell \u001b[0;32mIn [10], line 12\u001b[0m, in \u001b[0;36mtest_calories_burned\u001b[0;34m()\u001b[0m\n\u001b[1;32m     10\u001b[0m \u001b[39mdef\u001b[39;00m \u001b[39mtest_calories_burned\u001b[39m() : \n\u001b[1;32m     11\u001b[0m     \u001b[39massert\u001b[39;00m(calories_burned(\u001b[39m4\u001b[39m, \u001b[39m30\u001b[39m) \u001b[39m==\u001b[39m [\u001b[39m0\u001b[39m, \u001b[39m20\u001b[39m, \u001b[39m40\u001b[39m, \u001b[39m60\u001b[39m, \u001b[39m80\u001b[39m, \u001b[39m100\u001b[39m, \u001b[39m120\u001b[39m])\n\u001b[0;32m---> 12\u001b[0m     \u001b[39massert\u001b[39;00m(calories_burned(\u001b[39m5\u001b[39m, \u001b[39m45\u001b[39m) \u001b[39m==\u001b[39m [\u001b[39m0\u001b[39m, \u001b[39m25\u001b[39m, \u001b[39m50\u001b[39m, \u001b[39m75\u001b[39m, \u001b[39m100\u001b[39m, \u001b[39m125\u001b[39m, \u001b[39m150\u001b[39m, \u001b[39m175\u001b[39m, \u001b[39m200\u001b[39m, \u001b[39m225\u001b[39m, \u001b[39m250\u001b[39m, \u001b[39m275\u001b[39m, \u001b[39m300\u001b[39m, \u001b[39m325\u001b[39m, \u001b[39m350\u001b[39m, \u001b[39m375\u001b[39m, \u001b[39m400\u001b[39m, \u001b[39m425\u001b[39m, \u001b[39m450\u001b[39m])\n\u001b[1;32m     13\u001b[0m     \u001b[39massert\u001b[39;00m(calories_burned(\u001b[39m6\u001b[39m, \u001b[39m60\u001b[39m) \u001b[39m==\u001b[39m [\u001b[39m0\u001b[39m, \u001b[39m30\u001b[39m, \u001b[39m60\u001b[39m, \u001b[39m90\u001b[39m, \u001b[39m120\u001b[39m, \u001b[39m150\u001b[39m, \u001b[39m180\u001b[39m, \u001b[39m210\u001b[39m, \u001b[39m240\u001b[39m, \u001b[39m270\u001b[39m, \u001b[39m300\u001b[39m, \u001b[39m330\u001b[39m, \u001b[39m360\u001b[39m, \u001b[39m390\u001b[39m, \u001b[39m420\u001b[39m, \u001b[39m450\u001b[39m, \u001b[39m480\u001b[39m, \u001b[39m510\u001b[39m, \u001b[39m540\u001b[39m, \u001b[39m570\u001b[39m, \u001b[39m600\u001b[39m, \u001b[39m630\u001b[39m, \u001b[39m660\u001b[39m, \u001b[39m690\u001b[39m, \u001b[39m720\u001b[39m, \u001b[39m750\u001b[39m, \u001b[39m780\u001b[39m, \u001b[39m810\u001b[39m, \u001b[39m840\u001b[39m, \u001b[39m870\u001b[39m, \u001b[39m900\u001b[39m, \u001b[39m930\u001b[39m, \u001b[39m960\u001b[39m, \u001b[39m990\u001b[39m])\n\u001b[1;32m     14\u001b[0m     \u001b[39mprint\u001b[39m(\u001b[39m\"\u001b[39m\u001b[39mTest passed\u001b[39m\u001b[39m\"\u001b[39m)\n",
      "\u001b[0;31mAssertionError\u001b[0m: "
     ]
    }
   ],
   "source": [
    "def calories_burned(per_minute, minutes) : \n",
    "    print(\"Calories burned per minute: \" + str(per_minute)) \n",
    "    print(\"Minutes worked out: \" + str(minutes))\n",
    "    calories_list = []\n",
    "    for time in range(0, minutes + 1, 5) : \n",
    "        calories = per_minute * time \n",
    "        calories_list.append(calories)\n",
    "    return calories_list\n",
    "\n",
    "def test_calories_burned() : \n",
    "    assert(calories_burned(4, 30) == [0, 20, 40, 60, 80, 100, 120])\n",
    "    assert(calories_burned(5, 45) == [0, 25, 50, 75, 100, 125, 150, 175, 200, 225, 250, 275, 300, 325, 350, 375, 400, 425, 450])\n",
    "    assert(calories_burned(6, 60) == [0, 30, 60, 90, 120, 150, 180, 210, 240, 270, 300, 330, 360, 390, 420, 450, 480, 510, 540, 570, 600, 630, 660, 690, 720, 750, 780, 810, 840, 870, 900, 930, 960, 990])\n",
    "    print(\"Test passed\")\n",
    "\n",
    "list(test_calories_burned())"
   ]
  },
  {
   "cell_type": "code",
   "execution_count": null,
   "metadata": {},
   "outputs": [],
   "source": [
    "A = [[1,1,1,1], [1,2,3,4], [5,6,7,8], [9,10,11,12]]\n",
    "b = [1,2,3,4]\n",
    "c = -A[j][i]/A[i][i]\n",
    "r = [6,12,18,24]\n",
    "def gauss_jordan(A, b):\n",
    "    n = len(A)\n",
    "    for i in range(n):\n",
    "        # Scale the row so that the value at the current column is 1\n",
    "        c = 1.0/A[i][i]\n",
    "        for j in range(i, n):\n",
    "        A[i][j] *= c\n",
    "        b[i] *= c\n",
    "        # Make all rows below this one 0 in the current column\n",
    "        for j in range(i+1, n):\n",
    "            c = -A[j][i]/A[i][i]\n",
    "            for k in range(i, n):\n",
    "                A[j][k] += c * A[i][k]\n",
    "            b[j] += c * b[i]\n",
    "    # Now solve Ax=b by substituting back into each equation\n",
    "    x = [0]*n\n",
    "    for i in range(n-1, -1, -1):\n",
    "        x[i] = b[i]\n",
    "        for j in range(i+1, n):\n",
    "            x[i] -= A[i][j] * x[j]\n",
    "        x[i] /= A[i][i]\n",
    "    return x\n",
    "\n",
    "print(gauss_jordan(A, b))"
   ]
  },
  {
   "cell_type": "code",
   "execution_count": 2,
   "metadata": {},
   "outputs": [],
   "source": [
    "import re\n",
    "import string\n",
    "\n",
    "def validate_variable(value):\n",
    "    regex = r'^[a-zA-Z_]'\n",
    "    if(re.search(regex, value)):\n",
    "        print(\"True\")\n",
    "    else:\n",
    "        print(\"False\")\n",
    "\n",
    "def validate_domain(value):\n",
    "    tld = ['com', 'ca', 'org']\n",
    "    punc = string.punctuation\n",
    "    components = value.split('.')\n",
    "    if components[-1] in tld:  # TDL checking\n",
    "        for i in components:\n",
    "            if i.islower():  # if lower\n",
    "                for j in i:\n",
    "                    if j in punc:  # any punctuation\n",
    "                        return False\n",
    "            else:\n",
    "                return False\n",
    "        return True\n",
    "    else:\n",
    "        return False\n",
    "\n",
    "def validate_phone(value):\n",
    "    component = value.split('-')\n",
    "    if len(component) == 3:\n",
    "        for i in range(len(component)):\n",
    "            if component[i].isdigit() == False:\n",
    "                return False\n",
    "    elif i == 0 or i == 1:\n",
    "        if len(component[i]) != 3:\n",
    "            return False\n",
    "    elif i == 3:\n",
    "        if len(component[i]) != 4:\n",
    "            return False\n",
    "        return True\n",
    "    elif len(component) == 2:\n",
    "        check = 0\n",
    "        for i in range(len(component)):\n",
    "            if i == 0:\n",
    "                if len(component[i]) == 8:\n",
    "                    if component[i][0] == \"(\" and component[i][4] == \")\":\n",
    "                        new = component[i].replace(\"(\", '')\n",
    "                        new = new.replace(\")\", '')\n",
    "                        if new.isdigit():\n",
    "                            if len(new) == 6:\n",
    "                                check = 1\n",
    "                            else:\n",
    "                                return False\n",
    "                        else:\n",
    "                            return False\n",
    "                    else:\n",
    "                        return False\n",
    "\n",
    "                elif len(component[i]) == 3:\n",
    "                    if component[i].isdigit():\n",
    "                        check = 1\n",
    "            elif i == 1:\n",
    "                if len(component[i]) == 4:\n",
    "                    if component[i].isdigit():\n",
    "                        check = 1\n",
    "                    else:\n",
    "                        return False\n",
    "                else:\n",
    "                    return False\n",
    "        if check == 1:\n",
    "            return True\n",
    "        else:\n",
    "            return False\n",
    "    else:\n",
    "        return False\n",
    "\n",
    "import re\n",
    "\n",
    "def match_lang(value):\n",
    "    prog = re.compile('a*b*(ccc)*')\n",
    "    result = prog.fullmatch(value)\n",
    "    if result == None:\n",
    "        return False\n",
    "    else:\n",
    "        return True\n",
    "\n",
    "def trim_spaces(value):\n",
    "    value = value.strip()\n",
    "    value = re.sub(\" +\", \" \", value)\n",
    "    return value"
   ]
  },
  {
   "cell_type": "code",
   "execution_count": 7,
   "metadata": {},
   "outputs": [
    {
     "name": "stdout",
     "output_type": "stream",
     "text": [
      "False\n",
      "Invalid\n",
      "Invalid\n"
     ]
    },
    {
     "ename": "UnboundLocalError",
     "evalue": "local variable 'i' referenced before assignment",
     "output_type": "error",
     "traceback": [
      "\u001b[0;31m---------------------------------------------------------------------------\u001b[0m",
      "\u001b[0;31mUnboundLocalError\u001b[0m                         Traceback (most recent call last)",
      "Cell \u001b[0;32mIn [7], line 36\u001b[0m\n\u001b[1;32m     34\u001b[0m test_validate_variable(value)\n\u001b[1;32m     35\u001b[0m test_validate_domain(value)\n\u001b[0;32m---> 36\u001b[0m test_validate_phone(value)\n\u001b[1;32m     37\u001b[0m test_match_lang(value)\n\u001b[1;32m     38\u001b[0m test_trim_spaces(value)\n",
      "Cell \u001b[0;32mIn [7], line 16\u001b[0m, in \u001b[0;36mtest_validate_phone\u001b[0;34m(value)\u001b[0m\n\u001b[1;32m     15\u001b[0m \u001b[39mdef\u001b[39;00m \u001b[39mtest_validate_phone\u001b[39m(value):\n\u001b[0;32m---> 16\u001b[0m     result \u001b[39m=\u001b[39m validate_phone(value)\n\u001b[1;32m     17\u001b[0m     \u001b[39mif\u001b[39;00m result \u001b[39m==\u001b[39m \u001b[39mTrue\u001b[39;00m:\n\u001b[1;32m     18\u001b[0m         \u001b[39mprint\u001b[39m(\u001b[39m\"\u001b[39m\u001b[39mValid\u001b[39m\u001b[39m\"\u001b[39m)\n",
      "Cell \u001b[0;32mIn [2], line 33\u001b[0m, in \u001b[0;36mvalidate_phone\u001b[0;34m(value)\u001b[0m\n\u001b[1;32m     31\u001b[0m         \u001b[39mif\u001b[39;00m component[i]\u001b[39m.\u001b[39misdigit() \u001b[39m==\u001b[39m \u001b[39mFalse\u001b[39;00m:\n\u001b[1;32m     32\u001b[0m             \u001b[39mreturn\u001b[39;00m \u001b[39mFalse\u001b[39;00m\n\u001b[0;32m---> 33\u001b[0m \u001b[39melif\u001b[39;00m i \u001b[39m==\u001b[39m \u001b[39m0\u001b[39m \u001b[39mor\u001b[39;00m i \u001b[39m==\u001b[39m \u001b[39m1\u001b[39m:\n\u001b[1;32m     34\u001b[0m     \u001b[39mif\u001b[39;00m \u001b[39mlen\u001b[39m(component[i]) \u001b[39m!=\u001b[39m \u001b[39m3\u001b[39m:\n\u001b[1;32m     35\u001b[0m         \u001b[39mreturn\u001b[39;00m \u001b[39mFalse\u001b[39;00m\n",
      "\u001b[0;31mUnboundLocalError\u001b[0m: local variable 'i' referenced before assignment"
     ]
    }
   ],
   "source": [
    "\n",
    "def test_validate_variable(value):\n",
    "    result = validate_variable(value)\n",
    "    if result == True:\n",
    "        print(\"Valid\")\n",
    "    else:\n",
    "        print(\"Invalid\")\n",
    "\n",
    "def test_validate_domain(value):\n",
    "    result = validate_domain(value)\n",
    "    if result == True:\n",
    "        print(\"Valid\")\n",
    "    else:\n",
    "        print(\"Invalid\")\n",
    "\n",
    "def test_validate_phone(value):\n",
    "    result = validate_phone(value)\n",
    "    if result == True:\n",
    "        print(\"Valid\")\n",
    "    else:\n",
    "        print(\"Invalid\")\n",
    "\n",
    "def test_match_lang(value):\n",
    "    result = match_lang(value)\n",
    "    if result == True:\n",
    "        print(\"Valid\")\n",
    "    else:\n",
    "        print(\"Invalid\")\n",
    "\n",
    "def test_trim_spaces(value):\n",
    "    result = trim_spaces(value)\n",
    "    print(result)\n",
    "    \n",
    "value = input(\"Enter value: \")\n",
    "test_validate_variable(value)\n",
    "test_validate_domain(value)\n",
    "test_validate_phone(value)\n",
    "test_match_lang(value)\n",
    "test_trim_spaces(value)"
   ]
  },
  {
   "cell_type": "code",
   "execution_count": 58,
   "metadata": {},
   "outputs": [
    {
     "data": {
      "text/plain": [
       "15"
      ]
     },
     "execution_count": 58,
     "metadata": {},
     "output_type": "execute_result"
    }
   ],
   "source": [
    "def minCost(n, m, X):\n",
    "    # dp[i][j] is the min cost of cutting a rope of length i into j pieces\n",
    "    dp = [[0 for j in range(m+1)] for i in range(n+1)]\n",
    "\n",
    "    # base case\n",
    "    for i in range(0, n+1):\n",
    "        dp[i][1] = 0\n",
    "\n",
    "    # recursive case\n",
    "    for i in range(1, n+1):\n",
    "        for j in range(2, m+1):\n",
    "            dp[i][j] = float('inf')\n",
    "            for k in range(1, j):\n",
    "                if i-X[k] >= 0:\n",
    "                    dp[i][j] = min(dp[i][j], dp[i-X[k]][j-1] + X[k])\n",
    "\n",
    "    return dp[n][m]\n",
    "#give sample inputs:\n",
    "\n",
    "minCost(20, 4, [2, 5, 9, 15])"
   ]
  },
  {
   "cell_type": "code",
   "execution_count": 65,
   "metadata": {},
   "outputs": [
    {
     "ename": "TypeError",
     "evalue": "'int' object is not callable",
     "output_type": "error",
     "traceback": [
      "\u001b[0;31m---------------------------------------------------------------------------\u001b[0m",
      "\u001b[0;31mTypeError\u001b[0m                                 Traceback (most recent call last)",
      "Cell \u001b[0;32mIn [65], line 14\u001b[0m\n\u001b[1;32m     11\u001b[0m         \u001b[39mreturn\u001b[39;00m \u001b[39mmin\u001b[39m(Cost(Xi, Xj), Cost(Xi\u001b[39m-\u001b[39mk, Xj) \u001b[39m+\u001b[39m k)\n\u001b[1;32m     12\u001b[0m     \u001b[39m#test the program:\u001b[39;00m\n\u001b[0;32m---> 14\u001b[0m \u001b[39mprint\u001b[39m(min_cost(\u001b[39m1\u001b[39;49m, \u001b[39m10\u001b[39;49m, \u001b[39m45\u001b[39;49m))\n",
      "Cell \u001b[0;32mIn [65], line 11\u001b[0m, in \u001b[0;36mmin_cost\u001b[0;34m(Xi, Xj, Cost)\u001b[0m\n\u001b[1;32m      7\u001b[0m     \u001b[39mreturn\u001b[39;00m \u001b[39m0\u001b[39m\n\u001b[1;32m      9\u001b[0m \u001b[39melse\u001b[39;00m:\n\u001b[0;32m---> 11\u001b[0m     \u001b[39mreturn\u001b[39;00m \u001b[39mmin\u001b[39m(Cost(Xi, Xj), Cost(Xi\u001b[39m-\u001b[39mk, Xj) \u001b[39m+\u001b[39m k)\n",
      "\u001b[0;31mTypeError\u001b[0m: 'int' object is not callable"
     ]
    }
   ],
   "source": [
    "def min_cost(Xi, Xj, Cost):\n",
    "    i = 1\n",
    "    j = 10\n",
    "    k = 5\n",
    "    if j-i == 1:\n",
    "\n",
    "        return 0\n",
    "\n",
    "    else:\n",
    "\n",
    "        return min(Cost(Xi, Xj), Cost(Xi-k, Xj) + k)\n",
    "    #test the program:\n",
    "\n",
    "print(min_cost(1, 10, 45))"
   ]
  },
  {
   "cell_type": "code",
   "execution_count": 61,
   "metadata": {},
   "outputs": [
    {
     "ename": "NameError",
     "evalue": "name 'i' is not defined",
     "output_type": "error",
     "traceback": [
      "\u001b[0;31m---------------------------------------------------------------------------\u001b[0m",
      "\u001b[0;31mNameError\u001b[0m                                 Traceback (most recent call last)",
      "Cell \u001b[0;32mIn [61], line 11\u001b[0m\n\u001b[1;32m      7\u001b[0m     \u001b[39melse\u001b[39;00m: \n\u001b[1;32m      9\u001b[0m         \u001b[39mreturn\u001b[39;00m \u001b[39mmin\u001b[39m(minCost(Xi, Xj, j), minCost(Xi\u001b[39m-\u001b[39mk, Xj, j) \u001b[39m+\u001b[39m k)\n\u001b[0;32m---> 11\u001b[0m minCost(\u001b[39m0\u001b[39;49m, \u001b[39m5\u001b[39;49m, \u001b[39m3\u001b[39;49m)\n",
      "Cell \u001b[0;32mIn [61], line 3\u001b[0m, in \u001b[0;36mminCost\u001b[0;34m(Xi, Xj, j)\u001b[0m\n\u001b[1;32m      1\u001b[0m \u001b[39mdef\u001b[39;00m \u001b[39mminCost\u001b[39m(Xi, Xj, j): \n\u001b[0;32m----> 3\u001b[0m     \u001b[39mif\u001b[39;00m j\u001b[39m-\u001b[39mi \u001b[39m==\u001b[39m \u001b[39m1\u001b[39m: \n\u001b[1;32m      5\u001b[0m         \u001b[39mreturn\u001b[39;00m \u001b[39m0\u001b[39m\n\u001b[1;32m      7\u001b[0m     \u001b[39melse\u001b[39;00m: \n",
      "\u001b[0;31mNameError\u001b[0m: name 'i' is not defined"
     ]
    }
   ],
   "source": [
    "def minCost(Xi, Xj, j): \n",
    "\n",
    "    if j-i == 1: \n",
    "\n",
    "        return 0\n",
    "\n",
    "    else: \n",
    "\n",
    "        return min(minCost(Xi, Xj, j), minCost(Xi-k, Xj, j) + k)\n",
    "\n",
    "minCost(0, 5, 3)"
   ]
  },
  {
   "cell_type": "code",
   "execution_count": null,
   "metadata": {},
   "outputs": [],
   "source": []
  },
  {
   "cell_type": "code",
   "execution_count": 25,
   "metadata": {},
   "outputs": [],
   "source": [
    "def validate_variable(value):\n",
    "    regex = r'^[a-zA-Z_]'\n",
    "    if(re.search(regex, value)):\n",
    "        print(\"True\")\n",
    "    else:\n",
    "        print(\"False\")\n",
    "\n",
    "def validate_domain(value):\n",
    "    tld = ['com', 'ca', 'org']\n",
    "    punc = string.punctuation\n",
    "    components = value.split('.')\n",
    "    if components[-1] in tld:  # TDL checking\n",
    "        for i in components:\n",
    "            if i.islower():  # if lower\n",
    "                for j in i:\n",
    "                    if j in punc:  # any punctuation\n",
    "                        return False\n",
    "            else:\n",
    "                return False\n",
    "        return True\n",
    "    else:\n",
    "        return False\n",
    "\n",
    "def validate_phone(value):\n",
    "    i = 0\n",
    "    component = value.split('-')\n",
    "    if len(component) == 3:\n",
    "        for i in range(len(component)):\n",
    "            if component[i].isdigit() == False:\n",
    "                return False\n",
    "    elif i == 0 or i == 1:\n",
    "        if len(component[i]) != 3:\n",
    "            return False\n",
    "    elif i == 3:\n",
    "        if len(component[i]) != 4:\n",
    "            return False\n",
    "        return True\n",
    "    elif len(component) == 2:\n",
    "        check = 0\n",
    "        for i in range(len(component)):\n",
    "            if i == 0:\n",
    "                if len(component[i]) == 8:\n",
    "                    if component[i][0] == \"(\" and component[i][4] == \")\":\n",
    "                        new = component[i].replace(\"(\", '')\n",
    "                        new = new.replace(\")\", '')\n",
    "                        if new.isdigit():\n",
    "                            if len(new) == 6:\n",
    "                                check = 1\n",
    "                            else:\n",
    "                                return False\n",
    "                        else:\n",
    "                            return False\n",
    "                    else:\n",
    "                        return False\n",
    "\n",
    "                elif len(component[i]) == 3:\n",
    "                    if component[i].isdigit():\n",
    "                        check = 1\n",
    "            elif i == 1:\n",
    "                if len(component[i]) == 4:\n",
    "                    if component[i].isdigit():\n",
    "                        check = 1\n",
    "                    else:\n",
    "                        return False\n",
    "                else:\n",
    "                    return False\n",
    "        if check == 1:\n",
    "            return True\n",
    "        else:\n",
    "            return False\n",
    "    else:\n",
    "        return False\n",
    "\n"
   ]
  },
  {
   "cell_type": "code",
   "execution_count": 48,
   "metadata": {},
   "outputs": [
    {
     "data": {
      "text/plain": [
       "0"
      ]
     },
     "execution_count": 48,
     "metadata": {},
     "output_type": "execute_result"
    }
   ],
   "source": [
    "def rope_cutting(n, m, X):\n",
    "\n",
    "# Base case\n",
    "\n",
    "    if m == 1:\n",
    "\n",
    "        return 0\n",
    "\n",
    "    # Recursive case\n",
    "\n",
    "    dp = [[0 for _ in range(m+1)] for _ in range(n+1)]\n",
    "\n",
    "    for i in range(1, m+1):\n",
    "\n",
    "        for j in range(1, n+1):\n",
    "\n",
    "            dp[j][i] = min(dp[j][i], dp[j-X[i]][i-1] + X[i])\n",
    "\n",
    "        return dp[n][m]\n",
    "    #call the functions and provide inputs:\n",
    "\n",
    "\n",
    "rope_cutting(10, 2, [2, 7])"
   ]
  },
  {
   "cell_type": "code",
   "execution_count": 1,
   "metadata": {},
   "outputs": [
    {
     "name": "stdout",
     "output_type": "stream",
     "text": [
      " 3.0  0.0  0.0  1.6\n",
      " 0.0 -6.33  0.0 2.44\n",
      " 0.0  0.0 5.21 1.68\n"
     ]
    }
   ],
   "source": [
    "\n",
    "def gauss_jordan(m, eps = 1.0/(10**10)):\n",
    " \n",
    "    (h, w) = (len(m), len(m[0]))\n",
    "    for y in range(0, h):\n",
    "      maxrow = y\n",
    "      for y2 in range(y+1, h):\n",
    "        if abs(m[y2][y]) > abs(m[maxrow][y]):\n",
    "          maxrow = y2\n",
    "      (m[y], m[maxrow]) = (m[maxrow], m[y])\n",
    "      if abs(m[y][y]) <= eps:\n",
    "        return False\n",
    "      for y2 in range(y+1, h):\n",
    "        c = m[y2][y] / m[y][y]\n",
    "        for x in range(y, w):\n",
    "          m[y2][x] -= m[y][x] * c\n",
    "    for y in range(h-1, 0-1, -1):\n",
    "      c  = m[y][y]\n",
    "      for y2 in range(0,y):\n",
    "        for x in range(w-1, y-1, -1):\n",
    "          m[y2][x] -=  m[y][x] * m[y2][y] / c\n",
    "      for x in range(h, w):\n",
    "        m[y][x] /= c\n",
    "    return m\n",
    " \n",
    "if __name__ == \"__main__\":\n",
    " \n",
    "  m = [[3.0, 2.0, -1.0, 8.0],\n",
    "       [-1.0, 2.0, 4.0, 10.0],\n",
    "       [2.0, -5.0, 3.0, -4.0]]\n",
    " \n",
    "  gauss_jordan(m)\n",
    " \n",
    "  for row in m:\n",
    "    print(' '.join(['{:4}'.format(round(x,2)) for x in row]))"
   ]
  },
  {
   "cell_type": "code",
   "execution_count": null,
   "metadata": {},
   "outputs": [],
   "source": [
    "total_amount = 0\n",
    "\n",
    "products = [\n",
    "\n",
    "(\"Diet Coke\", 144, .75, 60609),\n",
    "(\"Snack Size Fritos\", 200, .44, 22346),\n",
    "(\"Chocolate Milk\", 50, 1.09, 48779),\n",
    "(\"Peanut Butter Cups\", 2175, 4.25, 12367),\n",
    "(\"Pepsi\", 64, .75, 33284),\n",
    "(\"Antacid Tablets\", 5, 11.75, 55455)\n",
    "\n",
    "]\n",
    "\n",
    "for product in products:\n",
    "    name, quantity, price, sku = product\n",
    "    total_amount += quantity * price\n",
    "\n",
    "print(\"Total amount spent on this order: $%.2f\" % total_amount)\n",
    "\n",
    "print(\"\\nProducts Purchased:\")\n",
    "for product in products:\n",
    "    name, quantity, price, sku = product\n",
    "    print(\"%s %s at $%.2f/%s, sku#%s\" % (quantity, name, price, unit, sku))\n",
    "\n",
    "print(\"\\nProducts out of Stock -- Not Delivered With This Order:\")\n",
    "for product in out_of_stock:\n",
    "    name, quantity, price, sku = product\n",
    "    print(\"%s %s at $%.2f/%s, sku#%s\" % (quantity, name, price, unit, sku))\n",
    "#why did you not use regex:"
   ]
  },
  {
   "cell_type": "code",
   "execution_count": 2,
   "metadata": {},
   "outputs": [
    {
     "name": "stdout",
     "output_type": "stream",
     "text": [
      "Total amount spent on this order: $9601.00\n",
      "\n",
      "Products Purchased:\n"
     ]
    },
    {
     "ename": "NameError",
     "evalue": "name 'unit' is not defined",
     "output_type": "error",
     "traceback": [
      "\u001b[0;31m---------------------------------------------------------------------------\u001b[0m",
      "\u001b[0;31mNameError\u001b[0m                                 Traceback (most recent call last)",
      "Cell \u001b[0;32mIn [2], line 23\u001b[0m\n\u001b[1;32m     21\u001b[0m \u001b[39mfor\u001b[39;00m product \u001b[39min\u001b[39;00m products:\n\u001b[1;32m     22\u001b[0m     name, quantity, price, sku \u001b[39m=\u001b[39m product\n\u001b[0;32m---> 23\u001b[0m     \u001b[39mprint\u001b[39m(\u001b[39m\"\u001b[39m\u001b[39m%s\u001b[39;00m\u001b[39m \u001b[39m\u001b[39m%s\u001b[39;00m\u001b[39m at $\u001b[39m\u001b[39m%.2f\u001b[39;00m\u001b[39m/\u001b[39m\u001b[39m%s\u001b[39;00m\u001b[39m, sku#\u001b[39m\u001b[39m%s\u001b[39;00m\u001b[39m\"\u001b[39m \u001b[39m%\u001b[39m (quantity, name, price, unit, sku))\n\u001b[1;32m     25\u001b[0m \u001b[39mprint\u001b[39m(\u001b[39m\"\u001b[39m\u001b[39m\\n\u001b[39;00m\u001b[39mProducts out of Stock -- Not Delivered With This Order:\u001b[39m\u001b[39m\"\u001b[39m)\n\u001b[1;32m     26\u001b[0m \u001b[39mfor\u001b[39;00m product \u001b[39min\u001b[39;00m out_of_stock:\n",
      "\u001b[0;31mNameError\u001b[0m: name 'unit' is not defined"
     ]
    }
   ],
   "source": [
    "total_amount = 0\n",
    "\n",
    "products = [\n",
    "\n",
    "(\"Diet Coke\", 144, .75, 60609),\n",
    "(\"Snack Size Fritos\", 200, .44, 22346),\n",
    "(\"Chocolate Milk\", 50, 1.09, 48779),\n",
    "(\"Peanut Butter Cups\", 2175, 4.25, 12367),\n",
    "(\"Pepsi\", 64, .75, 33284),\n",
    "(\"Antacid Tablets\", 5, 11.75, 55455)\n",
    "\n",
    "]\n",
    "\n",
    "for product in products:\n",
    "    name, quantity, price, sku = product\n",
    "    total_amount += quantity * price\n",
    "\n",
    "print(\"Total amount spent on this order: $%.2f\" % total_amount)\n",
    "\n",
    "print(\"\\nProducts Purchased:\")\n",
    "for product in products:\n",
    "    name, quantity, price, sku = product\n",
    "    print(\"%s %s at $%.2f/%s, sku#%s\" % (quantity, name, price, unit, sku))\n",
    "\n",
    "print(\"\\nProducts out of Stock -- Not Delivered With This Order:\")\n",
    "for product in out_of_stock:\n",
    "    name, quantity, price, sku = product\n",
    "    print(\"%s %s at $%.2f/%s, sku#%s\" % (quantity, name, price, unit, sku))"
   ]
  },
  {
   "cell_type": "code",
   "execution_count": 3,
   "metadata": {},
   "outputs": [
    {
     "name": "stdout",
     "output_type": "stream",
     "text": [
      "Products Purchased:\n",
      "144 bottless of Diet Coke at $0. 75/bottle, sku #60609\n",
      "200 bagss of Snack Size Fritos at $. 44/bag, sku 22346\n",
      "50 bottless of Chocolate Milk @ $1.09/bottle, sku 48779\n",
      "2175 boxess of Peanut Butter Cups @ $4.25/box, sku#12367\n",
      "64 bottless of Pepsi at $.75/bottle, sku33284\n",
      "5 packagess of Antacid Tablets at $11.75/package, sku #55455\n",
      "\n",
      "Products out of Stock -- Not Delivered With This Order:\n",
      "5 gold rings at $5000.00/ring, sku#99999\n",
      "2 turtle doves at $375.50/bird, sku#11111\n",
      "1 partridge in a pear tree at $100. 01/tree, sku#77777\n"
     ]
    }
   ],
   "source": [
    "import re\n",
    "\n",
    "products_purchased = \"\"\"\n",
    "144 bottles of Diet Coke at $0. 75/bottle, sku #60609\n",
    "200 bags of Snack Size Fritos at $. 44/bag, sku 22346\n",
    "50 bottles of Chocolate Milk @ $1.09/bottle, sku 48779\n",
    "2175 boxes of Peanut Butter Cups @ $4.25/box, sku#12367\n",
    "64 bottles of Pepsi at $.75/bottle, sku33284\n",
    "5 packages of Antacid Tablets at $11.75/package, sku #55455\n",
    "\"\"\"\n",
    "\n",
    "products_out_of_stock = \"\"\"\n",
    "5 gold rings at $5000.00/ring, sku#99999\n",
    "2 turtle doves at $375.50/bird, sku#11111\n",
    "1 partridge in a pear tree at $100. 01/tree, sku#77777\n",
    "\"\"\"\n",
    "\n",
    "print(\"Products Purchased:\")\n",
    "\n",
    "for product in products_purchased.splitlines():\n",
    "    if product:\n",
    "        print(re.sub(r'(\\d+) (\\w+)', r'\\1 \\2s', product))\n",
    "\n",
    "print(\"\\nProducts out of Stock -- Not Delivered With This Order:\")\n",
    "\n",
    "for product in products_out_of_stock.splitlines():\n",
    "    if product:\n",
    "        print(product)"
   ]
  },
  {
   "cell_type": "code",
   "execution_count": 7,
   "metadata": {},
   "outputs": [
    {
     "name": "stdout",
     "output_type": "stream",
     "text": [
      "Products Purchased:\n",
      "144 bottless of Diet Coke at $0. 75/bottle, sku #60609\n",
      "200 bagss of Snack Size Fritos at $. 44/bag, sku 22346\n",
      "50 bottless of Chocolate Milk @ $1.09/bottle, sku 48779\n",
      "2175 boxess of Peanut Butter Cups @ $4.25/box, sku#12367\n",
      "64 bottless of Pepsi at $.75/bottle, sku33284\n",
      "5 packagess of Antacid Tablets at $11.75/package, sku #55455\n",
      "\n",
      "Products out of Stock -- Not Delivered With This Order:\n",
      "5 gold rings at $5000.00/ring, sku#99999\n",
      "2 turtle doves at $375.50/bird, sku#11111\n",
      "1 partridge in a pear tree at $100. 01/tree, sku#77777\n",
      "\n",
      "Total amount of products purchased: $ 2638.0\n"
     ]
    }
   ],
   "source": [
    "import re\n",
    "\n",
    "products_purchased = \"\"\"\n",
    "144 bottles of Diet Coke at $0. 75/bottle, sku #60609\n",
    "200 bags of Snack Size Fritos at $. 44/bag, sku 22346\n",
    "50 bottles of Chocolate Milk @ $1.09/bottle, sku 48779\n",
    "2175 boxes of Peanut Butter Cups @ $4.25/box, sku#12367\n",
    "64 bottles of Pepsi at $.75/bottle, sku33284\n",
    "5 packages of Antacid Tablets at $11.75/package, sku #55455\n",
    "\"\"\"\n",
    "\n",
    "products_out_of_stock = \"\"\"\n",
    "5 gold rings at $5000.00/ring, sku#99999\n",
    "2 turtle doves at $375.50/bird, sku#11111\n",
    "1 partridge in a pear tree at $100. 01/tree, sku#77777\n",
    "\"\"\"\n",
    "\n",
    "print(\"Products Purchased:\")\n",
    "\n",
    "total = 0\n",
    "for product in products_purchased.splitlines():\n",
    "    if product:\n",
    "        print(re.sub(r'(\\d+) (\\w+)', r'\\1 \\2s', product))\n",
    "        total += float(product.split()[0])\n",
    "\n",
    "print(\"\\nProducts out of Stock -- Not Delivered With This Order:\")\n",
    "\n",
    "for product in products_out_of_stock.splitlines():\n",
    "    if product:\n",
    "        print(product)\n",
    "\n",
    "print(\"\\nTotal amount of products purchased: $\", total)"
   ]
  },
  {
   "cell_type": "code",
   "execution_count": 9,
   "metadata": {},
   "outputs": [
    {
     "ename": "ValueError",
     "evalue": "The truth value of an array with more than one element is ambiguous. Use a.any() or a.all()",
     "output_type": "error",
     "traceback": [
      "\u001b[0;31m---------------------------------------------------------------------------\u001b[0m",
      "\u001b[0;31mValueError\u001b[0m                                Traceback (most recent call last)",
      "Cell \u001b[0;32mIn [9], line 9\u001b[0m\n\u001b[1;32m      6\u001b[0m         \u001b[39mreturn\u001b[39;00m \u001b[39m5\u001b[39m\u001b[39m*\u001b[39mnp\u001b[39m.\u001b[39mexp(\u001b[39m-\u001b[39m((x\u001b[39m-\u001b[39m\u001b[39m2\u001b[39m)\u001b[39m/\u001b[39m\u001b[39m2\u001b[39m)\u001b[39m*\u001b[39m\u001b[39m*\u001b[39m\u001b[39m2\u001b[39m) \u001b[39m+\u001b[39m x\n\u001b[1;32m      8\u001b[0m x \u001b[39m=\u001b[39m np\u001b[39m.\u001b[39mlinspace(\u001b[39m-\u001b[39m\u001b[39m10\u001b[39m, \u001b[39m10\u001b[39m, \u001b[39m1000\u001b[39m)\n\u001b[0;32m----> 9\u001b[0m y \u001b[39m=\u001b[39m f(x)\n\u001b[1;32m     11\u001b[0m plt\u001b[39m.\u001b[39mplot(x, y)\n\u001b[1;32m     12\u001b[0m plt\u001b[39m.\u001b[39mylim(\u001b[39m-\u001b[39m\u001b[39m10\u001b[39m, \u001b[39m10\u001b[39m)\n",
      "Cell \u001b[0;32mIn [9], line 3\u001b[0m, in \u001b[0;36mf\u001b[0;34m(x)\u001b[0m\n\u001b[1;32m      2\u001b[0m \u001b[39mdef\u001b[39;00m \u001b[39mf\u001b[39m(x):\n\u001b[0;32m----> 3\u001b[0m     \u001b[39mif\u001b[39;00m x \u001b[39m<\u001b[39m \u001b[39m0\u001b[39m:\n\u001b[1;32m      4\u001b[0m         \u001b[39mreturn\u001b[39;00m \u001b[39m8\u001b[39m \u001b[39m-\u001b[39m x\u001b[39m*\u001b[39m\u001b[39m*\u001b[39m\u001b[39m2\u001b[39m\n\u001b[1;32m      5\u001b[0m     \u001b[39melse\u001b[39;00m:\n",
      "\u001b[0;31mValueError\u001b[0m: The truth value of an array with more than one element is ambiguous. Use a.any() or a.all()"
     ]
    }
   ],
   "source": [
    "import numpy as np\n",
    "def f(x):\n",
    "    if x < 0:\n",
    "        return 8 - x**2\n",
    "    else:\n",
    "        return 5*np.exp(-((x-2)/2)**2) + x\n",
    "    \n",
    "x = np.linspace(-10, 10, 1000)\n",
    "y = f(x)\n",
    "\n",
    "plt.plot(x, y)\n",
    "plt.ylim(-10, 10)\n",
    "plt.show()"
   ]
  },
  {
   "cell_type": "code",
   "execution_count": 10,
   "metadata": {},
   "outputs": [
    {
     "ename": "ValueError",
     "evalue": "The truth value of an array with more than one element is ambiguous. Use a.any() or a.all()",
     "output_type": "error",
     "traceback": [
      "\u001b[0;31m---------------------------------------------------------------------------\u001b[0m",
      "\u001b[0;31mValueError\u001b[0m                                Traceback (most recent call last)",
      "Cell \u001b[0;32mIn [10], line 11\u001b[0m\n\u001b[1;32m      8\u001b[0m         \u001b[39mreturn\u001b[39;00m \u001b[39m5\u001b[39m\u001b[39m*\u001b[39mnp\u001b[39m.\u001b[39mexp(\u001b[39m-\u001b[39m((x\u001b[39m-\u001b[39m\u001b[39m2\u001b[39m)\u001b[39m/\u001b[39m\u001b[39m2\u001b[39m)\u001b[39m*\u001b[39m\u001b[39m*\u001b[39m\u001b[39m2\u001b[39m) \u001b[39m+\u001b[39m x\n\u001b[1;32m     10\u001b[0m x \u001b[39m=\u001b[39m np\u001b[39m.\u001b[39mlinspace(\u001b[39m-\u001b[39m\u001b[39m10\u001b[39m, \u001b[39m10\u001b[39m, \u001b[39m1000\u001b[39m)\n\u001b[0;32m---> 11\u001b[0m y \u001b[39m=\u001b[39m f(x)\n\u001b[1;32m     13\u001b[0m plt\u001b[39m.\u001b[39mplot(x, y)\n\u001b[1;32m     14\u001b[0m plt\u001b[39m.\u001b[39mylim(\u001b[39m-\u001b[39m\u001b[39m10\u001b[39m, \u001b[39m10\u001b[39m)\n",
      "Cell \u001b[0;32mIn [10], line 5\u001b[0m, in \u001b[0;36mf\u001b[0;34m(x)\u001b[0m\n\u001b[1;32m      4\u001b[0m \u001b[39mdef\u001b[39;00m \u001b[39mf\u001b[39m(x):\n\u001b[0;32m----> 5\u001b[0m     \u001b[39mif\u001b[39;00m x \u001b[39m<\u001b[39m \u001b[39m0\u001b[39m:\n\u001b[1;32m      6\u001b[0m         \u001b[39mreturn\u001b[39;00m \u001b[39m8\u001b[39m \u001b[39m-\u001b[39m x\u001b[39m*\u001b[39m\u001b[39m*\u001b[39m\u001b[39m2\u001b[39m\n\u001b[1;32m      7\u001b[0m     \u001b[39melse\u001b[39;00m:\n",
      "\u001b[0;31mValueError\u001b[0m: The truth value of an array with more than one element is ambiguous. Use a.any() or a.all()"
     ]
    }
   ],
   "source": [
    "import matplotlib.pyplot as plt\n",
    "import numpy as np\n",
    "\n",
    "def f(x):\n",
    "    if x < 0:\n",
    "        return 8 - x**2\n",
    "    else:\n",
    "        return 5*np.exp(-((x-2)/2)**2) + x\n",
    "\n",
    "x = np.linspace(-10, 10, 1000)\n",
    "y = f(x)\n",
    "\n",
    "plt.plot(x, y)\n",
    "plt.ylim(-10, 10)\n",
    "plt.show();"
   ]
  },
  {
   "cell_type": "code",
   "execution_count": 11,
   "metadata": {},
   "outputs": [
    {
     "data": {
      "image/png": "[encoded data removed]",
      "text/plain": [
       "<Figure size 640x480 with 1 Axes>"
      ]
     },
     "metadata": {},
     "output_type": "display_data"
    }
   ],
   "source": [
    "import matplotlib.pyplot as plt\n",
    "import numpy as np\n",
    "\n",
    "def f(x):\n",
    "    if np.all(x < 0):\n",
    "        return 8 - x**2\n",
    "    else:\n",
    "        return 5*np.exp(-((x-2)/2)**2) + x\n",
    "\n",
    "x = np.linspace(-10, 10, 1000)\n",
    "y = f(x)\n",
    "\n",
    "plt.plot(x, y)\n",
    "plt.ylim(-10, 10)\n",
    "plt.show();"
   ]
  },
  {
   "cell_type": "code",
   "execution_count": 12,
   "metadata": {},
   "outputs": [
    {
     "ename": "NameError",
     "evalue": "name 'X' is not defined",
     "output_type": "error",
     "traceback": [
      "\u001b[0;31m---------------------------------------------------------------------------\u001b[0m",
      "\u001b[0;31mNameError\u001b[0m                                 Traceback (most recent call last)",
      "Cell \u001b[0;32mIn [12], line 1\u001b[0m\n\u001b[0;32m----> 1\u001b[0m array \u001b[39m=\u001b[39m [[\u001b[39m0\u001b[39m \u001b[39mfor\u001b[39;00m i \u001b[39min\u001b[39;00m \u001b[39mrange\u001b[39m(\u001b[39mlen\u001b[39m(Y))] \u001b[39mfor\u001b[39;00m j \u001b[39min\u001b[39;00m \u001b[39mrange\u001b[39m(\u001b[39mlen\u001b[39m(X))]\n\u001b[1;32m      3\u001b[0m \u001b[39mfor\u001b[39;00m i \u001b[39min\u001b[39;00m \u001b[39mrange\u001b[39m(\u001b[39mlen\u001b[39m(X)):\n\u001b[1;32m      4\u001b[0m     \u001b[39mfor\u001b[39;00m j \u001b[39min\u001b[39;00m \u001b[39mrange\u001b[39m(\u001b[39mlen\u001b[39m(Y)):\n",
      "\u001b[0;31mNameError\u001b[0m: name 'X' is not defined"
     ]
    }
   ],
   "source": [
    "X=< A ABCDEFDEDDEDCAACC>\n",
    "Y=<BAACDFFDCCEEFCDAA>\n",
    "array = [[0 for i in range(len(Y))] for j in range(len(X))]\n",
    "\n",
    "for i in range(len(X)):\n",
    "    for j in range(len(Y)):\n",
    "        if X[i] == Y[j]:\n",
    "            if i == 0 or j == 0:\n",
    "                array[i][j] = 1\n",
    "            else:\n",
    "                array[i][j] = array[i-1][j-1] + 1\n",
    "        else:\n",
    "            if i == 0 and j == 0:\n",
    "                array[i][j] = 0\n",
    "            elif i == 0:\n",
    "                array[i][j] = array[i][j-1]\n",
    "            elif j == 0:\n",
    "                array[i][j] = array[i-1][j]\n",
    "            else:\n",
    "                array[i][j] = max(array[i-1][j], array[i][j-1])\n",
    "\n",
    "#Now, we need to find the longest common subsequence:\n",
    "\n",
    "i = len(X) - 1\n",
    "j = len(Y) - 1\n",
    "\n",
    "subsequence = \"\"\n",
    "\n",
    "while i >= 0 and j >= 0:\n",
    "    if array[i][j] == array[i-1][j]:\n",
    "        i -= 1\n",
    "    elif array[i][j] == array[i][j-1]:\n",
    "        j -= 1\n",
    "    else:\n",
    "        subsequence = X[i] + subsequence\n",
    "        i -= 1\n",
    "        j -= 1\n",
    "\n",
    "print(subsequence)"
   ]
  },
  {
   "cell_type": "code",
   "execution_count": 14,
   "metadata": {},
   "outputs": [
    {
     "ename": "KeyboardInterrupt",
     "evalue": "",
     "output_type": "error",
     "traceback": [
      "\u001b[0;31m---------------------------------------------------------------------------\u001b[0m",
      "\u001b[0;31mKeyboardInterrupt\u001b[0m                         Traceback (most recent call last)",
      "Cell \u001b[0;32mIn [14], line 38\u001b[0m\n\u001b[1;32m     35\u001b[0m arr \u001b[39m=\u001b[39m [\u001b[39m1\u001b[39m, \u001b[39m0\u001b[39m, \u001b[39m1\u001b[39m, \u001b[39m0\u001b[39m, \u001b[39m1\u001b[39m, \u001b[39m1\u001b[39m, \u001b[39m1\u001b[39m, \u001b[39m1\u001b[39m, \u001b[39m0\u001b[39m, \u001b[39m1\u001b[39m] \n\u001b[1;32m     36\u001b[0m n \u001b[39m=\u001b[39m \u001b[39mlen\u001b[39m(arr) \n\u001b[0;32m---> 38\u001b[0m \u001b[39mprint\u001b[39m(k_largest(n))\n\u001b[1;32m     39\u001b[0m \u001b[39m#call function with appropriate inputs:\u001b[39;00m\n\u001b[1;32m     41\u001b[0m k_largest( \u001b[39mlen\u001b[39m(arr))\n",
      "Cell \u001b[0;32mIn [14], line 18\u001b[0m, in \u001b[0;36mk_largest\u001b[0;34m(n)\u001b[0m\n\u001b[1;32m     16\u001b[0m temp \u001b[39m=\u001b[39m k \u001b[39m+\u001b[39m \u001b[39m1\u001b[39m\n\u001b[1;32m     17\u001b[0m \u001b[39mwhile\u001b[39;00m(temp \u001b[39m<\u001b[39m k \u001b[39m+\u001b[39m k \u001b[39m+\u001b[39m \u001b[39m1\u001b[39m): \n\u001b[0;32m---> 18\u001b[0m     \u001b[39mif\u001b[39;00m (arr[temp] \u001b[39m!=\u001b[39m \u001b[39m1\u001b[39m): \n\u001b[1;32m     19\u001b[0m         \u001b[39mbreak\u001b[39;00m\n\u001b[1;32m     20\u001b[0m     temp \u001b[39m+\u001b[39m\u001b[39m=\u001b[39m \u001b[39m1\u001b[39m\n",
      "\u001b[0;31mKeyboardInterrupt\u001b[0m: "
     ]
    }
   ],
   "source": [
    "def k_largest(n): \n",
    "    \n",
    "    # Initialize result \n",
    "    k = 0\n",
    "    \n",
    "    # Keep incrementing k while  \n",
    "    # there are n - k - 1 elements \n",
    "    # to the right of arr[k] \n",
    "    while (k < n - 1): \n",
    "          \n",
    "        # Check if there is a streak \n",
    "        # of size k \n",
    "        if (arr[k] == 1 and arr[k + 1] == 1): \n",
    "              \n",
    "            #if elements from (k+2) to (k+k+1) are all 1s \n",
    "            temp = k + 1\n",
    "            while(temp < k + k + 1): \n",
    "                if (arr[temp] != 1): \n",
    "                    break\n",
    "                temp += 1\n",
    "                  \n",
    "            # If all elements were 1s \n",
    "            if (temp == k + k + 1): \n",
    "                k = k + k + 1\n",
    "                  \n",
    "        # If there is no streak of size k then \n",
    "        # try the element just to the right \n",
    "        # of arr[k] \n",
    "        else: \n",
    "            k += 1\n",
    "              \n",
    "    return k\n",
    "\n",
    "# Driver code \n",
    "arr = [1, 0, 1, 0, 1, 1, 1, 1, 0, 1] \n",
    "n = len(arr) \n",
    "  \n",
    "print(k_largest(n))\n",
    "#call function with appropriate inputs:\n",
    "\n",
    "k_largest( len(arr))"
   ]
  },
  {
   "cell_type": "code",
   "execution_count": null,
   "metadata": {},
   "outputs": [],
   "source": []
  },
  {
   "cell_type": "code",
   "execution_count": null,
   "metadata": {},
   "outputs": [],
   "source": []
  },
  {
   "cell_type": "code",
   "execution_count": null,
   "metadata": {},
   "outputs": [],
   "source": []
  },
  {
   "cell_type": "code",
   "execution_count": null,
   "metadata": {},
   "outputs": [],
   "source": []
  },
  {
   "cell_type": "code",
   "execution_count": null,
   "metadata": {},
   "outputs": [],
   "source": []
  },
  {
   "cell_type": "code",
   "execution_count": null,
   "metadata": {},
   "outputs": [],
   "source": []
  },
  {
   "cell_type": "code",
   "execution_count": 27,
   "metadata": {},
   "outputs": [
    {
     "name": "stdout",
     "output_type": "stream",
     "text": [
      "True\n",
      "Invalid\n",
      "Valid\n",
      "Invalid\n",
      "Invalid\n",
      "domain.com\n"
     ]
    }
   ],
   "source": [
    "\n",
    "def test_validate_variable(value):\n",
    "    result = validate_variable(value)\n",
    "    if result == True:\n",
    "        print(\"Valid\")\n",
    "    else:\n",
    "        print(\"Invalid\")\n",
    "\n",
    "def test_validate_domain(value):\n",
    "    result = validate_domain(value)\n",
    "    if result == True:\n",
    "        print(\"Valid\")\n",
    "    else:\n",
    "        print(\"Invalid\")\n",
    "\n",
    "def test_validate_phone(value):\n",
    "    result = validate_phone(value)\n",
    "    if result == True:\n",
    "        print(\"Valid\")\n",
    "    else:\n",
    "        print(\"Invalid\")\n",
    "\n",
    "def test_match_lang(value):\n",
    "    result = match_lang(value)\n",
    "    if result == True:\n",
    "        print(\"Valid\")\n",
    "    else:\n",
    "        print(\"Invalid\")\n",
    "\n",
    "def test_trim_spaces(value):\n",
    "    result = trim_spaces(value)\n",
    "    print(result)\n",
    "    \n",
    "value = input(\"Enter value: \")\n",
    "test_validate_variable(value)\n",
    "test_validate_domain(value)\n",
    "test_validate_phone(value)\n",
    "test_match_lang(value)\n",
    "test_trim_spaces(value)"
   ]
  },
  {
   "cell_type": "code",
   "execution_count": 31,
   "metadata": {},
   "outputs": [
    {
     "name": "stdout",
     "output_type": "stream",
     "text": [
      "Correct result is 150015000.\n",
      "Final result is 150015000.\n",
      "CORRECT!\n"
     ]
    }
   ],
   "source": [
    "import threading\n",
    "\n",
    " \n",
    "\n",
    "# The number to add.\n",
    "\n",
    "# Change this for your experiment\n",
    "\n",
    "n = 10000\n",
    "\n",
    " \n",
    "\n",
    "# Result variable\n",
    "\n",
    "result = 0\n",
    "\n",
    " \n",
    "\n",
    "def thread1(count):\n",
    "\n",
    "    global result\n",
    "\n",
    " \n",
    "\n",
    "    x = 0\n",
    "\n",
    "    for i in range(1, count + 1):\n",
    "\n",
    "        x = x + i\n",
    "\n",
    "    result = x\n",
    "\n",
    " \n",
    "\n",
    "def thread2():\n",
    "\n",
    "    global result\n",
    "\n",
    "    result = result * 3\n",
    "\n",
    " \n",
    "\n",
    " \n",
    "\n",
    "th1 = threading.Thread(target = thread1, args=[n, ])\n",
    "\n",
    "th2 = threading.Thread(target = thread2)\n",
    "\n",
    " \n",
    "\n",
    "th1.start()\n",
    "\n",
    "th2.start()\n",
    "\n",
    " \n",
    "\n",
    "correct = n * (n + 1) / 2 * 3\n",
    "\n",
    "print(\"Correct result is %d.\" % correct)\n",
    "\n",
    "print(\"Final result is %d.\" % result)\n",
    "\n",
    " \n",
    "\n",
    "if result == correct:\n",
    "\n",
    "   print(\"CORRECT!\")\n",
    "\n",
    "else:\n",
    "\n",
    "    print(\"WRONG!\")"
   ]
  },
  {
   "cell_type": "code",
   "execution_count": 32,
   "metadata": {},
   "outputs": [
    {
     "name": "stdout",
     "output_type": "stream",
     "text": [
      "Correct result is 150000015000000.\n",
      "Final result is 0.\n",
      "WRONG!\n"
     ]
    }
   ],
   "source": [
    "import threading\n",
    "\n",
    " \n",
    "\n",
    "# The number to add.\n",
    "\n",
    "# Change this for your experiment\n",
    "\n",
    "n = 10000000\n",
    "\n",
    " \n",
    "\n",
    "# Result variable\n",
    "\n",
    "result = 0\n",
    "\n",
    " \n",
    "\n",
    "# Lock\n",
    "\n",
    "lock = threading.Lock()\n",
    "\n",
    " \n",
    "\n",
    "def thread1(count):\n",
    "\n",
    "    global result\n",
    "\n",
    " \n",
    "\n",
    "    x = 0\n",
    "\n",
    "    for i in range(1, count + 1):\n",
    "\n",
    "        x = x + i\n",
    "\n",
    "    lock.acquire()\n",
    "\n",
    "    result = x\n",
    "\n",
    "    lock.release()\n",
    "\n",
    " \n",
    "\n",
    "def thread2():\n",
    "\n",
    "    global result\n",
    "\n",
    "    lock.acquire()\n",
    "\n",
    "    result = result * 3\n",
    "\n",
    "    lock.release()\n",
    "\n",
    " \n",
    "\n",
    " \n",
    "\n",
    "th1 = threading.Thread(target = thread1, args=[n, ])\n",
    "\n",
    "th2 = threading.Thread(target = thread2)\n",
    "\n",
    " \n",
    "\n",
    "th1.start()\n",
    "\n",
    "th2.start()\n",
    "\n",
    " \n",
    "\n",
    "correct = n * (n + 1) / 2 * 3\n",
    "\n",
    "print(\"Correct result is %d.\" % correct)\n",
    "\n",
    "print(\"Final result is %d.\" % result)\n",
    "\n",
    " \n",
    "\n",
    "if result == correct:\n",
    "\n",
    "   print(\"CORRECT!\")\n",
    "\n",
    "else:\n",
    "\n",
    "    print(\"WRONG!\")"
   ]
  },
  {
   "cell_type": "code",
   "execution_count": 35,
   "metadata": {},
   "outputs": [
    {
     "name": "stdout",
     "output_type": "stream",
     "text": [
      "Correct result is 150000015000000.\n",
      "Final result is 0.\n",
      "WRONG!\n"
     ]
    }
   ],
   "source": [
    "\n",
    "import threading\n",
    "\n",
    " \n",
    "\n",
    "# The number to add.\n",
    "\n",
    "# Change this for your experiment\n",
    "\n",
    "n = 10000000\n",
    "\n",
    " \n",
    "\n",
    "# Result variable\n",
    "\n",
    "result = 0\n",
    "\n",
    " \n",
    "\n",
    "# Mutex lock to coordinate access to result\n",
    "\n",
    "lock = threading.Lock()\n",
    "\n",
    " \n",
    "\n",
    "def thread1(count):\n",
    "\n",
    "    global result\n",
    "\n",
    " \n",
    "\n",
    "    x = 0\n",
    "\n",
    "    for i in range(1, count + 1):\n",
    "\n",
    "        x = x + i\n",
    "\n",
    "    # Acquire lock before writing to result\n",
    "    lock.acquire()\n",
    "    result = x\n",
    "    # Release lock\n",
    "    lock.release()\n",
    "\n",
    " \n",
    "\n",
    "def thread2():\n",
    "\n",
    "    global result\n",
    "\n",
    "    # Acquire lock before reading or writing to result\n",
    "    lock.acquire()\n",
    "    result = result * 3\n",
    "    # Release lock\n",
    "    lock.release()\n",
    "\n",
    " \n",
    "\n",
    " \n",
    "\n",
    "th1 = threading.Thread(target = thread1, args=[n, ])\n",
    "\n",
    "th2 = threading.Thread(target = thread2)\n",
    "\n",
    " \n",
    "\n",
    "th1.start()\n",
    "\n",
    "th2.start()\n",
    "\n",
    " \n",
    "\n",
    "correct = n * (n + 1) / 2 * 3\n",
    "\n",
    "print(\"Correct result is %d.\" % correct)\n",
    "\n",
    "print(\"Final result is %d.\" % result)\n",
    "\n",
    " \n",
    "\n",
    "if result == correct:\n",
    "\n",
    "   print(\"CORRECT!\")\n",
    "\n",
    "else:\n",
    "\n",
    "    print(\"WRONG!\")"
   ]
  },
  {
   "cell_type": "code",
   "execution_count": 36,
   "metadata": {},
   "outputs": [],
   "source": [
    "\n",
    "def query(root, a, b):\n",
    "    if root is None:\n",
    "        return\n",
    "\n",
    "    if root.val >= a and root.val <= b:\n",
    "        print(root.val)\n",
    "\n",
    "    if root.left is not None:\n",
    "        query(root.left, a, b)\n",
    "\n",
    "    if root.right is not None:\n",
    "        query(root.right, a, b)"
   ]
  },
  {
   "cell_type": "code",
   "execution_count": 43,
   "metadata": {},
   "outputs": [
    {
     "name": "stdout",
     "output_type": "stream",
     "text": [
      "5\n",
      "3\n",
      "4\n",
      "6\n"
     ]
    }
   ],
   "source": [
    "\n",
    "class Node:\n",
    "    def __init__(self, val):\n",
    "        self.val = val\n",
    "        self.left = None\n",
    "        self.right = None\n",
    "        \n",
    "def test():\n",
    "    root = Node(5)\n",
    "    root.left = Node(3)\n",
    "    root.right = Node(7)\n",
    "    root.left.left = Node(2)\n",
    "    root.left.right = Node(4)\n",
    "    root.right.left = Node(6)\n",
    "    root.right.right = Node(8)\n",
    "\n",
    "    query(root, 3, 6)\n",
    "# prints 3, 4, 5, 6\n",
    "\n",
    "test()"
   ]
  }
 ],
 "metadata": {
  "kernelspec": {
   "display_name": "Python 3.8.10 64-bit",
   "language": "python",
   "name": "python3"
  },
  "language_info": {
   "codemirror_mode": {
    "name": "ipython",
    "version": 3
   },
   "file_extension": ".py",
   "mimetype": "text/x-python",
   "name": "python",
   "nbconvert_exporter": "python",
   "pygments_lexer": "ipython3",
   "version": "3.8.10"
  },
  "orig_nbformat": 4,
  "vscode": {
   "interpreter": {
    "hash": "916dbcbb3f70747c44a77c7bcd40155683ae19c65e1c03b4aa3499c5328201f1"
   }
  }
 },
 "nbformat": 4,
 "nbformat_minor": 2
}
